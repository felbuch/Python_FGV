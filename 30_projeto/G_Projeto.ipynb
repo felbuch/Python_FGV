{
 "cells": [
  {
   "cell_type": "markdown",
   "metadata": {},
   "source": [
    "Nesse projeto, vamos utilizar dados da [_American Communities Survey (ACS)](https://usa.ipums.org/usa/acs.shtml)_ para estudar a relação entre educação e salário. A ACS é uma pesquisa realizada pelo _Unites States Census Bureau_ (embora ele não seja \"O Censo\", que é uma contagem de cada pessoa nos EUA e ocorre a cada 10 anos) que mede várias características da população americana. Os dados com os quais vamos trabalhar inclui cerca de 100 variáveis referentes à pesquisa de 2017, e é uma amostra de 10% dos dados totais da ACS (que, por sua vez, é uma amostra de 1% da população americana. Então, nós estaremos trabalhando com um amostra de 0.1% da população dos EUA).\n",
    "\n",
    "Esses dados são disponibilizados pela [IPUMS](https://usa.ipums.org/usa/), que provê uma interface muito útil para conseguir acesso a amostras de importantes bases de dados, não apenas do governo americano, mas também de [governos mundo afora](https://international.ipums.org/international-action/sample_details).\n",
    "\n",
    "Esta é uma base de dados _real_, o que significa que você vai receber os dados exatamente como eles são providenciados pelo _IPUMS_. A documentação explicando o que é cada variável pode ser encontrada [aqui](https://usa.ipums.org/usa-action/variables/group) (você pode pesquisar pelo nome da variável, para descobrir o que ela significa, ou pesquisar por algo que você deseje encontrar, para ver qual o nome da variável que contém o que você procura).\n",
    "\n",
    "Nessa base de dados, você vai encontrar informações sobre o nível de escolaridade e os salários de uma porção representativa da população americana. Nós vamos usar esses dados para estimar o valor que o mercado de trabalho atribui a se formar no Ensino Médio (_high school_) ou na Faculdade (_college_), e para aprender um pouco mais sobre o significado de um diploma educacional.\n",
    "\n",
    "Os dados para esse projeto pode ser encontrado [aqui](https://github.com/nickeubank/MIDS_Data/tree/master/US_AmericanCommunitySurvey). Primeiro, importe a base `US_ACS_2017_10pct_sample.dta`. \n",
    "\n",
    "Note que o formato desse arquivo é `.dta`, e não `.csv`. Por isso, ao invés de usarmos a função `read_csv`, precisamos usar a função `read_stata`.\n",
    "\n",
    "Eu já escrevi o comando para você:"
   ]
  },
  {
   "cell_type": "code",
   "execution_count": 18,
   "metadata": {},
   "outputs": [],
   "source": [
    "import pandas as pd"
   ]
  },
  {
   "cell_type": "code",
   "execution_count": 19,
   "metadata": {},
   "outputs": [],
   "source": [
    "data = pd.read_stata('https://github.com/nickeubank/MIDS_Data/blob/master/US_AmericanCommunitySurvey/US_ACS_2017_10pct_sample.dta?raw=true')"
   ]
  },
  {
   "cell_type": "markdown",
   "metadata": {},
   "source": [
    "#### Quantas linhas têm essa base de dados? Quantas colunas?"
   ]
  },
  {
   "cell_type": "code",
   "execution_count": 20,
   "metadata": {},
   "outputs": [
    {
     "data": {
      "text/plain": [
       "(319004, 104)"
      ]
     },
     "execution_count": 20,
     "metadata": {},
     "output_type": "execute_result"
    }
   ],
   "source": [
    "#Resposta\n",
    "data.shape"
   ]
  },
  {
   "cell_type": "markdown",
   "metadata": {},
   "source": [
    "Vamos ver que variáveis temos na base. \n",
    "\n",
    "#### Primeiro, tente ver as variáveis usando `.columns`.\n"
   ]
  },
  {
   "cell_type": "code",
   "execution_count": 16,
   "metadata": {},
   "outputs": [
    {
     "data": {
      "text/plain": [
       "Index(['year', 'datanum', 'serial', 'cbserial', 'numprec', 'subsamp', 'hhwt',\n",
       "       'hhtype', 'cluster', 'adjust',\n",
       "       ...\n",
       "       'migcounty1', 'migmet131', 'vetdisab', 'diffrem', 'diffphys', 'diffmob',\n",
       "       'diffcare', 'diffsens', 'diffeye', 'diffhear'],\n",
       "      dtype='object', length=104)"
      ]
     },
     "execution_count": 16,
     "metadata": {},
     "output_type": "execute_result"
    }
   ],
   "source": [
    "#Resposta\n",
    "data.columns"
   ]
  },
  {
   "cell_type": "markdown",
   "metadata": {},
   "source": [
    "Repare as reticências! O Python não está te mostrando todas as variáveis da base. Vamos tentar algo diferente. \n",
    "\n",
    "#### Copie o código abaixo e substitua a lacuna por algo que imprimirá o nome de todas as colunas.\n",
    "\n",
    "```python\n",
    "for coluna in ___________:\n",
    "    print(coluna)\n",
    "```"
   ]
  },
  {
   "cell_type": "code",
   "execution_count": 17,
   "metadata": {},
   "outputs": [
    {
     "name": "stdout",
     "output_type": "stream",
     "text": [
      "year\n",
      "datanum\n",
      "serial\n",
      "cbserial\n",
      "numprec\n",
      "subsamp\n",
      "hhwt\n",
      "hhtype\n",
      "cluster\n",
      "adjust\n",
      "cpi99\n",
      "region\n",
      "stateicp\n",
      "statefip\n",
      "countyicp\n",
      "countyfip\n",
      "metro\n",
      "city\n",
      "citypop\n",
      "strata\n",
      "gq\n",
      "farm\n",
      "ownershp\n",
      "ownershpd\n",
      "mortgage\n",
      "mortgag2\n",
      "mortamt1\n",
      "mortamt2\n",
      "respmode\n",
      "pernum\n",
      "cbpernum\n",
      "perwt\n",
      "slwt\n",
      "famunit\n",
      "sex\n",
      "age\n",
      "marst\n",
      "birthyr\n",
      "race\n",
      "raced\n",
      "hispan\n",
      "hispand\n",
      "bpl\n",
      "bpld\n",
      "citizen\n",
      "yrnatur\n",
      "yrimmig\n",
      "language\n",
      "languaged\n",
      "speakeng\n",
      "hcovany\n",
      "hcovpriv\n",
      "hinsemp\n",
      "hinspur\n",
      "hinstri\n",
      "hcovpub\n",
      "hinscaid\n",
      "hinscare\n",
      "hinsva\n",
      "hinsihs\n",
      "school\n",
      "educ\n",
      "educd\n",
      "gradeatt\n",
      "gradeattd\n",
      "schltype\n",
      "degfield\n",
      "degfieldd\n",
      "degfield2\n",
      "degfield2d\n",
      "empstat\n",
      "empstatd\n",
      "labforce\n",
      "occ\n",
      "ind\n",
      "classwkr\n",
      "classwkrd\n",
      "looking\n",
      "availble\n",
      "inctot\n",
      "ftotinc\n",
      "incwage\n",
      "incbus00\n",
      "incss\n",
      "incwelfr\n",
      "incinvst\n",
      "incretir\n",
      "incsupp\n",
      "incother\n",
      "incearn\n",
      "poverty\n",
      "migrate1\n",
      "migrate1d\n",
      "migplac1\n",
      "migcounty1\n",
      "migmet131\n",
      "vetdisab\n",
      "diffrem\n",
      "diffphys\n",
      "diffmob\n",
      "diffcare\n",
      "diffsens\n",
      "diffeye\n",
      "diffhear\n"
     ]
    }
   ],
   "source": [
    "#Resposta\n",
    "for var in data.columns:\n",
    "    print(var)"
   ]
  },
  {
   "cell_type": "markdown",
   "metadata": {},
   "source": [
    "Quantas colunas! A maior parte dessas colunas não nos interessa. A vida é mais simples quando trabalhamos apenas com o essencial. Nesse projeto, a gente está interessado na relação entre educação e salários. Por isso, vamos selecionar apenas variáveis referentes a:\n",
    "\n",
    "* Idade (`age`)\n",
    "* Remuneração (`inctot`)\n",
    "* Edudação (`educ`)\n",
    "* Situação empregatícia i.e. se a pessoa está trabalhando no momento (`empstat`)\n",
    "\n",
    "As variáveis correspondentes a essas grandezas estão em parêntesis.\n",
    "\n",
    "#### Reduza o dataframe para conter apenas essas variáveis"
   ]
  },
  {
   "cell_type": "code",
   "execution_count": 21,
   "metadata": {},
   "outputs": [
    {
     "data": {
      "text/html": [
       "<div>\n",
       "<style scoped>\n",
       "    .dataframe tbody tr th:only-of-type {\n",
       "        vertical-align: middle;\n",
       "    }\n",
       "\n",
       "    .dataframe tbody tr th {\n",
       "        vertical-align: top;\n",
       "    }\n",
       "\n",
       "    .dataframe thead th {\n",
       "        text-align: right;\n",
       "    }\n",
       "</style>\n",
       "<table border=\"1\" class=\"dataframe\">\n",
       "  <thead>\n",
       "    <tr style=\"text-align: right;\">\n",
       "      <th></th>\n",
       "      <th>age</th>\n",
       "      <th>inctot</th>\n",
       "      <th>educ</th>\n",
       "      <th>empstat</th>\n",
       "    </tr>\n",
       "  </thead>\n",
       "  <tbody>\n",
       "    <tr>\n",
       "      <th>0</th>\n",
       "      <td>4</td>\n",
       "      <td>9999999</td>\n",
       "      <td>nursery school to grade 4</td>\n",
       "      <td>n/a</td>\n",
       "    </tr>\n",
       "    <tr>\n",
       "      <th>1</th>\n",
       "      <td>17</td>\n",
       "      <td>6000</td>\n",
       "      <td>grade 11</td>\n",
       "      <td>employed</td>\n",
       "    </tr>\n",
       "    <tr>\n",
       "      <th>2</th>\n",
       "      <td>63</td>\n",
       "      <td>6150</td>\n",
       "      <td>4 years of college</td>\n",
       "      <td>employed</td>\n",
       "    </tr>\n",
       "    <tr>\n",
       "      <th>3</th>\n",
       "      <td>66</td>\n",
       "      <td>14000</td>\n",
       "      <td>grade 12</td>\n",
       "      <td>not in labor force</td>\n",
       "    </tr>\n",
       "    <tr>\n",
       "      <th>4</th>\n",
       "      <td>1</td>\n",
       "      <td>9999999</td>\n",
       "      <td>n/a or no schooling</td>\n",
       "      <td>n/a</td>\n",
       "    </tr>\n",
       "  </tbody>\n",
       "</table>\n",
       "</div>"
      ],
      "text/plain": [
       "  age   inctot                       educ             empstat\n",
       "0   4  9999999  nursery school to grade 4                 n/a\n",
       "1  17     6000                   grade 11            employed\n",
       "2  63     6150         4 years of college            employed\n",
       "3  66    14000                   grade 12  not in labor force\n",
       "4   1  9999999        n/a or no schooling                 n/a"
      ]
     },
     "execution_count": 21,
     "metadata": {},
     "output_type": "execute_result"
    }
   ],
   "source": [
    "#Resposta\n",
    "data = data.loc[:,['age','inctot','educ','empstat']]\n",
    "data.head()"
   ]
  },
  {
   "cell_type": "markdown",
   "metadata": {},
   "source": [
    "Agora que nós temos uma base de dados focada no que nos interessa, é sempre bom dar uma olhada nos dados. A forma mais fácil de fazer isso é usando o método `.head()`, que mostra as primeiras 5 linhas da base, ou o método `.tail()`, que mostra as últimas 5.\n",
    "\n",
    "Mas para ter uma boa idéia da base, costuma ser melhor escolher linhas aleatórias. Se a base estiver ordenada por algum critério, as linhas do início ou do final podem não representar bem a base como um todo. É por isso que é melhor selecionar linhas aleatórias. Isso pode ser feito usando o método `.sample()`. \n",
    "\n",
    "#### Observe uma amostra aleatória de 20 linhas da base de dados"
   ]
  },
  {
   "cell_type": "code",
   "execution_count": 22,
   "metadata": {},
   "outputs": [
    {
     "data": {
      "text/html": [
       "<div>\n",
       "<style scoped>\n",
       "    .dataframe tbody tr th:only-of-type {\n",
       "        vertical-align: middle;\n",
       "    }\n",
       "\n",
       "    .dataframe tbody tr th {\n",
       "        vertical-align: top;\n",
       "    }\n",
       "\n",
       "    .dataframe thead th {\n",
       "        text-align: right;\n",
       "    }\n",
       "</style>\n",
       "<table border=\"1\" class=\"dataframe\">\n",
       "  <thead>\n",
       "    <tr style=\"text-align: right;\">\n",
       "      <th></th>\n",
       "      <th>age</th>\n",
       "      <th>inctot</th>\n",
       "      <th>educ</th>\n",
       "      <th>empstat</th>\n",
       "    </tr>\n",
       "  </thead>\n",
       "  <tbody>\n",
       "    <tr>\n",
       "      <th>263592</th>\n",
       "      <td>55</td>\n",
       "      <td>32000</td>\n",
       "      <td>1 year of college</td>\n",
       "      <td>employed</td>\n",
       "    </tr>\n",
       "    <tr>\n",
       "      <th>247599</th>\n",
       "      <td>88</td>\n",
       "      <td>35500</td>\n",
       "      <td>grade 12</td>\n",
       "      <td>not in labor force</td>\n",
       "    </tr>\n",
       "    <tr>\n",
       "      <th>249250</th>\n",
       "      <td>59</td>\n",
       "      <td>60000</td>\n",
       "      <td>1 year of college</td>\n",
       "      <td>employed</td>\n",
       "    </tr>\n",
       "    <tr>\n",
       "      <th>169211</th>\n",
       "      <td>52</td>\n",
       "      <td>22000</td>\n",
       "      <td>4 years of college</td>\n",
       "      <td>employed</td>\n",
       "    </tr>\n",
       "    <tr>\n",
       "      <th>292905</th>\n",
       "      <td>38</td>\n",
       "      <td>0</td>\n",
       "      <td>grade 12</td>\n",
       "      <td>not in labor force</td>\n",
       "    </tr>\n",
       "    <tr>\n",
       "      <th>32309</th>\n",
       "      <td>82</td>\n",
       "      <td>7200</td>\n",
       "      <td>grade 9</td>\n",
       "      <td>not in labor force</td>\n",
       "    </tr>\n",
       "    <tr>\n",
       "      <th>253456</th>\n",
       "      <td>18</td>\n",
       "      <td>200</td>\n",
       "      <td>grade 12</td>\n",
       "      <td>not in labor force</td>\n",
       "    </tr>\n",
       "    <tr>\n",
       "      <th>152104</th>\n",
       "      <td>19</td>\n",
       "      <td>110</td>\n",
       "      <td>grade 12</td>\n",
       "      <td>employed</td>\n",
       "    </tr>\n",
       "    <tr>\n",
       "      <th>287072</th>\n",
       "      <td>10</td>\n",
       "      <td>9999999</td>\n",
       "      <td>nursery school to grade 4</td>\n",
       "      <td>n/a</td>\n",
       "    </tr>\n",
       "    <tr>\n",
       "      <th>172767</th>\n",
       "      <td>39</td>\n",
       "      <td>17700</td>\n",
       "      <td>grade 12</td>\n",
       "      <td>not in labor force</td>\n",
       "    </tr>\n",
       "    <tr>\n",
       "      <th>74886</th>\n",
       "      <td>90 (90+ in 1980 and 1990)</td>\n",
       "      <td>32700</td>\n",
       "      <td>grade 5, 6, 7, or 8</td>\n",
       "      <td>not in labor force</td>\n",
       "    </tr>\n",
       "    <tr>\n",
       "      <th>301709</th>\n",
       "      <td>64</td>\n",
       "      <td>12600</td>\n",
       "      <td>4 years of college</td>\n",
       "      <td>not in labor force</td>\n",
       "    </tr>\n",
       "    <tr>\n",
       "      <th>230155</th>\n",
       "      <td>57</td>\n",
       "      <td>131200</td>\n",
       "      <td>grade 12</td>\n",
       "      <td>employed</td>\n",
       "    </tr>\n",
       "    <tr>\n",
       "      <th>302142</th>\n",
       "      <td>59</td>\n",
       "      <td>28500</td>\n",
       "      <td>grade 12</td>\n",
       "      <td>employed</td>\n",
       "    </tr>\n",
       "    <tr>\n",
       "      <th>103101</th>\n",
       "      <td>69</td>\n",
       "      <td>50000</td>\n",
       "      <td>grade 12</td>\n",
       "      <td>not in labor force</td>\n",
       "    </tr>\n",
       "    <tr>\n",
       "      <th>195247</th>\n",
       "      <td>6</td>\n",
       "      <td>9999999</td>\n",
       "      <td>nursery school to grade 4</td>\n",
       "      <td>n/a</td>\n",
       "    </tr>\n",
       "    <tr>\n",
       "      <th>261244</th>\n",
       "      <td>40</td>\n",
       "      <td>6000</td>\n",
       "      <td>2 years of college</td>\n",
       "      <td>employed</td>\n",
       "    </tr>\n",
       "    <tr>\n",
       "      <th>228899</th>\n",
       "      <td>53</td>\n",
       "      <td>5000</td>\n",
       "      <td>grade 12</td>\n",
       "      <td>employed</td>\n",
       "    </tr>\n",
       "    <tr>\n",
       "      <th>87290</th>\n",
       "      <td>80</td>\n",
       "      <td>18100</td>\n",
       "      <td>grade 12</td>\n",
       "      <td>not in labor force</td>\n",
       "    </tr>\n",
       "    <tr>\n",
       "      <th>243200</th>\n",
       "      <td>45</td>\n",
       "      <td>96000</td>\n",
       "      <td>5+ years of college</td>\n",
       "      <td>not in labor force</td>\n",
       "    </tr>\n",
       "  </tbody>\n",
       "</table>\n",
       "</div>"
      ],
      "text/plain": [
       "                              age   inctot                       educ  \\\n",
       "263592                         55    32000          1 year of college   \n",
       "247599                         88    35500                   grade 12   \n",
       "249250                         59    60000          1 year of college   \n",
       "169211                         52    22000         4 years of college   \n",
       "292905                         38        0                   grade 12   \n",
       "32309                          82     7200                    grade 9   \n",
       "253456                         18      200                   grade 12   \n",
       "152104                         19      110                   grade 12   \n",
       "287072                         10  9999999  nursery school to grade 4   \n",
       "172767                         39    17700                   grade 12   \n",
       "74886   90 (90+ in 1980 and 1990)    32700        grade 5, 6, 7, or 8   \n",
       "301709                         64    12600         4 years of college   \n",
       "230155                         57   131200                   grade 12   \n",
       "302142                         59    28500                   grade 12   \n",
       "103101                         69    50000                   grade 12   \n",
       "195247                          6  9999999  nursery school to grade 4   \n",
       "261244                         40     6000         2 years of college   \n",
       "228899                         53     5000                   grade 12   \n",
       "87290                          80    18100                   grade 12   \n",
       "243200                         45    96000        5+ years of college   \n",
       "\n",
       "                   empstat  \n",
       "263592            employed  \n",
       "247599  not in labor force  \n",
       "249250            employed  \n",
       "169211            employed  \n",
       "292905  not in labor force  \n",
       "32309   not in labor force  \n",
       "253456  not in labor force  \n",
       "152104            employed  \n",
       "287072                 n/a  \n",
       "172767  not in labor force  \n",
       "74886   not in labor force  \n",
       "301709  not in labor force  \n",
       "230155            employed  \n",
       "302142            employed  \n",
       "103101  not in labor force  \n",
       "195247                 n/a  \n",
       "261244            employed  \n",
       "228899            employed  \n",
       "87290   not in labor force  \n",
       "243200  not in labor force  "
      ]
     },
     "execution_count": 22,
     "metadata": {},
     "output_type": "execute_result"
    }
   ],
   "source": [
    "#Resposta\n",
    "data.sample(20)"
   ]
  },
  {
   "cell_type": "markdown",
   "metadata": {},
   "source": [
    "Você vê algum problema com a base? \n",
    "\n",
    "#### Escreva abaixo alguns problemas que você percebe nesta base\n"
   ]
  },
  {
   "cell_type": "markdown",
   "metadata": {},
   "source": [
    "Resposta\n",
    "* A\n",
    "* B\n",
    "* C\n",
    "* D"
   ]
  },
  {
   "cell_type": "markdown",
   "metadata": {},
   "source": [
    "Um problema é que muita gente parece ter uma remuneração de $9,999,999. Além disso, pessoas com essa remuneração parecem ser crianças.\n",
    "\n",
    "O que você está observando é um método (antiquado) de representar dados faltando. Neste caso, o valor 9999999 é usado para representar observações para as quais não se tem a informação (por exemplo, casos em que a pessoa é jovem demais para trabalhar e, portanto, não tem renda).\n",
    "\n",
    "Vamos começar retirando da base todas as pessoas cuja renda é igual a 9999999. "
   ]
  },
  {
   "cell_type": "markdown",
   "metadata": {},
   "source": [
    "#### Retire da base as pessoas cuja renda é igual a 9999999\n",
    "Depois, mostre novamente uma amostra de 20 linhas, para comprovar que o problema foi resolvido."
   ]
  },
  {
   "cell_type": "code",
   "execution_count": 27,
   "metadata": {},
   "outputs": [],
   "source": [
    "#Resposta\n",
    "data = data[data.inctot != 9999999]"
   ]
  },
  {
   "cell_type": "code",
   "execution_count": 28,
   "metadata": {},
   "outputs": [
    {
     "data": {
      "text/html": [
       "<div>\n",
       "<style scoped>\n",
       "    .dataframe tbody tr th:only-of-type {\n",
       "        vertical-align: middle;\n",
       "    }\n",
       "\n",
       "    .dataframe tbody tr th {\n",
       "        vertical-align: top;\n",
       "    }\n",
       "\n",
       "    .dataframe thead th {\n",
       "        text-align: right;\n",
       "    }\n",
       "</style>\n",
       "<table border=\"1\" class=\"dataframe\">\n",
       "  <thead>\n",
       "    <tr style=\"text-align: right;\">\n",
       "      <th></th>\n",
       "      <th>age</th>\n",
       "      <th>inctot</th>\n",
       "      <th>educ</th>\n",
       "      <th>empstat</th>\n",
       "    </tr>\n",
       "  </thead>\n",
       "  <tbody>\n",
       "    <tr>\n",
       "      <th>284921</th>\n",
       "      <td>95</td>\n",
       "      <td>23600</td>\n",
       "      <td>grade 10</td>\n",
       "      <td>not in labor force</td>\n",
       "    </tr>\n",
       "    <tr>\n",
       "      <th>284008</th>\n",
       "      <td>52</td>\n",
       "      <td>425000</td>\n",
       "      <td>5+ years of college</td>\n",
       "      <td>employed</td>\n",
       "    </tr>\n",
       "    <tr>\n",
       "      <th>9908</th>\n",
       "      <td>60</td>\n",
       "      <td>0</td>\n",
       "      <td>grade 5, 6, 7, or 8</td>\n",
       "      <td>not in labor force</td>\n",
       "    </tr>\n",
       "    <tr>\n",
       "      <th>287946</th>\n",
       "      <td>38</td>\n",
       "      <td>6000</td>\n",
       "      <td>grade 12</td>\n",
       "      <td>employed</td>\n",
       "    </tr>\n",
       "    <tr>\n",
       "      <th>196026</th>\n",
       "      <td>84</td>\n",
       "      <td>2100</td>\n",
       "      <td>grade 12</td>\n",
       "      <td>not in labor force</td>\n",
       "    </tr>\n",
       "    <tr>\n",
       "      <th>21477</th>\n",
       "      <td>16</td>\n",
       "      <td>0</td>\n",
       "      <td>grade 10</td>\n",
       "      <td>not in labor force</td>\n",
       "    </tr>\n",
       "    <tr>\n",
       "      <th>308555</th>\n",
       "      <td>70</td>\n",
       "      <td>53000</td>\n",
       "      <td>grade 11</td>\n",
       "      <td>employed</td>\n",
       "    </tr>\n",
       "    <tr>\n",
       "      <th>232584</th>\n",
       "      <td>65</td>\n",
       "      <td>400300</td>\n",
       "      <td>grade 12</td>\n",
       "      <td>employed</td>\n",
       "    </tr>\n",
       "    <tr>\n",
       "      <th>238305</th>\n",
       "      <td>51</td>\n",
       "      <td>0</td>\n",
       "      <td>4 years of college</td>\n",
       "      <td>not in labor force</td>\n",
       "    </tr>\n",
       "    <tr>\n",
       "      <th>66803</th>\n",
       "      <td>48</td>\n",
       "      <td>60000</td>\n",
       "      <td>4 years of college</td>\n",
       "      <td>employed</td>\n",
       "    </tr>\n",
       "    <tr>\n",
       "      <th>64583</th>\n",
       "      <td>65</td>\n",
       "      <td>20000</td>\n",
       "      <td>grade 11</td>\n",
       "      <td>not in labor force</td>\n",
       "    </tr>\n",
       "    <tr>\n",
       "      <th>119583</th>\n",
       "      <td>15</td>\n",
       "      <td>3500</td>\n",
       "      <td>grade 9</td>\n",
       "      <td>n/a</td>\n",
       "    </tr>\n",
       "    <tr>\n",
       "      <th>154344</th>\n",
       "      <td>28</td>\n",
       "      <td>0</td>\n",
       "      <td>n/a or no schooling</td>\n",
       "      <td>not in labor force</td>\n",
       "    </tr>\n",
       "    <tr>\n",
       "      <th>57985</th>\n",
       "      <td>19</td>\n",
       "      <td>0</td>\n",
       "      <td>1 year of college</td>\n",
       "      <td>not in labor force</td>\n",
       "    </tr>\n",
       "    <tr>\n",
       "      <th>214787</th>\n",
       "      <td>16</td>\n",
       "      <td>500</td>\n",
       "      <td>grade 9</td>\n",
       "      <td>not in labor force</td>\n",
       "    </tr>\n",
       "    <tr>\n",
       "      <th>99869</th>\n",
       "      <td>51</td>\n",
       "      <td>21600</td>\n",
       "      <td>1 year of college</td>\n",
       "      <td>not in labor force</td>\n",
       "    </tr>\n",
       "    <tr>\n",
       "      <th>164620</th>\n",
       "      <td>87</td>\n",
       "      <td>55500</td>\n",
       "      <td>1 year of college</td>\n",
       "      <td>not in labor force</td>\n",
       "    </tr>\n",
       "    <tr>\n",
       "      <th>65157</th>\n",
       "      <td>30</td>\n",
       "      <td>7000</td>\n",
       "      <td>2 years of college</td>\n",
       "      <td>not in labor force</td>\n",
       "    </tr>\n",
       "    <tr>\n",
       "      <th>310986</th>\n",
       "      <td>16</td>\n",
       "      <td>0</td>\n",
       "      <td>grade 9</td>\n",
       "      <td>not in labor force</td>\n",
       "    </tr>\n",
       "    <tr>\n",
       "      <th>227642</th>\n",
       "      <td>40</td>\n",
       "      <td>0</td>\n",
       "      <td>grade 12</td>\n",
       "      <td>not in labor force</td>\n",
       "    </tr>\n",
       "  </tbody>\n",
       "</table>\n",
       "</div>"
      ],
      "text/plain": [
       "       age  inctot                 educ             empstat\n",
       "284921  95   23600             grade 10  not in labor force\n",
       "284008  52  425000  5+ years of college            employed\n",
       "9908    60       0  grade 5, 6, 7, or 8  not in labor force\n",
       "287946  38    6000             grade 12            employed\n",
       "196026  84    2100             grade 12  not in labor force\n",
       "21477   16       0             grade 10  not in labor force\n",
       "308555  70   53000             grade 11            employed\n",
       "232584  65  400300             grade 12            employed\n",
       "238305  51       0   4 years of college  not in labor force\n",
       "66803   48   60000   4 years of college            employed\n",
       "64583   65   20000             grade 11  not in labor force\n",
       "119583  15    3500              grade 9                 n/a\n",
       "154344  28       0  n/a or no schooling  not in labor force\n",
       "57985   19       0    1 year of college  not in labor force\n",
       "214787  16     500              grade 9  not in labor force\n",
       "99869   51   21600    1 year of college  not in labor force\n",
       "164620  87   55500    1 year of college  not in labor force\n",
       "65157   30    7000   2 years of college  not in labor force\n",
       "310986  16       0              grade 9  not in labor force\n",
       "227642  40       0             grade 12  not in labor force"
      ]
     },
     "execution_count": 28,
     "metadata": {},
     "output_type": "execute_result"
    }
   ],
   "source": [
    "data.sample(20)"
   ]
  },
  {
   "cell_type": "markdown",
   "metadata": {},
   "source": [
    "OK, outro problema potencial é que nossos dados incluem várias pessoas que estão desempregadas e pessoas que não pertencem à força de trabalho (ou seja, pessoas que não tem um emprego mas também não estão producrando por um). Para esta análise, queremos focar em pessoas que _estão_ empregadas. Por isso, \n",
    "\n",
    "#### Selecione apenas as pessoas empregadas (i.e., pessoas cuja variável `empstat` é igual a _employed_)\n",
    "Mostre uma amostra aleatória de 5 linhas para comprovar que o filtro funcionou."
   ]
  },
  {
   "cell_type": "code",
   "execution_count": 30,
   "metadata": {},
   "outputs": [
    {
     "data": {
      "text/html": [
       "<div>\n",
       "<style scoped>\n",
       "    .dataframe tbody tr th:only-of-type {\n",
       "        vertical-align: middle;\n",
       "    }\n",
       "\n",
       "    .dataframe tbody tr th {\n",
       "        vertical-align: top;\n",
       "    }\n",
       "\n",
       "    .dataframe thead th {\n",
       "        text-align: right;\n",
       "    }\n",
       "</style>\n",
       "<table border=\"1\" class=\"dataframe\">\n",
       "  <thead>\n",
       "    <tr style=\"text-align: right;\">\n",
       "      <th></th>\n",
       "      <th>age</th>\n",
       "      <th>inctot</th>\n",
       "      <th>educ</th>\n",
       "      <th>empstat</th>\n",
       "    </tr>\n",
       "  </thead>\n",
       "  <tbody>\n",
       "    <tr>\n",
       "      <th>32365</th>\n",
       "      <td>55</td>\n",
       "      <td>45000</td>\n",
       "      <td>5+ years of college</td>\n",
       "      <td>employed</td>\n",
       "    </tr>\n",
       "    <tr>\n",
       "      <th>164717</th>\n",
       "      <td>56</td>\n",
       "      <td>24000</td>\n",
       "      <td>grade 9</td>\n",
       "      <td>employed</td>\n",
       "    </tr>\n",
       "    <tr>\n",
       "      <th>226789</th>\n",
       "      <td>68</td>\n",
       "      <td>120530</td>\n",
       "      <td>5+ years of college</td>\n",
       "      <td>employed</td>\n",
       "    </tr>\n",
       "    <tr>\n",
       "      <th>275154</th>\n",
       "      <td>61</td>\n",
       "      <td>57000</td>\n",
       "      <td>2 years of college</td>\n",
       "      <td>employed</td>\n",
       "    </tr>\n",
       "    <tr>\n",
       "      <th>260707</th>\n",
       "      <td>63</td>\n",
       "      <td>7000</td>\n",
       "      <td>n/a or no schooling</td>\n",
       "      <td>employed</td>\n",
       "    </tr>\n",
       "  </tbody>\n",
       "</table>\n",
       "</div>"
      ],
      "text/plain": [
       "       age  inctot                 educ   empstat\n",
       "32365   55   45000  5+ years of college  employed\n",
       "164717  56   24000              grade 9  employed\n",
       "226789  68  120530  5+ years of college  employed\n",
       "275154  61   57000   2 years of college  employed\n",
       "260707  63    7000  n/a or no schooling  employed"
      ]
     },
     "execution_count": 30,
     "metadata": {},
     "output_type": "execute_result"
    }
   ],
   "source": [
    "#Resposta\n",
    "data = data.loc[data.empstat == 'employed']\n",
    "data.sample(5)"
   ]
  },
  {
   "cell_type": "markdown",
   "metadata": {},
   "source": [
    "Note que a nossa decisão de olhar apenas para pessoas que estão empregadas afeta como a gente deverá interpretar as nossas conclusões sobre a relação entre educação e trabalho. Como a gente está olhando apenas para pessoas que estão empregadas, e gente estará analisando a relação entre educação e remuneração para pessoas empregadas. Isso significa que se a educação aumenta as chances de alguém estar empregado, isso é algo que a gente não vai conseguir observar na nossa análise. (Economistas chamam isso de \"margem intensiva\", enquanto que a análise sobre se pessoas conseguem ou não arranjar um emprego se chama \"margem extensiva\")\n"
   ]
  },
  {
   "cell_type": "markdown",
   "metadata": {},
   "source": [
    "Agora, vamos abordar a questão da educação. A variável `educ` parece ter vários valores que são essencialmente categorias (chamamos de valores _discretos_, por oposição a valores _contínuos_). Vamos ver que valores existem e qual é a frequência de cada um deles usando o método `.value_counts()`. Esse método é muito útil e você vai usá-lo muito! \n",
    "\n",
    "#### Use o método `.value_counts()` na variável `educ` para ver quais os valores possiveis dessa variável e qual a frequência de cada um deles"
   ]
  },
  {
   "cell_type": "code",
   "execution_count": 32,
   "metadata": {},
   "outputs": [
    {
     "data": {
      "text/plain": [
       "grade 12                     47815\n",
       "4 years of college           33174\n",
       "1 year of college            22899\n",
       "5+ years of college          20995\n",
       "2 years of college           14077\n",
       "grade 11                      2747\n",
       "grade 5, 6, 7, or 8           2092\n",
       "grade 10                      1910\n",
       "n/a or no schooling           1291\n",
       "grade 9                       1290\n",
       "nursery school to grade 4      468\n",
       "Name: educ, dtype: int64"
      ]
     },
     "execution_count": 32,
     "metadata": {},
     "output_type": "execute_result"
    }
   ],
   "source": [
    "#Resposta\n",
    "data['educ'].value_counts()"
   ]
  },
  {
   "cell_type": "markdown",
   "metadata": {},
   "source": [
    "Existem vários valores possíveis e nem todos interessam.Vamos focar em apenas alguns.\n",
    "\n",
    "#### Qual é o valor médio de remuneração (`inctot`) para pessoas que têm o Ensino Médio completo?\n",
    "Obs.: Isso corresponde a ter uma escolaridade máxima (`educ`) igual a _grade 12_\n"
   ]
  },
  {
   "cell_type": "code",
   "execution_count": 43,
   "metadata": {},
   "outputs": [
    {
     "data": {
      "text/plain": [
       "38957.76068179442"
      ]
     },
     "execution_count": 43,
     "metadata": {},
     "output_type": "execute_result"
    }
   ],
   "source": [
    "#Resposta\n",
    "data.loc[data.educ == 'grade 12','inctot'].mean()"
   ]
  },
  {
   "cell_type": "markdown",
   "metadata": {},
   "source": [
    "#### Qual é o valor médio de remuneração (`inctot`) para pessoas que concluíram a faculdade (`educ` igual a \"4 years of college\")?  O que isso sugere sobre o valor de se formar na faculdade, após concluir o Ensino Médio?"
   ]
  },
  {
   "cell_type": "code",
   "execution_count": 44,
   "metadata": {},
   "outputs": [
    {
     "data": {
      "text/plain": [
       "75485.05293301983"
      ]
     },
     "execution_count": 44,
     "metadata": {},
     "output_type": "execute_result"
    }
   ],
   "source": [
    "#Resposta\n",
    "data.loc[data.educ == '4 years of college','inctot'].mean()"
   ]
  },
  {
   "cell_type": "code",
   "execution_count": 45,
   "metadata": {},
   "outputs": [],
   "source": [
    "#Discutir que o valor do diploma universitário é a diferença entre este valor e o anterior"
   ]
  },
  {
   "cell_type": "markdown",
   "metadata": {},
   "source": [
    "#### Qual é o valor médio de remuneração (`inctot`) para pessoas que não concluíram o Ensino Médio? O que isso sugere sobre o valor de um diploma de conclusão do Ensino Médio?"
   ]
  },
  {
   "cell_type": "code",
   "execution_count": 46,
   "metadata": {},
   "outputs": [
    {
     "data": {
      "text/plain": [
       "21541.68693119767"
      ]
     },
     "execution_count": 46,
     "metadata": {},
     "output_type": "execute_result"
    }
   ],
   "source": [
    "#Resposta\n",
    "data.loc[data.educ == 'grade 11','inctot'].mean()"
   ]
  },
  {
   "cell_type": "markdown",
   "metadata": {},
   "source": [
    "#### Calcule as seguintes quantidades:\n",
    "\n",
    "* Remuneração média para alguém que completou apenas a 9a série: ______________  \n",
    "* Remuneração média para alguém que completou apenas a 10a série: ______________  \n",
    "* Remuneração média para alguém que completou apenas a 11a série: ______________  \n",
    "* Remuneração média para alguém que completou o ensino médio (12a série): ______________  \n",
    "* Remuneração média para alguém que cursou 1 ano de faculdade mas largou (1 year of college): ____________\n",
    "* Remuneração média para alguém que cursou 2 anos de faculdade mas largou (2 years of college): ____________\n",
    "* Remuneração média para alguém que completou 4 anos de faculdade (que, para a maior parte dos cursos dos EUA, significa que a pessoa se formou na faculdade): ______________  \n",
    "\n",
    "Dica: Você pode usar suas respostas para os itens anteriores para fazer uma função. Depois, basta aplicar a função a cada caso.\n"
   ]
  },
  {
   "cell_type": "code",
   "execution_count": 59,
   "metadata": {},
   "outputs": [
    {
     "name": "stdout",
     "output_type": "stream",
     "text": [
      "grade 9: 27172\n",
      "grade 10: 23019\n",
      "grade 11: 21542\n",
      "grade 12: 38958\n",
      "1 year of college: 43124\n",
      "2 years of college: 48679\n",
      "4 years of college: 75485\n"
     ]
    }
   ],
   "source": [
    "#Resposta\n",
    "def remuneracao(grupo):\n",
    "    media = data.loc[data.educ == grupo,'inctot'].mean()\n",
    "    print(f'{grupo}: {media:.0f}')\n",
    "\n",
    "remuneracao('grade 9')\n",
    "remuneracao('grade 10')\n",
    "remuneracao('grade 11')\n",
    "remuneracao('grade 12')\n",
    "remuneracao('1 year of college')\n",
    "remuneracao('2 years of college')\n",
    "remuneracao('4 years of college')\n"
   ]
  },
  {
   "cell_type": "markdown",
   "metadata": {},
   "source": [
    "Você viu o que eu vi? Não faz muita diferença ir da $9^a$ série para a $10^a$, ou da $10^a$ para a $11^a$. Mas faz uma diferença _gigante_ sair da $11^a$ para efetivamente concluir o Ensino Médio ($12^a$ série).\n",
    "\n",
    "Na faculdade acontece a mesma coisa. Fazer 1 ano ou 2 anos não muda nada. Mas concluir a faculdade.... aí sim a diferença no salário fica expressiva!\n",
    "\n",
    "#### Por que você acha que isso acontece?"
   ]
  },
  {
   "cell_type": "code",
   "execution_count": 60,
   "metadata": {},
   "outputs": [],
   "source": [
    "#Resposta"
   ]
  },
  {
   "cell_type": "markdown",
   "metadata": {},
   "source": [
    "Parabéns! Você acaba de descobrir o _efeito da pele de cordeiro_ ([sheepskin effect](https://en.wikipedia.org/wiki/Sheepskin_effect#:~:text=The%20sheepskin%20effect%20is%20an%20applied%20economics%20theory,effect%20of%20possession%20of%20such%20an%20academic%20degree.)): pessoas com diplomas tendem a ganhar salários significativamente maiores do que pessoas que têm quase o mesmo nível de educação, mas não chegaram a efetivamente obter o diploma.\n",
    "\n",
    "Em Economia, isso é visto como evidência de que o motivo pelo qual empresas pagam mais a profissionais que têm faculdade do que a profissionais que não têm faculdade _não é_ porque elas acreditam que a faculdade lhes ensinou conteúdos importantes para o mercado de trabalho. Se esse fosse o caso, a gente esperaria que os salários crescessem progressivamente com cada ano de faculdade, já que a cada ano se aprende mais.\n",
    "\n",
    "Ao invés disso, esses resultados sugerem que empresas pagam mais para pessoas que têm um diploma universitário porque elas acreditam que esses profissionais são o tipo de pessoa que são mais prováveis de serem bem sucedidas nos seus trabalhos. Concluir uma faculdade, em outras palavras, não é apenas uma questão de acumular conhecimento. É também uma questão de sinalizar para o seu futuro empregador que você é o tipo de pessoa que consegue vencer o desafio de concluir uma faculdade, o que sugere que você também é o tipo de pessoa que vai conseguir vencer os desafios da vida profissional.\n",
    "\n",
    "(Obviamente, talvez os empregadores estejam completamente errados nessa conclusão. Pode ser. Não sabemos. Mas, estejam eles certos ou errados, aparentemente é assim que eles pensam).\n",
    "\n",
    "Em outras palavras, aos olhos dos empregadores, um diploma de faculdade é um _sinal_ sobre que tipo de pessoa você é, não um atestado de que você aprendeu determinados conteúdos acadêmicos. Essa idéia rendeu a [Michael Spence](https://en.wikipedia.org/wiki/Michael_Spence) o Prêmio Nobel de Economia."
   ]
  }
 ],
 "metadata": {
  "kernelspec": {
   "display_name": "Python 3",
   "language": "python",
   "name": "python3"
  },
  "language_info": {
   "codemirror_mode": {
    "name": "ipython",
    "version": 3
   },
   "file_extension": ".py",
   "mimetype": "text/x-python",
   "name": "python",
   "nbconvert_exporter": "python",
   "pygments_lexer": "ipython3",
   "version": "3.7.1"
  }
 },
 "nbformat": 4,
 "nbformat_minor": 4
}
