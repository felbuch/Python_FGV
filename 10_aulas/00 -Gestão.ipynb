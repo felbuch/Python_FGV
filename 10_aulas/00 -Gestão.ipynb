{
 "cells": [
  {
   "cell_type": "markdown",
   "metadata": {},
   "source": [
    "## Avaliação\n",
    "\n",
    "A avaliação será feita por meio de:\n",
    "\n",
    "1. Listas de exercícios (30%)\n",
    "2. Projeto final (30%)\n",
    "3. Prova (30%)\n",
    "5. Participação (10%)\n",
    "\n",
    "Ao final de cada aula, tem uma **lista de exercícios** (exceto a última).  \n",
    "Cada lista deve ser entregue até 1 minuto antes do horário de início da aula seguinte.  \n",
    "As listas são individuais (veja seção _Colaboração_ adiante)\n",
    "\n",
    "O **projeto** deve ser entregue até a meia-noite de domingo após a aula do Notebook _90 - Data Science_.\n",
    "Essa aula não terá lista, para que vocês tenham mais tempo para fazer o projeto e estudar para a prova.\n",
    "O projeto será feito em grupo de 3 pessoas.  \n",
    "Podem escolher quem vai ser do grupo de vocês! -- divirtam-se :)\n",
    "\n",
    "A **prova** será feita individualmente, no dia determinado pela Escola.\n",
    "\n",
    "A **participação** depende de você ter ido às aulas, ter interagido, tirado dúvidas, sido pontual e, enfim, ter agido como se espera de aluno da EBAPE."
   ]
  },
  {
   "cell_type": "markdown",
   "metadata": {},
   "source": [
    "## Numeração das aulas\n",
    "\n",
    "As aulas são numeradas: 10, 20, 30 etc.  \n",
    "As listas seguem a mesma numeração. Listas com número entre 10 e 19, por exemplo, falam de conteúdos abordados na aula 10 e devem ser entregues antes da aula 20.  \n",
    "Da mesma forma, as aplicações práticas com números entre 10 e 19, também falam sobre conteúdos abordados _até_ a aula 10. Isso significa que, a partir da aula 10, você já pode assistir o vídeo"
   ]
  },
  {
   "cell_type": "markdown",
   "metadata": {},
   "source": [
    "## Material do curso\n",
    "\n",
    "O material desse curso se divide em:\n",
    "\n",
    "1. aulas\n",
    "2. listas de exercícios\n",
    "3. aplicações práticas\n",
    "4. material suplementar\n",
    "\n",
    "### Aulas\n",
    "\n",
    "As aulas contém o conteúdo que será cobrado para fins de avaliação.  \n",
    "Se você não sabe nada sobre Python, você vai aprender assistindo as aulas.  \n",
    "Pouco a pouco, as aulas vão introduzindo novas \"coisas\" que você consegue fazer com Python.  \n",
    "\n",
    "O objetivo das aulas não é esgotar tudo o que se pode fazer com Python (isso é impossível!).\n",
    "O objetivo é capacitar você a começar a sua jornada, que será continuada em outras disciplinas do seu curso.\n",
    "Especificamente, eu vou ficar muito feliz se, ao final das aulas, você conseguir:\n",
    "\n",
    "1. Escrever um código em Python sem \"travar\" o tempo todo;\n",
    "2. Quando \"travar\", conseguir procurar no Google uma solução e aplicar ao seu problema.\n",
    "\n",
    "### Listas\n",
    "\n",
    "Ao final de cada aula, tem uma lista de exercício.  \n",
    "As listas cobrem o tema coberto naquela aula.  \n",
    "Cada lista deve ser entregue até 1 minuto antes do horário de início da aula seguinte.\n",
    "\n",
    "Se você conseguir fazer as **listas** sozinho, isso é um bom sinal de que você está bem preparado para passar no curso.\n",
    "\n",
    "### Aplicações práticas\n",
    "\n",
    "As aplicações práticas dão um \"gostinho\" de como o conteúdo que estamos aprendendo é usado para resolver problemas reais de Administração. Muitas vezes, isso envolve conceitos mais avançados de Administração, Cálculo ou Estatística, que você ainda não viu. Por isso, **se você não entender 100%, tudo bem**. O objetivo não é que você saiba fazer o que está nas aplicações práticas (só mais tarde, lá pelo meio da faculdade). Mas eu queria dar um gostinho do que está por vir, até para que o nosso curso não fique muito abstrato. Os objetivos das aplicações práticas são:\n",
    "* responder a perguntas do tipo \"pra que que isso serve?\"\n",
    "* dar um gostinho de Administração e do que vem pela frente\n",
    "* mostrar um pouco onde que Python se usa na vida das empresas, mesmo que vocês ainda estejam apenas começando a vida profissional de vocês\n",
    "\n",
    "**Eu _gostaria_, de coração, que você conseguisse _entender a programação_ das aplicações práticas, e _apreciar os problemas de Administração_ que eles resolvem, mesmo que você não entenda ainda o porquê de tudo.**\n",
    "\n",
    "Se você conseguir entender a programação das aplicações práticas, você estará muito bem preparado para passar no curso.\n",
    "\n",
    "### Material Suplementar\n",
    "\n",
    "O material suplementar são referências a materiais de outras pessoas que podem te interessar.  \n",
    "Vai que você acha que eu explico mal, por exemplo... você pode achar que o Fulano-do-Material-Suplementar explica melhor do que eu. Vá em frente e seja feliz!\n",
    "\n",
    "É fã das minhas aulas, acha que eu explico super bem, e quer ignorar o material suplementar por completo? Vá em frente e seja feliz!\n",
    "\n",
    "## Colaboração\n",
    "\n",
    "Você pode e deve pedir ajuda e ajudar os seus colegas.  \n",
    "Colaboração é mais do que bem-vinda:\n",
    "ajuda a estreitar a amizade entre vocês, exercita _social skills_, e simula o tipo de iteração que acontece de fato na vida profissional.  Mas colaborar não significa copiar, nem dar a resposta.  \n",
    "Tente apontar o seu colega para a solução certa, dar uma dica, dizer onde ele pode encontrar a resposta... sem _dar_ a resposta. Assim, seu colega vai conseguir entregar a lista, mas também vai conseguir aprender. Lembre que o conteúdo deste curso é base para vários outros cursos que virão pela frente, então é importante que essa base seja sólida.  "
   ]
  },
  {
   "cell_type": "markdown",
   "metadata": {},
   "source": [
    "# Cronograma (tentativo)\n",
    "\n",
    "O cronograma abaixo traz os notebooks e as aplicações práticas que devem ser estudados _antes_ de cada aula, bem como as listas que devem ser entregues e serão discutidas em cada aula.\n",
    "\n",
    "| Aulas | Notebooks | Entregas        | Obs                            | Aplicações práticas |\n",
    "|-------|-----------|-----------------|--------------------------------|---------------------|\n",
    "|1      |           |                 | Instalar Anaconda ou Miniconda |                     |\n",
    "|2      |10, 20, 21 |                 |                                |                     |\n",
    "|3      |30, 40     | Listas 10 e 20  |                                | 35, 36, 45          |\n",
    "|4      |50         | Listas 30 e 40  |                                | 55                  |\n",
    "|5      |60         | Lista 50        |                                |                     |\n",
    "|6      |70         | Lista 60        | Início do Projeto              | 74, 79 (opcional)   |\n",
    "|7      |80         | Lista 70        |                                | 85                  |\n",
    "|8      |90         | Projeto         | **Entrega do Projeto** (domingo meia-noite)         |                     |\n",
    "|9      |           |                 | **Prova**"
   ]
  }
 ],
 "metadata": {
  "kernelspec": {
   "display_name": "Python 3",
   "language": "python",
   "name": "python3"
  },
  "language_info": {
   "codemirror_mode": {
    "name": "ipython",
    "version": 3
   },
   "file_extension": ".py",
   "mimetype": "text/x-python",
   "name": "python",
   "nbconvert_exporter": "python",
   "pygments_lexer": "ipython3",
   "version": "3.7.1"
  }
 },
 "nbformat": 4,
 "nbformat_minor": 4
}
