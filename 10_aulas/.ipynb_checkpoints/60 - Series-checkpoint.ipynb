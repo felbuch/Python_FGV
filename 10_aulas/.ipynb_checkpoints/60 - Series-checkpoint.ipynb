{
 "cells": [
  {
   "cell_type": "markdown",
   "metadata": {},
   "source": [
    "# Séries\n",
    "\n",
    "## DataFrames e Séries\n",
    "\n",
    "DataFrames são a estrutura de dados mais amplamente utilizada. Eles são uma tabela, onde cada linha representa uma \"coisa\" e cada coluna representa uma característica dessa coisa. \n",
    "\n",
    "![tabela](https://gonehybrid.com/content/images/2017/02/table.png)\n",
    "\n",
    "Antes de aprendermos a manipular DataFrames, é útil aprendermos a manipular _uma coluna_ de um DataFrame. Uma coluna de um DataFrame é uma Série.\n",
    "\n",
    "Hoje, vamos falar sobre séries.\n",
    "\n",
    "## Importando o pandas\n",
    "\n",
    "Em Python, para trabalharmos com séries e dataframes, precisamos importar um pacote chamado `pandas`:\n",
    "\n",
    "![pandas](http://www.cutenessoverflow.com/wp-content/uploads/2016/08/Pandas-Eyes.jpg)"
   ]
  },
  {
   "cell_type": "code",
   "execution_count": 2,
   "metadata": {},
   "outputs": [],
   "source": [
    "import pandas as pd"
   ]
  },
  {
   "cell_type": "markdown",
   "metadata": {},
   "source": [
    "Existem várias formas de se criar uma série. Quase sempre, nós estaremos trabalhando com um DataFrame, não com uma série. Por isso, para fins didáticos, vamos criar uma série manualmente: o número de bilhetes vendidos para o campeonato de quadribol em cada dia da semana.\n",
    "\n",
    "![quadribol](https://www.nme.com/wp-content/uploads/2016/11/HarryPotterQuidditch.png)\n",
    "\n",
    "\n",
    "| Dia da semana | Ingressos vendidos |\n",
    "|---------------|--------------------|\n",
    "| Segunda       | 132                |\n",
    "| Terça         | 94                 |\n",
    "| Quarta        | 112                |\n",
    "| Quinta        | 84                 |\n",
    "| Sexta         | 254                |\n",
    "| Sábado        | 322                |\n",
    "| Domingo       | 472                |"
   ]
  },
  {
   "cell_type": "code",
   "execution_count": 3,
   "metadata": {},
   "outputs": [
    {
     "data": {
      "text/plain": [
       "0    132\n",
       "1     94\n",
       "2    112\n",
       "3     84\n",
       "4    254\n",
       "5    322\n",
       "6    472\n",
       "dtype: int64"
      ]
     },
     "execution_count": 3,
     "metadata": {},
     "output_type": "execute_result"
    }
   ],
   "source": [
    "ingressos = pd.Series([132, 94, 112, 84, 254, 322, 472])\n",
    "ingressos"
   ]
  },
  {
   "cell_type": "markdown",
   "metadata": {},
   "source": [
    "## Índices"
   ]
  },
  {
   "cell_type": "markdown",
   "metadata": {},
   "source": [
    "Uma característica fundamental de séries, é que séries têm índices.\n",
    "\n",
    "> Um índice é um conjunto de valores que identificam cada linha\n",
    "\n",
    "Se você não especificar nenhum índice, o `pandas` vai criar um índice para você, mas você ganha mais escolhendo um índice que faça sentido para você:"
   ]
  },
  {
   "cell_type": "code",
   "execution_count": 4,
   "metadata": {},
   "outputs": [
    {
     "data": {
      "text/plain": [
       "Segunda    132\n",
       "Terça       94\n",
       "Quarta     112\n",
       "Quinta      84\n",
       "Sexta      254\n",
       "Sábado     322\n",
       "Domingo    472\n",
       "dtype: int64"
      ]
     },
     "execution_count": 4,
     "metadata": {},
     "output_type": "execute_result"
    }
   ],
   "source": [
    "ingressos = pd.Series([132, 94, 112, 84, 254, 322, 472],\n",
    "                     index=['Segunda','Terça','Quarta','Quinta','Sexta','Sábado','Domingo'])\n",
    "ingressos"
   ]
  },
  {
   "cell_type": "markdown",
   "metadata": {},
   "source": [
    "Podemos acessar os índices de uma série usando o método `.index`:"
   ]
  },
  {
   "cell_type": "code",
   "execution_count": 5,
   "metadata": {},
   "outputs": [
    {
     "data": {
      "text/plain": [
       "Index(['Segunda', 'Terça', 'Quarta', 'Quinta', 'Sexta', 'Sábado', 'Domingo'], dtype='object')"
      ]
     },
     "execution_count": 5,
     "metadata": {},
     "output_type": "execute_result"
    }
   ],
   "source": [
    "ingressos.index"
   ]
  },
  {
   "cell_type": "markdown",
   "metadata": {},
   "source": [
    "Índices são propriedades das linhas. Eles ficam com as linhas, mesmo que a ordem das linhas mudem:"
   ]
  },
  {
   "cell_type": "code",
   "execution_count": 6,
   "metadata": {},
   "outputs": [
    {
     "data": {
      "text/plain": [
       "Quinta      84\n",
       "Terça       94\n",
       "Quarta     112\n",
       "Segunda    132\n",
       "Sexta      254\n",
       "Sábado     322\n",
       "Domingo    472\n",
       "dtype: int64"
      ]
     },
     "execution_count": 6,
     "metadata": {},
     "output_type": "execute_result"
    }
   ],
   "source": [
    "ingressos.sort_values()"
   ]
  },
  {
   "cell_type": "markdown",
   "metadata": {},
   "source": [
    "Veja o que aconteceria, se eu não especificasse meus índices, e deixasse o `pandas` escolher um índice _default_ por mim:"
   ]
  },
  {
   "cell_type": "code",
   "execution_count": 7,
   "metadata": {},
   "outputs": [
    {
     "data": {
      "text/plain": [
       "0    10\n",
       "1    15\n",
       "2     9\n",
       "3    12\n",
       "4     3\n",
       "5    18\n",
       "6     7\n",
       "dtype: int64"
      ]
     },
     "execution_count": 7,
     "metadata": {},
     "output_type": "execute_result"
    }
   ],
   "source": [
    "outra_serie = pd.Series([10,15,9,12, 3,18,7])\n",
    "outra_serie"
   ]
  },
  {
   "cell_type": "code",
   "execution_count": 8,
   "metadata": {},
   "outputs": [
    {
     "data": {
      "text/plain": [
       "4     3\n",
       "6     7\n",
       "2     9\n",
       "0    10\n",
       "3    12\n",
       "1    15\n",
       "5    18\n",
       "dtype: int64"
      ]
     },
     "execution_count": 8,
     "metadata": {},
     "output_type": "execute_result"
    }
   ],
   "source": [
    "outra_serie.sort_values()"
   ]
  },
  {
   "cell_type": "markdown",
   "metadata": {},
   "source": [
    "## Filtrando uma série\n",
    "\n",
    "Extrair um subconjunto de elementos de uma série é uma tarefa extremamente importante, especialmente quando trabalhamos com conjuntos de dados maiores (que estão no coração da ciência de dados). Esse processo — seja aplicado a uma Série ou a um DataFrame — é frequentemente referido como \"tomar um subconjunto\", ou \"filtrar\". Se há uma habilidade que você precisa dominar o mais rápido possível, é esta.\n",
    "\n",
    "Em `pandas`, existem três maneiras de filtrar uma Série: \n",
    "* usando a **posição** das linhas que se deseja;\n",
    "* usando **índices**;  \n",
    "* usando uma **condição**.  \n",
    "\n",
    "Eu costumo usar este último método mais, mas todos os três são úteis.\n",
    "\n",
    "Antes de seguir, vamos lembrar da nossa série:"
   ]
  },
  {
   "cell_type": "code",
   "execution_count": 9,
   "metadata": {},
   "outputs": [
    {
     "data": {
      "text/plain": [
       "Segunda    132\n",
       "Terça       94\n",
       "Quarta     112\n",
       "Quinta      84\n",
       "Sexta      254\n",
       "Sábado     322\n",
       "Domingo    472\n",
       "dtype: int64"
      ]
     },
     "execution_count": 9,
     "metadata": {},
     "output_type": "execute_result"
    }
   ],
   "source": [
    "ingressos"
   ]
  },
  {
   "cell_type": "markdown",
   "metadata": {},
   "source": [
    "### Filtrando usando a posição das linhas\n",
    "\n",
    "Usa-se o método `.iloc` (que significa _integer location_, já que posições sempre são números inteiros)"
   ]
  },
  {
   "cell_type": "code",
   "execution_count": 10,
   "metadata": {},
   "outputs": [
    {
     "data": {
      "text/plain": [
       "94"
      ]
     },
     "execution_count": 10,
     "metadata": {},
     "output_type": "execute_result"
    }
   ],
   "source": [
    "ingressos.iloc[1]"
   ]
  },
  {
   "cell_type": "code",
   "execution_count": 11,
   "metadata": {},
   "outputs": [
    {
     "data": {
      "text/plain": [
       "Quarta    112\n",
       "Quinta     84\n",
       "Sexta     254\n",
       "dtype: int64"
      ]
     },
     "execution_count": 11,
     "metadata": {},
     "output_type": "execute_result"
    }
   ],
   "source": [
    "ingressos.iloc[2:5]"
   ]
  },
  {
   "cell_type": "code",
   "execution_count": null,
   "metadata": {},
   "outputs": [],
   "source": [
    "ingressos.iloc[:3]"
   ]
  },
  {
   "cell_type": "markdown",
   "metadata": {},
   "source": [
    "### Filtrando usando índices\n",
    "\n",
    "Usa-se o método `.loc`"
   ]
  },
  {
   "cell_type": "code",
   "execution_count": null,
   "metadata": {},
   "outputs": [],
   "source": [
    "ingressos.loc['Domingo']"
   ]
  },
  {
   "cell_type": "code",
   "execution_count": null,
   "metadata": {},
   "outputs": [],
   "source": [
    "ingressos.loc['Segunda':'Quarta']"
   ]
  },
  {
   "cell_type": "markdown",
   "metadata": {},
   "source": [
    "Note que \"Quarta\" está incluído, ao contrário do que vínhamos observando com listas, tuplas ou quando filtramos com base na posição da linha.\n",
    "\n",
    "### Filtrando usando uma condição\n",
    "\n",
    "Aqui também se usa o método `.loc`"
   ]
  },
  {
   "cell_type": "code",
   "execution_count": null,
   "metadata": {},
   "outputs": [],
   "source": [
    "#Dias com muita venda de ingressos (mais de 100)\n",
    "ingressos.loc[ingressos > 100]"
   ]
  },
  {
   "cell_type": "markdown",
   "metadata": {},
   "source": [
    "Condições podem ser mais sofisticadas:"
   ]
  },
  {
   "cell_type": "code",
   "execution_count": null,
   "metadata": {},
   "outputs": [],
   "source": [
    "#Entre 100 e 200\n",
    "ingressos.loc[(ingressos > 100) & (ingressos < 200)] # E"
   ]
  },
  {
   "cell_type": "code",
   "execution_count": null,
   "metadata": {},
   "outputs": [],
   "source": [
    "#Mais que 200 ou menos que 100\n",
    "ingressos.loc[(ingressos > 200) | (ingressos < 100)] # OU"
   ]
  },
  {
   "cell_type": "markdown",
   "metadata": {},
   "source": [
    "### Mais um jeito de filtrar séries..\n",
    "\n",
    "Existe ainda um quarto jeito de se filtrar séries: usando apenas colchetes (`[]`), sem `.iloc` nem `.loc`.  Nesse caso, o `pandas` \"advinha\" o que você quer fazer e faz."
   ]
  },
  {
   "cell_type": "code",
   "execution_count": null,
   "metadata": {},
   "outputs": [],
   "source": [
    "#passando números, ele entende que é a posição de uma linha, e se comporta como se fosse .iloc\n",
    "ingressos[0:3]"
   ]
  },
  {
   "cell_type": "code",
   "execution_count": null,
   "metadata": {},
   "outputs": [],
   "source": [
    "#passando strings, ele entende que é um índice, e se comporta como se fosse .loc\n",
    "ingressos['Sexta':'Domingo']"
   ]
  },
  {
   "cell_type": "code",
   "execution_count": null,
   "metadata": {},
   "outputs": [],
   "source": [
    "#passando uma condição, ele entende que é uma condição, e se comporta como se fosse .loc\n",
    "ingressos[ingressos > 100]"
   ]
  },
  {
   "cell_type": "markdown",
   "metadata": {},
   "source": [
    "Só tome cuidado que, quando seus índices são números inteiros, esse método entende que o número que você está passando é um índice, não o número da linha. Por exemplo:"
   ]
  },
  {
   "cell_type": "code",
   "execution_count": null,
   "metadata": {},
   "outputs": [],
   "source": [
    "ingressos_2 = pd.Series([132, 94, 112, 84, 254, 322, 474], index=[2,3,4,5,6, 7, 1])\n",
    "ingressos_2"
   ]
  },
  {
   "cell_type": "code",
   "execution_count": null,
   "metadata": {},
   "outputs": [],
   "source": [
    "#Pegar a segunda linha -- vai dar ruim!\n",
    "ingressos_2[1]"
   ]
  },
  {
   "cell_type": "code",
   "execution_count": null,
   "metadata": {},
   "outputs": [],
   "source": [
    "#Se você usar .iloc, funciona!\n",
    "ingressos_2.iloc[1]"
   ]
  },
  {
   "cell_type": "code",
   "execution_count": null,
   "metadata": {},
   "outputs": [],
   "source": [
    "#Pegue o primeiro elemento da série -- vai dar ruim de novo!\n",
    "ingressos_2[0]"
   ]
  },
  {
   "cell_type": "code",
   "execution_count": null,
   "metadata": {},
   "outputs": [],
   "source": [
    "#Se usar .iloc, funciona\n",
    "ingressos_dia_de_semana.iloc[0]"
   ]
  },
  {
   "cell_type": "markdown",
   "metadata": {},
   "source": [
    "Se você não quiser incorrer nesse tipo de problema, você pode _sempre_ usar `.iloc` e `.loc`.  \n",
    "Esses aí nunca dão problema.  \n",
    "\n",
    "## Modificando uma série"
   ]
  },
  {
   "cell_type": "code",
   "execution_count": null,
   "metadata": {},
   "outputs": [],
   "source": [
    "ingressos"
   ]
  },
  {
   "cell_type": "markdown",
   "metadata": {},
   "source": [
    "Ih, rapaz! Desculpa! A venda de Sábado não foi 322! Foi 32! Espero que o chefe não repare..."
   ]
  },
  {
   "cell_type": "code",
   "execution_count": null,
   "metadata": {},
   "outputs": [],
   "source": [
    "ingressos.loc['Sábado'] = 32\n",
    "ingressos"
   ]
  },
  {
   "cell_type": "markdown",
   "metadata": {},
   "source": [
    "## Tipos de Séries\n",
    "\n",
    "![hogwarts-houses](https://ladygeekgirl.files.wordpress.com/2015/11/hogwarts-houses.jpg)\n",
    "\n",
    "Antes de mergulharmos nas manipulações de Séries, é importante falar sobre tipos de dados. Cada Série, como veremos, tem um `dtype` (abreviação de _data type_). O `dtype` de uma série é importante de entender por que o `dtype` da Série determina quais manipulações você pode aplicar a essa série.\n",
    "\n",
    "Existem dois tipos de Séries:\n",
    "\n",
    "* Séries **numéricas** (`float64`, `int64`,...)\n",
    "* Séries de **objeto** (`O`)"
   ]
  },
  {
   "cell_type": "code",
   "execution_count": null,
   "metadata": {},
   "outputs": [],
   "source": [
    "ingressos.dtype"
   ]
  },
  {
   "cell_type": "code",
   "execution_count": null,
   "metadata": {},
   "outputs": [],
   "source": [
    "alunos = pd.Series(['Harry Potter','Hermione','Ron'])\n",
    "alunos.dtype"
   ]
  },
  {
   "cell_type": "markdown",
   "metadata": {},
   "source": [
    "É possível converter uma série de um tipo em outro:"
   ]
  },
  {
   "cell_type": "code",
   "execution_count": null,
   "metadata": {},
   "outputs": [],
   "source": [
    "notas_dos_alunos = pd.Series(['10.5', '10', '3'])\n",
    "notas_dos_alunos"
   ]
  },
  {
   "cell_type": "code",
   "execution_count": null,
   "metadata": {},
   "outputs": [],
   "source": [
    "notas_dos_alunos = notas_dos_alunos.astype('float64')\n",
    "notas_dos_alunos"
   ]
  },
  {
   "cell_type": "code",
   "execution_count": null,
   "metadata": {},
   "outputs": [],
   "source": [
    "notas_dos_alunos = notas_dos_alunos.astype('int64')\n",
    "notas_dos_alunos"
   ]
  },
  {
   "cell_type": "markdown",
   "metadata": {},
   "source": [
    "Algumas séries não podem ser convertidas:"
   ]
  },
  {
   "cell_type": "code",
   "execution_count": null,
   "metadata": {},
   "outputs": [],
   "source": [
    "alunos.astype('float64')"
   ]
  },
  {
   "cell_type": "markdown",
   "metadata": {},
   "source": [
    "## Matemática com Séries\n",
    "\n",
    "Vamos lembrar nossa série original, do número de ingressos vendidos em cada dia da semana:"
   ]
  },
  {
   "cell_type": "code",
   "execution_count": null,
   "metadata": {},
   "outputs": [],
   "source": [
    "ingressos"
   ]
  },
  {
   "cell_type": "markdown",
   "metadata": {},
   "source": [
    "Se cada ingresso custa $15, qual a receita auferida em cada dia?"
   ]
  },
  {
   "cell_type": "code",
   "execution_count": null,
   "metadata": {},
   "outputs": [],
   "source": [
    "receita = ingressos * 15\n",
    "receita"
   ]
  },
  {
   "cell_type": "markdown",
   "metadata": {},
   "source": [
    "Receita total da semana?"
   ]
  },
  {
   "cell_type": "code",
   "execution_count": null,
   "metadata": {},
   "outputs": [],
   "source": [
    "receita.sum()"
   ]
  },
  {
   "cell_type": "markdown",
   "metadata": {},
   "source": [
    "Receita média diária?"
   ]
  },
  {
   "cell_type": "code",
   "execution_count": null,
   "metadata": {},
   "outputs": [],
   "source": [
    "receita.mean()"
   ]
  },
  {
   "cell_type": "markdown",
   "metadata": {},
   "source": [
    "Maior e menor receita diária:"
   ]
  },
  {
   "cell_type": "code",
   "execution_count": null,
   "metadata": {},
   "outputs": [],
   "source": [
    "receita.max()"
   ]
  },
  {
   "cell_type": "code",
   "execution_count": null,
   "metadata": {},
   "outputs": [],
   "source": [
    "receita.min()"
   ]
  },
  {
   "cell_type": "markdown",
   "metadata": {},
   "source": [
    "Resumão estatístico:"
   ]
  },
  {
   "cell_type": "code",
   "execution_count": null,
   "metadata": {},
   "outputs": [],
   "source": [
    "receita.describe()"
   ]
  },
  {
   "cell_type": "markdown",
   "metadata": {},
   "source": [
    "Quantas vezes cada valor aparece:"
   ]
  },
  {
   "cell_type": "code",
   "execution_count": null,
   "metadata": {},
   "outputs": [],
   "source": [
    "receita.value_counts()"
   ]
  },
  {
   "cell_type": "code",
   "execution_count": null,
   "metadata": {},
   "outputs": [],
   "source": [
    "#Outro exemplo\n",
    "colega_favorito = pd.Series(['Harry Potter', 'Harry Potter', 'Hermione','Harry Potter', 'Harry Potter', 'Hermione','Malfoy'])\n",
    "colega_favorito.value_counts()"
   ]
  },
  {
   "cell_type": "code",
   "execution_count": null,
   "metadata": {},
   "outputs": [],
   "source": [
    "colega_favorito.value_counts(normalize=True)"
   ]
  },
  {
   "cell_type": "markdown",
   "metadata": {},
   "source": [
    "Essas são apenas alguns dos métodos que podemos aplicar a Séries. Para uma lista completa, veja a seção _methods_, na [documentação oficial](https://pandas.pydata.org/pandas-docs/stable/reference/api/pandas.Series.html)\n",
    "\n",
    "## Fim! :)\n",
    "![fim](https://i.ytimg.com/vi/QMMr_T4YXvU/maxresdefault.jpg)"
   ]
  },
  {
   "cell_type": "code",
   "execution_count": null,
   "metadata": {},
   "outputs": [],
   "source": []
  }
 ],
 "metadata": {
  "kernelspec": {
   "display_name": "Python 3",
   "language": "python",
   "name": "python3"
  },
  "language_info": {
   "codemirror_mode": {
    "name": "ipython",
    "version": 3
   },
   "file_extension": ".py",
   "mimetype": "text/x-python",
   "name": "python",
   "nbconvert_exporter": "python",
   "pygments_lexer": "ipython3",
   "version": "3.7.1"
  }
 },
 "nbformat": 4,
 "nbformat_minor": 4
}
