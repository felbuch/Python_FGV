{
 "cells": [
  {
   "cell_type": "markdown",
   "metadata": {},
   "source": [
    "Nem sempre a gente consegue resolver um problema em um único passo.  \n",
    "Às vezes, é preciso resolver um problema em vários passos, onde cada passo nos leva um pouco mais perto à resposta final.  \n",
    "\n",
    "Um exemplo é o cálculo da Taxa Interna de Retorno (TIR) de um investimento.  \n",
    "Anteriormente, nós vimos como resolver esse problema usando o método de Newton.  \n",
    "\n",
    "Esse método começa com um \"chute\" para a TIR e vai progressivamente melhorando esse chute até chegar na resposta final.\n",
    "\n",
    "![metodo-newton](http://www.cs.utsa.edu/~wagner/CS3343/newton/newton.gif)\n",
    "\n",
    "Hoje, nós vamos aprender como visualizar os passos intermediários desse algoritmo.\n",
    "\n",
    "Vamos começar lembrando as funções que já criamos em outra aula:"
   ]
  },
  {
   "cell_type": "code",
   "execution_count": 25,
   "metadata": {},
   "outputs": [],
   "source": [
    "def derivada(f, x, dx = 0.0001):\n",
    "    dy = f(x + dx) - f(x)\n",
    "    return(dy/dx)"
   ]
  },
  {
   "cell_type": "code",
   "execution_count": 26,
   "metadata": {},
   "outputs": [],
   "source": [
    "def raiz_reta_tangente(f, x):\n",
    "    return(x - f(x)/derivada(f, x))"
   ]
  },
  {
   "cell_type": "code",
   "execution_count": 27,
   "metadata": {},
   "outputs": [],
   "source": [
    "def raiz(f, x0, tol = 0.0001):\n",
    "    \n",
    "    x1 = raiz_reta_tangente(f, x0)\n",
    "    \n",
    "    while abs(x1 - x0) > tol:\n",
    "        x0 = x1\n",
    "        x1 = raiz_reta_tangente(f, x0)\n",
    "    \n",
    "    return(x1)"
   ]
  },
  {
   "cell_type": "markdown",
   "metadata": {},
   "source": [
    "Podemos modificar a função acima para nos mostrar os passos intermediários:"
   ]
  },
  {
   "cell_type": "code",
   "execution_count": 28,
   "metadata": {},
   "outputs": [],
   "source": [
    "def raiz(f, x0, tol = 0.0001, mostrar_percurso = False):\n",
    "    \n",
    "    x1 = raiz_reta_tangente(f, x0)\n",
    "    percurso = [x0]\n",
    "    \n",
    "    while abs(x1 - x0) > tol:\n",
    "        x0 = x1\n",
    "        x1 = raiz_reta_tangente(f, x0)\n",
    "        percurso.append(x1)\n",
    "    \n",
    "    if mostrar_percurso:\n",
    "        return(percurso)\n",
    "    else:\n",
    "        return(x1)"
   ]
  },
  {
   "cell_type": "markdown",
   "metadata": {},
   "source": [
    "Pronto! Agora, vamos testar se nossa função funciona. Para tal, vamos usar a função $f(x) = x^2 - 25$ como exemplo. Sabemos que a raiz é 5. Logo, se nossas funções estiverem funcionando, o resultado deverá ser 5.\n",
    "\n",
    "Primeiro, montamos a função $f(x) = x^2 - 25$"
   ]
  },
  {
   "cell_type": "code",
   "execution_count": 29,
   "metadata": {},
   "outputs": [],
   "source": [
    "def f(x):\n",
    "    return(x**2 - 25)"
   ]
  },
  {
   "cell_type": "markdown",
   "metadata": {},
   "source": [
    "Agora, verificamos que nossa função funciona. Precisamos de um chute inicial. Vou colocar o dia do meu aniversário: 1301, um número bem, bem longe da raiz correta."
   ]
  },
  {
   "cell_type": "code",
   "execution_count": 30,
   "metadata": {},
   "outputs": [
    {
     "data": {
      "text/plain": [
       "5.000000000015194"
      ]
     },
     "execution_count": 30,
     "metadata": {},
     "output_type": "execute_result"
    }
   ],
   "source": [
    "raiz(f, 1301)"
   ]
  },
  {
   "cell_type": "markdown",
   "metadata": {},
   "source": [
    "Na mosca!!!! \n",
    "\n",
    "Agora, vamos mostrar os passos intermediários:\n"
   ]
  },
  {
   "cell_type": "code",
   "execution_count": 31,
   "metadata": {},
   "outputs": [
    {
     "data": {
      "text/plain": [
       "[1301,\n",
       " 325.27405700187006,\n",
       " 162.67548256301174,\n",
       " 81.41460635225195,\n",
       " 40.860863187115896,\n",
       " 20.736372420083818,\n",
       " 10.971015288087811,\n",
       " 6.62489328684221,\n",
       " 5.1992802480410685,\n",
       " 5.003820929175869,\n",
       " 5.000001497000304,\n",
       " 5.000000000015194]"
      ]
     },
     "execution_count": 31,
     "metadata": {},
     "output_type": "execute_result"
    }
   ],
   "source": [
    "passos = raiz(f, 1301, mostrar_percurso=True)\n",
    "passos"
   ]
  },
  {
   "cell_type": "markdown",
   "metadata": {},
   "source": [
    "Nos 3 primeiros passos, o algoritmo vai de 1301 para 81. Uma grande mudança.\n",
    "Nos 3 últimos passos, o algoritmo vai de 5.0038 para 5.0000. Uma diferença muito pequenininha.\n",
    "\n",
    "É assim que o algoritmo funciona: largos passos até chegar pertinho, e depois passinhos pequenos para ajustar.\n",
    "\n",
    "No gráfico abaixo, vemos isso de forma mais visual. Note como a curva é muito inclinada no início, e quase horizontal no final:"
   ]
  },
  {
   "cell_type": "code",
   "execution_count": 32,
   "metadata": {
    "scrolled": true
   },
   "outputs": [
    {
     "data": {
      "image/png": "[encoded data removed]",
      "text/plain": [
       "<Figure size 576x432 with 1 Axes>"
      ]
     },
     "metadata": {
      "needs_background": "light"
     },
     "output_type": "display_data"
    }
   ],
   "source": [
    "import matplotlib.pyplot as plt\n",
    "x = raiz(f, 1301, mostrar_percurso=True)\n",
    "plt.figure(figsize=(8,6))\n",
    "plt.plot(x, c = 'navy')\n",
    "plt.axhline(y = 5, c = 'green', linestyle='dashed')\n",
    "plt.grid('on')\n",
    "plt.show()"
   ]
  },
  {
   "cell_type": "markdown",
   "metadata": {},
   "source": [
    "Finalmente, podemos ver esses pontos na própria função $f(x)$.  \n",
    "Como começamos em $1301$ e terminamos em $5$, temos que ler o gráfixo da direita para a esquerda:"
   ]
  },
  {
   "cell_type": "code",
   "execution_count": 41,
   "metadata": {},
   "outputs": [
    {
     "data": {
      "image/png": "[encoded data removed]",
      "text/plain": [
       "<Figure size 576x432 with 1 Axes>"
      ]
     },
     "metadata": {
      "needs_background": "light"
     },
     "output_type": "display_data"
    }
   ],
   "source": [
    "x_ = list(range(-1400,1400))\n",
    "y_ = [f(i) for i in x_]\n",
    "plt.figure(figsize=(8,6))\n",
    "plt.plot(x_,y_, c = 'navy')\n",
    "x = raiz(f, 1301, mostrar_percurso=True)\n",
    "y = [f(i) for i in x]\n",
    "plt.scatter(x,y, c = 'red')\n",
    "plt.grid('on')\n",
    "plt.xticks([x[0], x[1], x[2], x[-1]])\n",
    "plt.show()"
   ]
  },
  {
   "cell_type": "code",
   "execution_count": null,
   "metadata": {},
   "outputs": [],
   "source": []
  }
 ],
 "metadata": {
  "kernelspec": {
   "display_name": "Python 3",
   "language": "python",
   "name": "python3"
  },
  "language_info": {
   "codemirror_mode": {
    "name": "ipython",
    "version": 3
   },
   "file_extension": ".py",
   "mimetype": "text/x-python",
   "name": "python",
   "nbconvert_exporter": "python",
   "pygments_lexer": "ipython3",
   "version": "3.7.1"
  }
 },
 "nbformat": 4,
 "nbformat_minor": 4
}
