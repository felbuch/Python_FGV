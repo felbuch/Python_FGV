{
 "cells": [
  {
   "cell_type": "markdown",
   "metadata": {},
   "source": [
    "# Estruturas de dados\n",
    "\n",
    "As estruturas de dados mais comuns em Python são as seguintes:\n",
    "\n",
    "1. Listas\n",
    "2. Dicionários\n",
    "3. Tuplas\n",
    "4. Conjuntos\n",
    "\n",
    "Mais tarde, vamos acrescentar mais dois elementos a essa lista: os arrays e os data frames.\n",
    "\n",
    "Agora, vamos falar sobre dicionários."
   ]
  },
  {
   "cell_type": "markdown",
   "metadata": {},
   "source": [
    "## Dicionários"
   ]
  },
  {
   "cell_type": "markdown",
   "metadata": {},
   "source": [
    "Em uma lista, precisamos saber o que está em cada posição:"
   ]
  },
  {
   "cell_type": "code",
   "execution_count": 1,
   "metadata": {},
   "outputs": [
    {
     "data": {
      "text/plain": [
       "['Luke Skywalker', 172, 77, '19BBY', 'masculino']"
      ]
     },
     "execution_count": 1,
     "metadata": {},
     "output_type": "execute_result"
    }
   ],
   "source": [
    "['Luke Skywalker',172,77,'19BBY','masculino']"
   ]
  },
  {
   "cell_type": "markdown",
   "metadata": {},
   "source": [
    "Em um dicionário, existem **chaves** que nos dizem o que cada **valor** é."
   ]
  },
  {
   "cell_type": "code",
   "execution_count": 3,
   "metadata": {},
   "outputs": [],
   "source": [
    "Luke = {'name': 'Luke Skywalker',\n",
    " 'height': '172',\n",
    " 'mass': '77',\n",
    " 'hair_color': 'blond',\n",
    " 'skin_color': 'fair',\n",
    " 'eye_color': 'blue',\n",
    " 'birth_year': '19BBY',\n",
    " 'gender': 'male'}"
   ]
  },
  {
   "cell_type": "markdown",
   "metadata": {},
   "source": [
    "### Acessando elementos de um dicionário"
   ]
  },
  {
   "cell_type": "markdown",
   "metadata": {},
   "source": [
    "Em uma lista, eu preciso saber a posição da informação que eu quero para poder acessá-la.\n",
    "Em um dicionário, basta eu saber o nome da chave:"
   ]
  },
  {
   "cell_type": "code",
   "execution_count": 4,
   "metadata": {},
   "outputs": [
    {
     "data": {
      "text/plain": [
       "'172'"
      ]
     },
     "execution_count": 4,
     "metadata": {},
     "output_type": "execute_result"
    }
   ],
   "source": [
    "Luke['height']"
   ]
  },
  {
   "cell_type": "code",
   "execution_count": 5,
   "metadata": {},
   "outputs": [
    {
     "data": {
      "text/plain": [
       "'19BBY'"
      ]
     },
     "execution_count": 5,
     "metadata": {},
     "output_type": "execute_result"
    }
   ],
   "source": [
    "Luke['birth_year']"
   ]
  },
  {
   "cell_type": "markdown",
   "metadata": {},
   "source": [
    "### Obtendo as chaves, os valores e os itens de um dicionário"
   ]
  },
  {
   "cell_type": "markdown",
   "metadata": {},
   "source": [
    "Podemos ver as **chaves** de um dicionário..."
   ]
  },
  {
   "cell_type": "code",
   "execution_count": 6,
   "metadata": {},
   "outputs": [
    {
     "data": {
      "text/plain": [
       "dict_keys(['name', 'height', 'mass', 'hair_color', 'skin_color', 'eye_color', 'birth_year', 'gender'])"
      ]
     },
     "execution_count": 6,
     "metadata": {},
     "output_type": "execute_result"
    }
   ],
   "source": [
    "Luke.keys()"
   ]
  },
  {
   "cell_type": "markdown",
   "metadata": {},
   "source": [
    "... os **valores**..."
   ]
  },
  {
   "cell_type": "code",
   "execution_count": 7,
   "metadata": {},
   "outputs": [
    {
     "data": {
      "text/plain": [
       "dict_values(['Luke Skywalker', '172', '77', 'blond', 'fair', 'blue', '19BBY', 'male'])"
      ]
     },
     "execution_count": 7,
     "metadata": {},
     "output_type": "execute_result"
    }
   ],
   "source": [
    "Luke.values()"
   ]
  },
  {
   "cell_type": "markdown",
   "metadata": {},
   "source": [
    "... e os pares **chave-valor**. Esses são chamados de **itens**. Um dicionário nada mais é do que o conjunto desses pares, associando um valor a cada chave."
   ]
  },
  {
   "cell_type": "code",
   "execution_count": 8,
   "metadata": {},
   "outputs": [
    {
     "data": {
      "text/plain": [
       "dict_items([('name', 'Luke Skywalker'), ('height', '172'), ('mass', '77'), ('hair_color', 'blond'), ('skin_color', 'fair'), ('eye_color', 'blue'), ('birth_year', '19BBY'), ('gender', 'male')])"
      ]
     },
     "execution_count": 8,
     "metadata": {},
     "output_type": "execute_result"
    }
   ],
   "source": [
    "Luke.items()"
   ]
  },
  {
   "cell_type": "markdown",
   "metadata": {},
   "source": [
    "### Modificando um dicionário\n",
    "\n",
    "Colocar um item no dicionário é fácil:"
   ]
  },
  {
   "cell_type": "code",
   "execution_count": 9,
   "metadata": {},
   "outputs": [],
   "source": [
    "Luke['master'] =  'Yoda'"
   ]
  },
  {
   "cell_type": "code",
   "execution_count": 10,
   "metadata": {},
   "outputs": [
    {
     "data": {
      "text/plain": [
       "{'name': 'Luke Skywalker',\n",
       " 'height': '172',\n",
       " 'mass': '77',\n",
       " 'hair_color': 'blond',\n",
       " 'skin_color': 'fair',\n",
       " 'eye_color': 'blue',\n",
       " 'birth_year': '19BBY',\n",
       " 'gender': 'male',\n",
       " 'master': 'Yoda'}"
      ]
     },
     "execution_count": 10,
     "metadata": {},
     "output_type": "execute_result"
    }
   ],
   "source": [
    "Luke"
   ]
  },
  {
   "cell_type": "markdown",
   "metadata": {},
   "source": [
    "### Iterando por um dicionário\n",
    "\n",
    "É possível iterar pelas **chaves** de um dicionário:"
   ]
  },
  {
   "cell_type": "code",
   "execution_count": 11,
   "metadata": {},
   "outputs": [
    {
     "name": "stdout",
     "output_type": "stream",
     "text": [
      "Luke, I know your name !\n",
      "Luke, I know your height !\n",
      "Luke, I know your mass !\n",
      "Luke, I know your hair_color !\n",
      "Luke, I know your skin_color !\n",
      "Luke, I know your eye_color !\n",
      "Luke, I know your birth_year !\n",
      "Luke, I know your gender !\n",
      "Luke, I know your master !\n"
     ]
    }
   ],
   "source": [
    "for i in Luke.keys():\n",
    "    print(f'Luke, I know your {i} !')"
   ]
  },
  {
   "cell_type": "markdown",
   "metadata": {},
   "source": [
    "Também possível iterar pelos **itens** de um dicionário:"
   ]
  },
  {
   "cell_type": "code",
   "execution_count": 12,
   "metadata": {},
   "outputs": [
    {
     "name": "stdout",
     "output_type": "stream",
     "text": [
      "His name is Luke Skywalker\n",
      "His height is 172\n",
      "His mass is 77\n",
      "His hair_color is blond\n",
      "His skin_color is fair\n",
      "His eye_color is blue\n",
      "His birth_year is 19BBY\n",
      "His gender is male\n",
      "His master is Yoda\n"
     ]
    }
   ],
   "source": [
    "for (k, v) in Luke.items():\n",
    "    print(f'His {k} is {v}')"
   ]
  },
  {
   "cell_type": "markdown",
   "metadata": {},
   "source": [
    "### Tipos de objetos que podem estar em um dicionário\n",
    "\n",
    "Um dicionário pode ter elementos de vários tipos dentro dele.\n",
    "É isso o que faz ele ser muito útil para guardar dados do tipo rede social, por exemplo:"
   ]
  },
  {
   "cell_type": "code",
   "execution_count": 13,
   "metadata": {},
   "outputs": [
    {
     "data": {
      "text/plain": [
       "{'Nome': 'Sam',\n",
       " 'Idade': 16,\n",
       " 'Endereco': 'Beverly Hills',\n",
       " 'Altura': 17.3,\n",
       " 'Amigas': ['Alex', 'Clover', 'Mandy', 'Arnold Jackson'],\n",
       " 'Hobbies': ['espionagem', 'shopping', 'barzinho', 'ir ao salao'],\n",
       " 'Voz': {'Ingles': 'Jennifer Hale', 'Frances': 'Claire Guyot'}}"
      ]
     },
     "execution_count": 13,
     "metadata": {},
     "output_type": "execute_result"
    }
   ],
   "source": [
    "Sam = {'Nome': 'Sam',\n",
    "       'Idade': 16,\n",
    "       'Endereco': 'Beverly Hills',\n",
    "       'Altura': 17.3,\n",
    "       'Amigas': ['Alex','Clover','Mandy','Arnold Jackson'],\n",
    "       'Hobbies': ['espionagem','shopping','barzinho','ir ao salao'],\n",
    "       'Voz': {'Ingles': 'Jennifer Hale',\n",
    "               'Frances': 'Claire Guyot'}}\n",
    "\n",
    "Sam"
   ]
  },
  {
   "cell_type": "code",
   "execution_count": 14,
   "metadata": {},
   "outputs": [
    {
     "data": {
      "text/plain": [
       "'Claire Guyot'"
      ]
     },
     "execution_count": 14,
     "metadata": {},
     "output_type": "execute_result"
    }
   ],
   "source": [
    "Sam['Voz']['Frances']"
   ]
  },
  {
   "cell_type": "code",
   "execution_count": 15,
   "metadata": {},
   "outputs": [
    {
     "data": {
      "text/plain": [
       "{'Nome': 'Sam',\n",
       " 'Idade': 16,\n",
       " 'Endereco': 'Beverly Hills',\n",
       " 'Altura': 17.3,\n",
       " 'Amigas': ['Alex', 'Clover', 'Mandy', 'Arnold Jackson', 'Jerry'],\n",
       " 'Hobbies': ['espionagem', 'shopping', 'barzinho', 'ir ao salao'],\n",
       " 'Voz': {'Ingles': 'Jennifer Hale', 'Frances': 'Claire Guyot'}}"
      ]
     },
     "execution_count": 15,
     "metadata": {},
     "output_type": "execute_result"
    }
   ],
   "source": [
    "Sam['Amigas'].append('Jerry')\n",
    "Sam"
   ]
  },
  {
   "cell_type": "code",
   "execution_count": null,
   "metadata": {},
   "outputs": [],
   "source": []
  }
 ],
 "metadata": {
  "kernelspec": {
   "display_name": "Python 3",
   "language": "python",
   "name": "python3"
  },
  "language_info": {
   "codemirror_mode": {
    "name": "ipython",
    "version": 3
   },
   "file_extension": ".py",
   "mimetype": "text/x-python",
   "name": "python",
   "nbconvert_exporter": "python",
   "pygments_lexer": "ipython3",
   "version": "3.7.1"
  }
 },
 "nbformat": 4,
 "nbformat_minor": 4
}
