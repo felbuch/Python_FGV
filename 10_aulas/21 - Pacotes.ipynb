{
 "cells": [
  {
   "cell_type": "markdown",
   "metadata": {},
   "source": [
    "Python tem _pacotes_, que são conjuntos de funções feitas por outras pessoas que podemos usar. Por exemplo,"
   ]
  },
  {
   "cell_type": "code",
   "execution_count": 11,
   "metadata": {},
   "outputs": [],
   "source": [
    "from math import cos"
   ]
  },
  {
   "cell_type": "code",
   "execution_count": 12,
   "metadata": {},
   "outputs": [
    {
     "data": {
      "text/plain": [
       "1.0"
      ]
     },
     "execution_count": 12,
     "metadata": {},
     "output_type": "execute_result"
    }
   ],
   "source": [
    "cos(0)"
   ]
  },
  {
   "cell_type": "code",
   "execution_count": 13,
   "metadata": {},
   "outputs": [
    {
     "data": {
      "text/plain": [
       "0.0"
      ]
     },
     "execution_count": 13,
     "metadata": {},
     "output_type": "execute_result"
    }
   ],
   "source": [
    "sin(0)"
   ]
  },
  {
   "cell_type": "code",
   "execution_count": 14,
   "metadata": {},
   "outputs": [],
   "source": [
    "from math import log10"
   ]
  },
  {
   "cell_type": "code",
   "execution_count": 15,
   "metadata": {},
   "outputs": [
    {
     "data": {
      "text/plain": [
       "2.0"
      ]
     },
     "execution_count": 15,
     "metadata": {},
     "output_type": "execute_result"
    }
   ],
   "source": [
    "log10(100)"
   ]
  },
  {
   "cell_type": "code",
   "execution_count": 16,
   "metadata": {},
   "outputs": [],
   "source": [
    "from math import *"
   ]
  },
  {
   "cell_type": "code",
   "execution_count": 17,
   "metadata": {},
   "outputs": [
    {
     "data": {
      "text/plain": [
       "1.0"
      ]
     },
     "execution_count": 17,
     "metadata": {},
     "output_type": "execute_result"
    }
   ],
   "source": [
    "sin(pi/2)"
   ]
  },
  {
   "cell_type": "code",
   "execution_count": 22,
   "metadata": {},
   "outputs": [
    {
     "data": {
      "text/plain": [
       "0.9999999999999999"
      ]
     },
     "execution_count": 22,
     "metadata": {},
     "output_type": "execute_result"
    }
   ],
   "source": [
    "import math as m\n",
    "m.tan(pi/4)"
   ]
  },
  {
   "cell_type": "code",
   "execution_count": 25,
   "metadata": {},
   "outputs": [],
   "source": [
    "import math"
   ]
  },
  {
   "cell_type": "code",
   "execution_count": 26,
   "metadata": {},
   "outputs": [
    {
     "data": {
      "text/plain": [
       "\u001b[1;31mSignature:\u001b[0m \u001b[0mmath\u001b[0m\u001b[1;33m.\u001b[0m\u001b[0mpow\u001b[0m\u001b[1;33m(\u001b[0m\u001b[0mx\u001b[0m\u001b[1;33m,\u001b[0m \u001b[0my\u001b[0m\u001b[1;33m,\u001b[0m \u001b[1;33m/\u001b[0m\u001b[1;33m)\u001b[0m\u001b[1;33m\u001b[0m\u001b[1;33m\u001b[0m\u001b[0m\n",
       "\u001b[1;31mDocstring:\u001b[0m Return x**y (x to the power of y).\n",
       "\u001b[1;31mType:\u001b[0m      builtin_function_or_method\n"
      ]
     },
     "metadata": {},
     "output_type": "display_data"
    }
   ],
   "source": [
    "math.pow?"
   ]
  },
  {
   "cell_type": "code",
   "execution_count": 27,
   "metadata": {},
   "outputs": [
    {
     "data": {
      "text/plain": [
       "8.0"
      ]
     },
     "execution_count": 27,
     "metadata": {},
     "output_type": "execute_result"
    }
   ],
   "source": [
    "math.pow(2,3)"
   ]
  },
  {
   "cell_type": "code",
   "execution_count": 30,
   "metadata": {},
   "outputs": [],
   "source": [
    "from scipy.optimize import minimize_scalar"
   ]
  },
  {
   "cell_type": "code",
   "execution_count": 29,
   "metadata": {},
   "outputs": [
    {
     "ename": "TypeError",
     "evalue": "minimize_scalar() missing 1 required positional argument: 'fun'",
     "output_type": "error",
     "traceback": [
      "\u001b[1;31m---------------------------------------------------------------------------\u001b[0m",
      "\u001b[1;31mTypeError\u001b[0m                                 Traceback (most recent call last)",
      "\u001b[1;32m<ipython-input-29-65522a523378>\u001b[0m in \u001b[0;36m<module>\u001b[1;34m\u001b[0m\n\u001b[1;32m----> 1\u001b[1;33m \u001b[0mminimize_scalar\u001b[0m\u001b[1;33m(\u001b[0m\u001b[1;33m)\u001b[0m\u001b[1;33m\u001b[0m\u001b[1;33m\u001b[0m\u001b[0m\n\u001b[0m",
      "\u001b[1;31mTypeError\u001b[0m: minimize_scalar() missing 1 required positional argument: 'fun'"
     ]
    }
   ],
   "source": [
    "minimize_scalar()"
   ]
  },
  {
   "cell_type": "markdown",
   "metadata": {},
   "source": [
    "Stack Overflow"
   ]
  },
  {
   "cell_type": "markdown",
   "metadata": {},
   "source": [
    "## Instalando pacotes"
   ]
  },
  {
   "cell_type": "code",
   "execution_count": 14,
   "metadata": {},
   "outputs": [
    {
     "name": "stdout",
     "output_type": "stream",
     "text": [
      "Requirement already satisfied: investpy in c:\\programdata\\anaconda3\\lib\\site-packages (1.0)\n",
      "Requirement already satisfied: lxml>=4.4.1 in c:\\programdata\\anaconda3\\lib\\site-packages (from investpy) (4.5.2)\n",
      "Requirement already satisfied: setuptools>=41.2.0 in c:\\users\\felipe\\appdata\\roaming\\python\\python37\\site-packages (from investpy) (50.3.2)\n",
      "Requirement already satisfied: pandas>=0.25.1 in c:\\programdata\\anaconda3\\lib\\site-packages (from investpy) (1.1.0)\n",
      "Requirement already satisfied: Unidecode>=1.1.1 in c:\\programdata\\anaconda3\\lib\\site-packages (from investpy) (1.1.1)\n",
      "Requirement already satisfied: pytz>=2019.3 in c:\\programdata\\anaconda3\\lib\\site-packages (from investpy) (2020.1)\n",
      "Requirement already satisfied: requests>=2.22.0 in c:\\programdata\\anaconda3\\lib\\site-packages (from investpy) (2.24.0)\n",
      "Requirement already satisfied: numpy>=1.17.2 in c:\\programdata\\anaconda3\\lib\\site-packages (from investpy) (1.18.5)\n",
      "Requirement already satisfied: python-dateutil>=2.7.3 in c:\\programdata\\anaconda3\\lib\\site-packages (from pandas>=0.25.1->investpy) (2.8.1)\n",
      "Requirement already satisfied: chardet<4,>=3.0.2 in c:\\programdata\\anaconda3\\lib\\site-packages (from requests>=2.22.0->investpy) (3.0.4)\n",
      "Requirement already satisfied: idna<3,>=2.5 in c:\\programdata\\anaconda3\\lib\\site-packages (from requests>=2.22.0->investpy) (2.10)\n",
      "Requirement already satisfied: certifi>=2017.4.17 in c:\\programdata\\anaconda3\\lib\\site-packages (from requests>=2.22.0->investpy) (2020.6.20)\n",
      "Requirement already satisfied: urllib3!=1.25.0,!=1.25.1,<1.26,>=1.21.1 in c:\\programdata\\anaconda3\\lib\\site-packages (from requests>=2.22.0->investpy) (1.25.9)\n",
      "Requirement already satisfied: six>=1.5 in c:\\programdata\\anaconda3\\lib\\site-packages (from python-dateutil>=2.7.3->pandas>=0.25.1->investpy) (1.15.0)\n"
     ]
    }
   ],
   "source": [
    "!pip install investpy"
   ]
  },
  {
   "cell_type": "markdown",
   "metadata": {},
   "source": [
    "## Estudo de caso"
   ]
  },
  {
   "cell_type": "code",
   "execution_count": 15,
   "metadata": {},
   "outputs": [],
   "source": [
    "import investpy"
   ]
  },
  {
   "cell_type": "code",
   "execution_count": 16,
   "metadata": {},
   "outputs": [
    {
     "data": {
      "text/plain": [
       "['__author__',\n",
       " '__builtins__',\n",
       " '__cached__',\n",
       " '__doc__',\n",
       " '__file__',\n",
       " '__loader__',\n",
       " '__name__',\n",
       " '__package__',\n",
       " '__path__',\n",
       " '__spec__',\n",
       " '__version__',\n",
       " 'bonds',\n",
       " 'certificates',\n",
       " 'commodities',\n",
       " 'crypto',\n",
       " 'currency_crosses',\n",
       " 'data',\n",
       " 'economic_calendar',\n",
       " 'etfs',\n",
       " 'funds',\n",
       " 'get_available_currencies',\n",
       " 'get_bond_countries',\n",
       " 'get_bond_historical_data',\n",
       " 'get_bond_information',\n",
       " 'get_bond_recent_data',\n",
       " 'get_bonds',\n",
       " 'get_bonds_dict',\n",
       " 'get_bonds_list',\n",
       " 'get_bonds_overview',\n",
       " 'get_certificate_countries',\n",
       " 'get_certificate_historical_data',\n",
       " 'get_certificate_information',\n",
       " 'get_certificate_recent_data',\n",
       " 'get_certificates',\n",
       " 'get_certificates_dict',\n",
       " 'get_certificates_list',\n",
       " 'get_certificates_overview',\n",
       " 'get_commodities',\n",
       " 'get_commodities_dict',\n",
       " 'get_commodities_list',\n",
       " 'get_commodities_overview',\n",
       " 'get_commodity_groups',\n",
       " 'get_commodity_historical_data',\n",
       " 'get_commodity_information',\n",
       " 'get_commodity_recent_data',\n",
       " 'get_crypto_historical_data',\n",
       " 'get_crypto_information',\n",
       " 'get_crypto_recent_data',\n",
       " 'get_cryptos',\n",
       " 'get_cryptos_dict',\n",
       " 'get_cryptos_list',\n",
       " 'get_cryptos_overview',\n",
       " 'get_currency_cross_historical_data',\n",
       " 'get_currency_cross_information',\n",
       " 'get_currency_cross_recent_data',\n",
       " 'get_currency_crosses',\n",
       " 'get_currency_crosses_dict',\n",
       " 'get_currency_crosses_list',\n",
       " 'get_currency_crosses_overview',\n",
       " 'get_etf_countries',\n",
       " 'get_etf_historical_data',\n",
       " 'get_etf_information',\n",
       " 'get_etf_recent_data',\n",
       " 'get_etfs',\n",
       " 'get_etfs_dict',\n",
       " 'get_etfs_list',\n",
       " 'get_etfs_overview',\n",
       " 'get_fund_countries',\n",
       " 'get_fund_historical_data',\n",
       " 'get_fund_information',\n",
       " 'get_fund_recent_data',\n",
       " 'get_funds',\n",
       " 'get_funds_dict',\n",
       " 'get_funds_list',\n",
       " 'get_funds_overview',\n",
       " 'get_index_countries',\n",
       " 'get_index_historical_data',\n",
       " 'get_index_information',\n",
       " 'get_index_recent_data',\n",
       " 'get_indices',\n",
       " 'get_indices_dict',\n",
       " 'get_indices_list',\n",
       " 'get_indices_overview',\n",
       " 'get_stock_company_profile',\n",
       " 'get_stock_countries',\n",
       " 'get_stock_dividends',\n",
       " 'get_stock_financial_summary',\n",
       " 'get_stock_historical_data',\n",
       " 'get_stock_information',\n",
       " 'get_stock_recent_data',\n",
       " 'get_stocks',\n",
       " 'get_stocks_dict',\n",
       " 'get_stocks_list',\n",
       " 'get_stocks_overview',\n",
       " 'indices',\n",
       " 'moving_averages',\n",
       " 'news',\n",
       " 'pivot_points',\n",
       " 'search',\n",
       " 'search_bonds',\n",
       " 'search_certificates',\n",
       " 'search_commodities',\n",
       " 'search_cryptos',\n",
       " 'search_currency_crosses',\n",
       " 'search_etfs',\n",
       " 'search_funds',\n",
       " 'search_indices',\n",
       " 'search_quotes',\n",
       " 'search_stocks',\n",
       " 'stocks',\n",
       " 'technical',\n",
       " 'technical_indicators',\n",
       " 'utils']"
      ]
     },
     "execution_count": 16,
     "metadata": {},
     "output_type": "execute_result"
    }
   ],
   "source": [
    "dir(investpy)"
   ]
  },
  {
   "cell_type": "code",
   "execution_count": 17,
   "metadata": {},
   "outputs": [],
   "source": [
    "investpy.get_stock_recent_data?"
   ]
  },
  {
   "cell_type": "code",
   "execution_count": 18,
   "metadata": {},
   "outputs": [
    {
     "data": {
      "text/html": [
       "<div>\n",
       "<style scoped>\n",
       "    .dataframe tbody tr th:only-of-type {\n",
       "        vertical-align: middle;\n",
       "    }\n",
       "\n",
       "    .dataframe tbody tr th {\n",
       "        vertical-align: top;\n",
       "    }\n",
       "\n",
       "    .dataframe thead th {\n",
       "        text-align: right;\n",
       "    }\n",
       "</style>\n",
       "<table border=\"1\" class=\"dataframe\">\n",
       "  <thead>\n",
       "    <tr style=\"text-align: right;\">\n",
       "      <th></th>\n",
       "      <th>Open</th>\n",
       "      <th>High</th>\n",
       "      <th>Low</th>\n",
       "      <th>Close</th>\n",
       "      <th>Volume</th>\n",
       "      <th>Currency</th>\n",
       "    </tr>\n",
       "    <tr>\n",
       "      <th>Date</th>\n",
       "      <th></th>\n",
       "      <th></th>\n",
       "      <th></th>\n",
       "      <th></th>\n",
       "      <th></th>\n",
       "      <th></th>\n",
       "    </tr>\n",
       "  </thead>\n",
       "  <tbody>\n",
       "    <tr>\n",
       "      <th>2020-11-06</th>\n",
       "      <td>19.55</td>\n",
       "      <td>19.92</td>\n",
       "      <td>19.55</td>\n",
       "      <td>19.75</td>\n",
       "      <td>37270300</td>\n",
       "      <td>BRL</td>\n",
       "    </tr>\n",
       "    <tr>\n",
       "      <th>2020-11-09</th>\n",
       "      <td>21.11</td>\n",
       "      <td>22.69</td>\n",
       "      <td>21.05</td>\n",
       "      <td>21.61</td>\n",
       "      <td>163120000</td>\n",
       "      <td>BRL</td>\n",
       "    </tr>\n",
       "    <tr>\n",
       "      <th>2020-11-10</th>\n",
       "      <td>21.89</td>\n",
       "      <td>23.15</td>\n",
       "      <td>21.82</td>\n",
       "      <td>23.08</td>\n",
       "      <td>161144896</td>\n",
       "      <td>BRL</td>\n",
       "    </tr>\n",
       "    <tr>\n",
       "      <th>2020-11-11</th>\n",
       "      <td>23.35</td>\n",
       "      <td>23.35</td>\n",
       "      <td>22.41</td>\n",
       "      <td>22.88</td>\n",
       "      <td>91735504</td>\n",
       "      <td>BRL</td>\n",
       "    </tr>\n",
       "    <tr>\n",
       "      <th>2020-11-12</th>\n",
       "      <td>22.74</td>\n",
       "      <td>22.81</td>\n",
       "      <td>21.77</td>\n",
       "      <td>21.91</td>\n",
       "      <td>75142496</td>\n",
       "      <td>BRL</td>\n",
       "    </tr>\n",
       "    <tr>\n",
       "      <th>2020-11-13</th>\n",
       "      <td>22.03</td>\n",
       "      <td>22.76</td>\n",
       "      <td>21.90</td>\n",
       "      <td>22.63</td>\n",
       "      <td>63995000</td>\n",
       "      <td>BRL</td>\n",
       "    </tr>\n",
       "    <tr>\n",
       "      <th>2020-11-16</th>\n",
       "      <td>23.20</td>\n",
       "      <td>23.63</td>\n",
       "      <td>23.16</td>\n",
       "      <td>23.29</td>\n",
       "      <td>96512704</td>\n",
       "      <td>BRL</td>\n",
       "    </tr>\n",
       "    <tr>\n",
       "      <th>2020-11-17</th>\n",
       "      <td>23.05</td>\n",
       "      <td>24.14</td>\n",
       "      <td>22.99</td>\n",
       "      <td>23.69</td>\n",
       "      <td>92762800</td>\n",
       "      <td>BRL</td>\n",
       "    </tr>\n",
       "    <tr>\n",
       "      <th>2020-11-18</th>\n",
       "      <td>23.97</td>\n",
       "      <td>24.13</td>\n",
       "      <td>23.55</td>\n",
       "      <td>23.55</td>\n",
       "      <td>64340100</td>\n",
       "      <td>BRL</td>\n",
       "    </tr>\n",
       "    <tr>\n",
       "      <th>2020-11-19</th>\n",
       "      <td>23.54</td>\n",
       "      <td>23.93</td>\n",
       "      <td>23.38</td>\n",
       "      <td>23.82</td>\n",
       "      <td>63380000</td>\n",
       "      <td>BRL</td>\n",
       "    </tr>\n",
       "    <tr>\n",
       "      <th>2020-11-20</th>\n",
       "      <td>23.84</td>\n",
       "      <td>23.98</td>\n",
       "      <td>23.47</td>\n",
       "      <td>23.65</td>\n",
       "      <td>36130400</td>\n",
       "      <td>BRL</td>\n",
       "    </tr>\n",
       "    <tr>\n",
       "      <th>2020-11-23</th>\n",
       "      <td>24.05</td>\n",
       "      <td>25.10</td>\n",
       "      <td>24.04</td>\n",
       "      <td>25.10</td>\n",
       "      <td>125645296</td>\n",
       "      <td>BRL</td>\n",
       "    </tr>\n",
       "    <tr>\n",
       "      <th>2020-11-24</th>\n",
       "      <td>25.68</td>\n",
       "      <td>26.66</td>\n",
       "      <td>25.65</td>\n",
       "      <td>26.22</td>\n",
       "      <td>153293504</td>\n",
       "      <td>BRL</td>\n",
       "    </tr>\n",
       "    <tr>\n",
       "      <th>2020-11-25</th>\n",
       "      <td>26.14</td>\n",
       "      <td>26.50</td>\n",
       "      <td>25.67</td>\n",
       "      <td>26.25</td>\n",
       "      <td>73946200</td>\n",
       "      <td>BRL</td>\n",
       "    </tr>\n",
       "    <tr>\n",
       "      <th>2020-11-26</th>\n",
       "      <td>25.92</td>\n",
       "      <td>25.92</td>\n",
       "      <td>25.57</td>\n",
       "      <td>25.82</td>\n",
       "      <td>41935900</td>\n",
       "      <td>BRL</td>\n",
       "    </tr>\n",
       "    <tr>\n",
       "      <th>2020-11-27</th>\n",
       "      <td>25.90</td>\n",
       "      <td>26.06</td>\n",
       "      <td>25.48</td>\n",
       "      <td>25.50</td>\n",
       "      <td>49863500</td>\n",
       "      <td>BRL</td>\n",
       "    </tr>\n",
       "    <tr>\n",
       "      <th>2020-11-30</th>\n",
       "      <td>25.28</td>\n",
       "      <td>25.88</td>\n",
       "      <td>24.85</td>\n",
       "      <td>24.90</td>\n",
       "      <td>90207696</td>\n",
       "      <td>BRL</td>\n",
       "    </tr>\n",
       "    <tr>\n",
       "      <th>2020-12-01</th>\n",
       "      <td>25.45</td>\n",
       "      <td>25.77</td>\n",
       "      <td>25.30</td>\n",
       "      <td>25.60</td>\n",
       "      <td>58866000</td>\n",
       "      <td>BRL</td>\n",
       "    </tr>\n",
       "    <tr>\n",
       "      <th>2020-12-02</th>\n",
       "      <td>25.62</td>\n",
       "      <td>26.50</td>\n",
       "      <td>25.33</td>\n",
       "      <td>25.91</td>\n",
       "      <td>88089904</td>\n",
       "      <td>BRL</td>\n",
       "    </tr>\n",
       "    <tr>\n",
       "      <th>2020-12-03</th>\n",
       "      <td>26.20</td>\n",
       "      <td>26.89</td>\n",
       "      <td>26.08</td>\n",
       "      <td>26.64</td>\n",
       "      <td>62424500</td>\n",
       "      <td>BRL</td>\n",
       "    </tr>\n",
       "    <tr>\n",
       "      <th>2020-12-04</th>\n",
       "      <td>27.19</td>\n",
       "      <td>27.57</td>\n",
       "      <td>27.07</td>\n",
       "      <td>27.53</td>\n",
       "      <td>61652400</td>\n",
       "      <td>BRL</td>\n",
       "    </tr>\n",
       "  </tbody>\n",
       "</table>\n",
       "</div>"
      ],
      "text/plain": [
       "             Open   High    Low  Close     Volume Currency\n",
       "Date                                                      \n",
       "2020-11-06  19.55  19.92  19.55  19.75   37270300      BRL\n",
       "2020-11-09  21.11  22.69  21.05  21.61  163120000      BRL\n",
       "2020-11-10  21.89  23.15  21.82  23.08  161144896      BRL\n",
       "2020-11-11  23.35  23.35  22.41  22.88   91735504      BRL\n",
       "2020-11-12  22.74  22.81  21.77  21.91   75142496      BRL\n",
       "2020-11-13  22.03  22.76  21.90  22.63   63995000      BRL\n",
       "2020-11-16  23.20  23.63  23.16  23.29   96512704      BRL\n",
       "2020-11-17  23.05  24.14  22.99  23.69   92762800      BRL\n",
       "2020-11-18  23.97  24.13  23.55  23.55   64340100      BRL\n",
       "2020-11-19  23.54  23.93  23.38  23.82   63380000      BRL\n",
       "2020-11-20  23.84  23.98  23.47  23.65   36130400      BRL\n",
       "2020-11-23  24.05  25.10  24.04  25.10  125645296      BRL\n",
       "2020-11-24  25.68  26.66  25.65  26.22  153293504      BRL\n",
       "2020-11-25  26.14  26.50  25.67  26.25   73946200      BRL\n",
       "2020-11-26  25.92  25.92  25.57  25.82   41935900      BRL\n",
       "2020-11-27  25.90  26.06  25.48  25.50   49863500      BRL\n",
       "2020-11-30  25.28  25.88  24.85  24.90   90207696      BRL\n",
       "2020-12-01  25.45  25.77  25.30  25.60   58866000      BRL\n",
       "2020-12-02  25.62  26.50  25.33  25.91   88089904      BRL\n",
       "2020-12-03  26.20  26.89  26.08  26.64   62424500      BRL\n",
       "2020-12-04  27.19  27.57  27.07  27.53   61652400      BRL"
      ]
     },
     "execution_count": 18,
     "metadata": {},
     "output_type": "execute_result"
    }
   ],
   "source": [
    "investpy.get_stock_recent_data('petr4', 'brazil')"
   ]
  },
  {
   "cell_type": "markdown",
   "metadata": {},
   "source": [
    "## Um comentário sobre velocidade\n",
    "\n",
    "\n",
    "$$\n",
    "\\exp(x) = 1 + x + \\frac{x^2}{2!} + \\frac{x^3}{3!} + ... = \\sum_{i=0}^{\\infty}\\left(\\frac{x^i}{i!} \\right)\n",
    "$$\n"
   ]
  },
  {
   "cell_type": "code",
   "execution_count": 38,
   "metadata": {},
   "outputs": [],
   "source": [
    "def meu_exp(x, n_parcelas = 10):\n",
    "    \n",
    "    def fatorial(n):\n",
    "        if n == 0:\n",
    "            return(1)\n",
    "        else:\n",
    "            return(n * fatorial(n-1))\n",
    "    \n",
    "    return(sum([x**i/fatorial(i) for i in range(n_parcelas)]))\n",
    "    "
   ]
  },
  {
   "cell_type": "code",
   "execution_count": 42,
   "metadata": {},
   "outputs": [],
   "source": [
    "from math import exp # <--- mesma função, mas estou usando um pacote"
   ]
  },
  {
   "cell_type": "code",
   "execution_count": 46,
   "metadata": {},
   "outputs": [
    {
     "name": "stdout",
     "output_type": "stream",
     "text": [
      "11.4 µs ± 166 ns per loop (mean ± std. dev. of 7 runs, 100000 loops each)\n",
      "116 ns ± 1.04 ns per loop (mean ± std. dev. of 7 runs, 10000000 loops each)\n"
     ]
    }
   ],
   "source": [
    "%timeit meu_exp(1) #<-- minha função\n",
    "%timeit exp(1)     #<-- função do Python"
   ]
  },
  {
   "cell_type": "code",
   "execution_count": null,
   "metadata": {},
   "outputs": [],
   "source": []
  }
 ],
 "metadata": {
  "kernelspec": {
   "display_name": "Python 3",
   "language": "python",
   "name": "python3"
  },
  "language_info": {
   "codemirror_mode": {
    "name": "ipython",
    "version": 3
   },
   "file_extension": ".py",
   "mimetype": "text/x-python",
   "name": "python",
   "nbconvert_exporter": "python",
   "pygments_lexer": "ipython3",
   "version": "3.7.1"
  }
 },
 "nbformat": 4,
 "nbformat_minor": 4
}
