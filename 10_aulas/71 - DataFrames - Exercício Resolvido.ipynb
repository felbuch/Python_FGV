{
 "cells": [
  {
   "cell_type": "markdown",
   "metadata": {},
   "source": [
    "## Exercicio resolvido sobre DataFrames\n",
    "\n",
    "Este [link](https://raw.githubusercontent.com/cliburn/bios-823-2020/master/quiz/wnv_human_cases.csv) tem dados sobre a incidência de casos do Vírus do Nilo Ocidental, um vírus da família da dengue, da zika e da febre amarela. \n",
    "\n",
    "1. Importe os dados como um DataFrame chamado `df`. Em seguida, mostre 5 linhas aleatórias do DataFrame."
   ]
  },
  {
   "cell_type": "code",
   "execution_count": 2,
   "metadata": {},
   "outputs": [
    {
     "data": {
      "text/html": [
       "<div>\n",
       "<style scoped>\n",
       "    .dataframe tbody tr th:only-of-type {\n",
       "        vertical-align: middle;\n",
       "    }\n",
       "\n",
       "    .dataframe tbody tr th {\n",
       "        vertical-align: top;\n",
       "    }\n",
       "\n",
       "    .dataframe thead th {\n",
       "        text-align: right;\n",
       "    }\n",
       "</style>\n",
       "<table border=\"1\" class=\"dataframe\">\n",
       "  <thead>\n",
       "    <tr style=\"text-align: right;\">\n",
       "      <th></th>\n",
       "      <th>Year</th>\n",
       "      <th>Week Reported</th>\n",
       "      <th>County</th>\n",
       "      <th>Positive Cases</th>\n",
       "    </tr>\n",
       "  </thead>\n",
       "  <tbody>\n",
       "    <tr>\n",
       "      <th>0</th>\n",
       "      <td>2006</td>\n",
       "      <td>35</td>\n",
       "      <td>Alameda</td>\n",
       "      <td>1</td>\n",
       "    </tr>\n",
       "    <tr>\n",
       "      <th>1</th>\n",
       "      <td>2006</td>\n",
       "      <td>33</td>\n",
       "      <td>Butte</td>\n",
       "      <td>4</td>\n",
       "    </tr>\n",
       "    <tr>\n",
       "      <th>2</th>\n",
       "      <td>2006</td>\n",
       "      <td>34</td>\n",
       "      <td>Butte</td>\n",
       "      <td>1</td>\n",
       "    </tr>\n",
       "    <tr>\n",
       "      <th>3</th>\n",
       "      <td>2006</td>\n",
       "      <td>35</td>\n",
       "      <td>Butte</td>\n",
       "      <td>10</td>\n",
       "    </tr>\n",
       "    <tr>\n",
       "      <th>4</th>\n",
       "      <td>2006</td>\n",
       "      <td>36</td>\n",
       "      <td>Butte</td>\n",
       "      <td>2</td>\n",
       "    </tr>\n",
       "  </tbody>\n",
       "</table>\n",
       "</div>"
      ],
      "text/plain": [
       "   Year  Week Reported   County  Positive Cases\n",
       "0  2006             35  Alameda               1\n",
       "1  2006             33    Butte               4\n",
       "2  2006             34    Butte               1\n",
       "3  2006             35    Butte              10\n",
       "4  2006             36    Butte               2"
      ]
     },
     "execution_count": 2,
     "metadata": {},
     "output_type": "execute_result"
    }
   ],
   "source": [
    "#== Gabarito ==#\n",
    "import pandas as pd\n",
    "df = pd.read_csv('https://raw.githubusercontent.com/cliburn/bios-823-2020/master/quiz/wnv_human_cases.csv')\n",
    "df.head(5)"
   ]
  },
  {
   "cell_type": "markdown",
   "metadata": {},
   "source": [
    "2. Troque o nome das colunas para o portugues. Os nomes das colunas devem ser:\n",
    "* ano\n",
    "* semana\n",
    "* distrito\n",
    "* casos\n",
    "\n",
    "Note as letras minúsculas e a ausência de acentos."
   ]
  },
  {
   "cell_type": "code",
   "execution_count": 3,
   "metadata": {},
   "outputs": [
    {
     "data": {
      "text/html": [
       "<div>\n",
       "<style scoped>\n",
       "    .dataframe tbody tr th:only-of-type {\n",
       "        vertical-align: middle;\n",
       "    }\n",
       "\n",
       "    .dataframe tbody tr th {\n",
       "        vertical-align: top;\n",
       "    }\n",
       "\n",
       "    .dataframe thead th {\n",
       "        text-align: right;\n",
       "    }\n",
       "</style>\n",
       "<table border=\"1\" class=\"dataframe\">\n",
       "  <thead>\n",
       "    <tr style=\"text-align: right;\">\n",
       "      <th></th>\n",
       "      <th>ano</th>\n",
       "      <th>semana</th>\n",
       "      <th>distrito</th>\n",
       "      <th>casos</th>\n",
       "    </tr>\n",
       "  </thead>\n",
       "  <tbody>\n",
       "    <tr>\n",
       "      <th>0</th>\n",
       "      <td>2006</td>\n",
       "      <td>35</td>\n",
       "      <td>Alameda</td>\n",
       "      <td>1</td>\n",
       "    </tr>\n",
       "    <tr>\n",
       "      <th>1</th>\n",
       "      <td>2006</td>\n",
       "      <td>33</td>\n",
       "      <td>Butte</td>\n",
       "      <td>4</td>\n",
       "    </tr>\n",
       "    <tr>\n",
       "      <th>2</th>\n",
       "      <td>2006</td>\n",
       "      <td>34</td>\n",
       "      <td>Butte</td>\n",
       "      <td>1</td>\n",
       "    </tr>\n",
       "    <tr>\n",
       "      <th>3</th>\n",
       "      <td>2006</td>\n",
       "      <td>35</td>\n",
       "      <td>Butte</td>\n",
       "      <td>10</td>\n",
       "    </tr>\n",
       "    <tr>\n",
       "      <th>4</th>\n",
       "      <td>2006</td>\n",
       "      <td>36</td>\n",
       "      <td>Butte</td>\n",
       "      <td>2</td>\n",
       "    </tr>\n",
       "  </tbody>\n",
       "</table>\n",
       "</div>"
      ],
      "text/plain": [
       "    ano  semana distrito  casos\n",
       "0  2006      35  Alameda      1\n",
       "1  2006      33    Butte      4\n",
       "2  2006      34    Butte      1\n",
       "3  2006      35    Butte     10\n",
       "4  2006      36    Butte      2"
      ]
     },
     "execution_count": 3,
     "metadata": {},
     "output_type": "execute_result"
    }
   ],
   "source": [
    "#== Gabarito ==#\n",
    "df.columns = ['ano','semana','distrito','casos']\n",
    "df.head()"
   ]
  },
  {
   "cell_type": "markdown",
   "metadata": {},
   "source": [
    "3.Quais distritos aparecem no DataFrame? "
   ]
  },
  {
   "cell_type": "code",
   "execution_count": 58,
   "metadata": {},
   "outputs": [
    {
     "data": {
      "text/plain": [
       "{'Alameda',\n",
       " 'Amador',\n",
       " 'Butte',\n",
       " 'Calaveras',\n",
       " 'Colusa',\n",
       " 'Contra Costa',\n",
       " 'El Dorado',\n",
       " 'Fresno',\n",
       " 'Glenn',\n",
       " 'Humboldt',\n",
       " 'Imperial',\n",
       " 'Inyo',\n",
       " 'Kern',\n",
       " 'Kings',\n",
       " 'Lake',\n",
       " 'Los Angeles',\n",
       " 'Madera',\n",
       " 'Marin',\n",
       " 'Mendocino',\n",
       " 'Merced',\n",
       " 'Modoc',\n",
       " 'Mono',\n",
       " 'Monterey',\n",
       " 'Napa',\n",
       " 'Nevada',\n",
       " 'Orange',\n",
       " 'Placer',\n",
       " 'Riverside',\n",
       " 'Sacramento',\n",
       " 'San Bernardino',\n",
       " 'San Diego',\n",
       " 'San Francisco',\n",
       " 'San Joaquin',\n",
       " 'San Luis Obispo',\n",
       " 'Santa Barbara',\n",
       " 'Santa Clara',\n",
       " 'Santa Cruz',\n",
       " 'Shasta',\n",
       " 'Siskiyou',\n",
       " 'Solano',\n",
       " 'Sonoma',\n",
       " 'Stanislaus',\n",
       " 'Sutter',\n",
       " 'Tehama',\n",
       " 'Tulare',\n",
       " 'Tuolumne',\n",
       " 'Ventura',\n",
       " 'Yolo',\n",
       " 'Yuba'}"
      ]
     },
     "execution_count": 58,
     "metadata": {},
     "output_type": "execute_result"
    }
   ],
   "source": [
    "#==Gabarito ==#\n",
    "set(df.distrito)"
   ]
  },
  {
   "cell_type": "markdown",
   "metadata": {},
   "source": [
    "4. Calcule o número total de casos por ano e salve sua resposta como o dataframe `df_ano`."
   ]
  },
  {
   "cell_type": "code",
   "execution_count": 4,
   "metadata": {},
   "outputs": [],
   "source": [
    "#== Gabarito ==#\n",
    "df_ano = df.drop(columns='semana').groupby('ano').sum()"
   ]
  },
  {
   "cell_type": "code",
   "execution_count": 7,
   "metadata": {},
   "outputs": [],
   "source": [
    "## == Ignore isso ==\n",
    "## Eu uso células assim para me ajudar a corrigir a sua prova\n",
    "## Elas vêem se você acertou, e me avisam caso contrário.\n",
    "assert list(df_ano.casos.head()) == [272, 380, 445, 112, 111]\n",
    "assert list(df_ano.casos.tail()) == [782, 442, 553, 217, 98]"
   ]
  },
  {
   "cell_type": "markdown",
   "metadata": {},
   "source": [
    "5. Calcule o numero médio de casos em cada semana do ano. Em qual semana ocorrem, em média, o maior número de casos de infecção com o vírus?"
   ]
  },
  {
   "cell_type": "code",
   "execution_count": 52,
   "metadata": {},
   "outputs": [
    {
     "data": {
      "text/html": [
       "<div>\n",
       "<style scoped>\n",
       "    .dataframe tbody tr th:only-of-type {\n",
       "        vertical-align: middle;\n",
       "    }\n",
       "\n",
       "    .dataframe tbody tr th {\n",
       "        vertical-align: top;\n",
       "    }\n",
       "\n",
       "    .dataframe thead th {\n",
       "        text-align: right;\n",
       "    }\n",
       "</style>\n",
       "<table border=\"1\" class=\"dataframe\">\n",
       "  <thead>\n",
       "    <tr style=\"text-align: right;\">\n",
       "      <th></th>\n",
       "      <th>casos</th>\n",
       "    </tr>\n",
       "    <tr>\n",
       "      <th>semana</th>\n",
       "      <th></th>\n",
       "    </tr>\n",
       "  </thead>\n",
       "  <tbody>\n",
       "    <tr>\n",
       "      <th>41</th>\n",
       "      <td>3.708333</td>\n",
       "    </tr>\n",
       "  </tbody>\n",
       "</table>\n",
       "</div>"
      ],
      "text/plain": [
       "           casos\n",
       "semana          \n",
       "41      3.708333"
      ]
     },
     "execution_count": 52,
     "metadata": {},
     "output_type": "execute_result"
    }
   ],
   "source": [
    "##== Gabarito ==##\n",
    "df.drop(columns='ano').groupby('semana').mean().sort_values('casos', ascending=False).head(1)"
   ]
  },
  {
   "cell_type": "code",
   "execution_count": 53,
   "metadata": {},
   "outputs": [],
   "source": [
    "## Ignore isso\n",
    "zzz = _\n",
    "assert list(zzz.index)[0] == 41"
   ]
  },
  {
   "cell_type": "markdown",
   "metadata": {},
   "source": [
    "6. Que distrito reportou o maior número de casos nessa semana, e em que ano isso aconteceu?"
   ]
  },
  {
   "cell_type": "code",
   "execution_count": 54,
   "metadata": {},
   "outputs": [
    {
     "data": {
      "text/html": [
       "<div>\n",
       "<style scoped>\n",
       "    .dataframe tbody tr th:only-of-type {\n",
       "        vertical-align: middle;\n",
       "    }\n",
       "\n",
       "    .dataframe tbody tr th {\n",
       "        vertical-align: top;\n",
       "    }\n",
       "\n",
       "    .dataframe thead th {\n",
       "        text-align: right;\n",
       "    }\n",
       "</style>\n",
       "<table border=\"1\" class=\"dataframe\">\n",
       "  <thead>\n",
       "    <tr style=\"text-align: right;\">\n",
       "      <th></th>\n",
       "      <th>ano</th>\n",
       "      <th>semana</th>\n",
       "      <th>distrito</th>\n",
       "      <th>casos</th>\n",
       "    </tr>\n",
       "  </thead>\n",
       "  <tbody>\n",
       "    <tr>\n",
       "      <th>1642</th>\n",
       "      <td>2017</td>\n",
       "      <td>41</td>\n",
       "      <td>Los Angeles</td>\n",
       "      <td>40</td>\n",
       "    </tr>\n",
       "  </tbody>\n",
       "</table>\n",
       "</div>"
      ],
      "text/plain": [
       "       ano  semana     distrito  casos\n",
       "1642  2017      41  Los Angeles     40"
      ]
     },
     "execution_count": 54,
     "metadata": {},
     "output_type": "execute_result"
    }
   ],
   "source": [
    "df.loc[df.semana==41].sort_values('casos', ascending=False).head(1)"
   ]
  },
  {
   "cell_type": "code",
   "execution_count": 55,
   "metadata": {},
   "outputs": [],
   "source": [
    "zzz = _\n",
    "assert list(zzz.casos)[0] == 40\n",
    "assert list(zzz.ano)[0] + list(zzz.semana)[0] == 2058"
   ]
  }
 ],
 "metadata": {
  "kernelspec": {
   "display_name": "Python 3",
   "language": "python",
   "name": "python3"
  },
  "language_info": {
   "codemirror_mode": {
    "name": "ipython",
    "version": 3
   },
   "file_extension": ".py",
   "mimetype": "text/x-python",
   "name": "python",
   "nbconvert_exporter": "python",
   "pygments_lexer": "ipython3",
   "version": "3.7.1"
  }
 },
 "nbformat": 4,
 "nbformat_minor": 4
}
