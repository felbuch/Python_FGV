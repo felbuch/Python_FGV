{
 "cells": [
  {
   "cell_type": "markdown",
   "metadata": {},
   "source": [
    "# Prova\n",
    "## Nome:\n",
    "\n",
    "OBS: DEIXE AS CÉLULAS CONTENDO O COMANDO `assert` COMO AS ÚLTIMAS CÉLULAS DE CADA RESPOSTA.\n"
   ]
  },
  {
   "cell_type": "code",
   "execution_count": 3,
   "metadata": {},
   "outputs": [],
   "source": [
    "import numpy as np\n",
    "from math import pi, e, sqrt"
   ]
  },
  {
   "cell_type": "markdown",
   "metadata": {},
   "source": [
    "### Questão 1: Funções"
   ]
  },
  {
   "cell_type": "markdown",
   "metadata": {},
   "source": [
    "Os babilônicos tinham um jeito muito esperto de calcular a raiz de um número.  \n",
    "Pega, por exemplo, o número 49. Os babilônicos calculariam a raiz deste número assim...\n",
    "1. Chuta uma raiz. Sei lá, 5.\n",
    "2. Quanto é 49 sobre 5? É 9.8...\n",
    "3. 9.8 não é 5. Isso significa que a raiz de 49 tem que estar entre 9.8 e 5. Tira a média, então:\n",
    "4. A média entre 9.8 e 5 é 7.4. Voltamos ao passo 1, mas agora o nosso chute vai ser 7.4.\n",
    "\n",
    "Repetimos esses passos até que a diferença entre a nossa estimativa atual e a última for menor do que um determinado valor a ser especificado.\n",
    "\n",
    "**Construa uma função que calcule a raiz quadrada pelo método babilônico**\n",
    "Essa função deve seguir a descrição da seguinte documentação:\n",
    "\n",
    "```python\n",
    "\n",
    "'''\n",
    "Calcula a raiz quadrada pelo método babilônico\n",
    "\n",
    "Parameters:\n",
    "-----------\n",
    "x: float\n",
    "    Número cuja raiz quadrada se deseja calcular\n",
    "ci: float\n",
    "    Chute inicial.\n",
    "    O valor default desse chute deve ser 1\n",
    "tol: float\n",
    "    Tolerância. \n",
    "    A função termina quando a diferença (em valor absoluto) entre a estimativa atual e a última for menor do que esse valor.\n",
    "\n",
    "Returns:\n",
    "--------\n",
    "float\n",
    "    Raiz quadrada de Q, estimada pelo método babilônico\n",
    "    \n",
    "Exemplo:\n",
    "--------\n",
    ">>> raiz(100, 20)\n",
    "10.000000464611475\n",
    ">>> raiz(49)\n",
    "7.000000141269659\n",
    "\n",
    "'''\n",
    "\n",
    "```\n"
   ]
  },
  {
   "cell_type": "code",
   "execution_count": 4,
   "metadata": {},
   "outputs": [],
   "source": [
    "## == Gabarito == ##\n",
    "def raiz(x, ci = 1, tol=1e-6):\n",
    "    \n",
    "    r = ci\n",
    "    while abs(x/r - r) > tol:\n",
    "        r = (x/r + r)/2\n",
    "    return(r)"
   ]
  },
  {
   "cell_type": "markdown",
   "metadata": {},
   "source": [
    "### Curiosidade:\n",
    "(Pode pular se estiver com o tempo apertado)\n",
    "\n",
    "Você sabia que esse método, feito pelos babilônicos, é muito eficiente até mesmo para os padrões de hoje? Ele é um caso particular do Método de Newton, que você deve ter aprendido (ou vai aprender) em Cálculo.  \n",
    "\n",
    "Mesmo assim, essa função (com todo o respeito) é muito mais lenta do que a função já implementada no próprio Python. Isso porque a função implementada em Python não está escrita em Python, mas em uma linguagem muito mais rápida (e difícil!): C.\n",
    "\n",
    "Observe quanto tempo cada uma demora calculando $\\sqrt{100}$:"
   ]
  },
  {
   "cell_type": "code",
   "execution_count": 5,
   "metadata": {},
   "outputs": [
    {
     "name": "stdout",
     "output_type": "stream",
     "text": [
      "1.98 µs ± 282 ns per loop (mean ± std. dev. of 7 runs, 100000 loops each)\n",
      "150 ns ± 21.2 ns per loop (mean ± std. dev. of 7 runs, 10000000 loops each)\n"
     ]
    }
   ],
   "source": [
    "from math import sqrt\n",
    "%timeit raiz(100) # --- sua função\n",
    "%timeit sqrt(100) # --- função do Python"
   ]
  },
  {
   "cell_type": "markdown",
   "metadata": {},
   "source": [
    "Quase 20 vezes mais rápido! Esse é um dos motivos pelos quais, sempre que possível, devemos usar funções prontas em pacotes, ao invés de criarmos essas funções nós mesmos."
   ]
  },
  {
   "cell_type": "code",
   "execution_count": 6,
   "metadata": {},
   "outputs": [],
   "source": [
    "assert np.isclose(raiz(25), 5)\n",
    "assert np.isclose(raiz(15241578750190521),123456789)\n",
    "assert raiz(100,1) != raiz(100,2)"
   ]
  },
  {
   "cell_type": "markdown",
   "metadata": {},
   "source": [
    "## Questão 2: Listas"
   ]
  },
  {
   "cell_type": "markdown",
   "metadata": {},
   "source": [
    "Construa uma lista em que os termos sejam\n",
    "\n",
    "$$\n",
    "\\left[1, -\\frac{1}{3}, \\frac{1}{5}, -\\frac{1}{7}, \\frac{1}{9}, -\\frac{1}{11}, ... ,-\\frac{1}{1000001} \\right]\n",
    "$$\n",
    "\n",
    "isso é, o inverso de todos os números ímpares de 1 até 1-milhão-e-1 (inclusive), com sinais alternados. \n",
    "\n",
    "1. Use _list comprehension_ para gerar essa lista. Em seguida, salve-a como a variável `lista_Q2`\n",
    "\n",
    "Agora, some tudo e  multiplique por 4. \n",
    "\n",
    "2. Salve esse resultado em uma variável chamada `soma_Q2`.\n",
    "\n",
    "Agora, olhe o resultado. Você já viu esse número antes?\n",
    "\n",
    "**Dica:** O $i$-ésimo número ímpar é $2i + 1$, começando-se a contar de $i=0$. Veja, por exemplo, a tabela abaixo:\n",
    "\n",
    "| $i$ | $2i + 1$ |\n",
    "|-----|----------|\n",
    "|0    | 1        |\n",
    "|1    | 3        |\n",
    "|2    | 5        |\n",
    "|3    | 7        |\n",
    "|4    | 9        |\n",
    "| etc.| etc ìmpar|\n",
    "\n",
    "\n"
   ]
  },
  {
   "cell_type": "code",
   "execution_count": 8,
   "metadata": {},
   "outputs": [
    {
     "data": {
      "text/plain": [
       "3.1415936535887745"
      ]
     },
     "execution_count": 8,
     "metadata": {},
     "output_type": "execute_result"
    }
   ],
   "source": [
    "## == Gabarito == ##\n",
    "lista_Q2 = [(-1)**i * 1/(2*i + 1) for i in range(1000000+1)]\n",
    "soma_Q2 = 4 * sum(lista_Q2)\n",
    "soma_Q2"
   ]
  },
  {
   "cell_type": "code",
   "execution_count": 9,
   "metadata": {},
   "outputs": [],
   "source": [
    "assert len(lista_Q2) == 1000001\n",
    "assert np.isclose(soma_Q2, pi)"
   ]
  },
  {
   "cell_type": "markdown",
   "metadata": {},
   "source": [
    "## Questão 3: Dicionários\n",
    "\n",
    "Considere o seguinte dicionário, com resultados de um modelo de Data Science:"
   ]
  },
  {
   "cell_type": "code",
   "execution_count": 10,
   "metadata": {},
   "outputs": [],
   "source": [
    "resultados = {'modelo_1': {'acuracia': 0.98, 'precisao': 0.96, 'recall': 0.95},\n",
    "              'modelo_2': {'acuracia': 0.85, 'precisao': 0.86, 'recall': 0.82},\n",
    "              'modelo_3': {'acuracia': 0.90, 'precisao': 0.87, 'recall': 0.91},\n",
    "              'modelo_4': {'acuracia': 0.95, 'precisao': 0.97, 'recall': 0.92}\n",
    "             }"
   ]
  },
  {
   "cell_type": "markdown",
   "metadata": {},
   "source": [
    "Calcule o score F para cada um dos modelos e coloque no dicionario do respectivo modelo. O score F se calcula assim:\n",
    "\n",
    "$$\n",
    "F = 2\\times\\frac{precisao \\times recall}{precisao + recall}\n",
    "$$\n",
    "\n",
    "Agora, mostre o dicionario contendo o score F em cada modelo."
   ]
  },
  {
   "cell_type": "code",
   "execution_count": 11,
   "metadata": {},
   "outputs": [
    {
     "data": {
      "text/plain": [
       "{'modelo_1': {'acuracia': 0.98,\n",
       "  'precisao': 0.96,\n",
       "  'recall': 0.95,\n",
       "  'F': 0.9549738219895287},\n",
       " 'modelo_2': {'acuracia': 0.85,\n",
       "  'precisao': 0.86,\n",
       "  'recall': 0.82,\n",
       "  'F': 0.8395238095238095},\n",
       " 'modelo_3': {'acuracia': 0.9,\n",
       "  'precisao': 0.87,\n",
       "  'recall': 0.91,\n",
       "  'F': 0.8895505617977528},\n",
       " 'modelo_4': {'acuracia': 0.95,\n",
       "  'precisao': 0.97,\n",
       "  'recall': 0.92,\n",
       "  'F': 0.9443386243386243}}"
      ]
     },
     "execution_count": 11,
     "metadata": {},
     "output_type": "execute_result"
    }
   ],
   "source": [
    "## == Gabarito == ##\n",
    "for modelo in resultados.keys():\n",
    "    p = resultados[modelo]['precisao']\n",
    "    r = resultados[modelo]['recall']\n",
    "    F = 2 * p * r / (p + r)\n",
    "    resultados[modelo]['F'] = F \n",
    "resultados"
   ]
  },
  {
   "cell_type": "code",
   "execution_count": 12,
   "metadata": {},
   "outputs": [],
   "source": [
    "assert list(map(lambda x: x['F'], resultados.values())) == [0.9549738219895287,\n",
    "                                                            0.8395238095238095,\n",
    "                                                            0.8895505617977528,\n",
    "                                                            0.9443386243386243]"
   ]
  },
  {
   "cell_type": "markdown",
   "metadata": {},
   "source": [
    "## Questão 5: Funções"
   ]
  },
  {
   "cell_type": "markdown",
   "metadata": {},
   "source": [
    "A sequência de Collatz é muito bonitinha. Ela recebe um número $n$ inteiro e devolve outro, calculado da seguinte maneira:\n",
    "\n",
    "* se $n$ for par, ela devolve $\\frac{n}{2}$\n",
    "* se $n$ for impar, ela devolve $3n + 1$\n",
    "\n",
    "Aparentemente, se você ficar repetindo esses passos várias vezes, você sempre chega a 1, independente do número do qual você começou. Sim, isso é estranho. E ninguém sabe o porquê.\n",
    "\n",
    "1. Faça uma função, chamada  `collatz`, recebe um número `n` e devolve o próximo termo da sequência de Collatz.\n",
    "\n",
    "2. Faça uma função chamada `seq_collatz` que, a partir de um número $n$, devolva uma lista com todos os termos da sequência de Collatz até que o número 1 seja atingido. O número 1 deve ser incluído na lista.\n",
    "\n",
    "3. Faça uma função chamada `max_collatz` que recebe um número $n$ e retorne o maior número da Collatz de $n$. Por exemplo, para $n = 12$, a sequência de Collatz é $[12, 6, 3, 10, 5, 16, 8, 4, 2, 1]$, então `max_collatz` deveria retornar $16$."
   ]
  },
  {
   "cell_type": "code",
   "execution_count": 13,
   "metadata": {},
   "outputs": [],
   "source": [
    "## == Gabarito == #\n",
    "def collatz(n):\n",
    "    if n%2 == 0:\n",
    "        return(n/2)\n",
    "    else:\n",
    "        return(3*n + 1)\n",
    "\n",
    "def seq_collatz(n):\n",
    "    seq = [n]\n",
    "    while n != 1:\n",
    "        n = collatz(n)\n",
    "        seq.append(int(n))\n",
    "    return(seq)\n",
    "\n",
    "def max_collatz(n):\n",
    "    return(max(seq_collatz(n)))"
   ]
  },
  {
   "cell_type": "code",
   "execution_count": 14,
   "metadata": {},
   "outputs": [],
   "source": [
    "assert max_collatz(12) == 16\n",
    "assert max_collatz(1000) ==9232"
   ]
  },
  {
   "cell_type": "markdown",
   "metadata": {},
   "source": [
    "## Questão 6: Séries e DataFrames\n",
    "\n",
    "Este [link](https://raw.githubusercontent.com/cliburn/bios-823-2020/master/quiz/wnv_human_cases.csv) tem dados sobre a incidência de casos do Vírus do Nilo Ocidental, um vírus da família da dengue, da zika e da febre amarela. \n",
    "\n",
    "1. Importe os dados como um DataFrame chamado `df`. Em seguida, mostre 5 linhas aleatórias do DataFrame."
   ]
  },
  {
   "cell_type": "code",
   "execution_count": 15,
   "metadata": {},
   "outputs": [
    {
     "data": {
      "text/html": [
       "<div>\n",
       "<style scoped>\n",
       "    .dataframe tbody tr th:only-of-type {\n",
       "        vertical-align: middle;\n",
       "    }\n",
       "\n",
       "    .dataframe tbody tr th {\n",
       "        vertical-align: top;\n",
       "    }\n",
       "\n",
       "    .dataframe thead th {\n",
       "        text-align: right;\n",
       "    }\n",
       "</style>\n",
       "<table border=\"1\" class=\"dataframe\">\n",
       "  <thead>\n",
       "    <tr style=\"text-align: right;\">\n",
       "      <th></th>\n",
       "      <th>Year</th>\n",
       "      <th>Week Reported</th>\n",
       "      <th>County</th>\n",
       "      <th>Positive Cases</th>\n",
       "    </tr>\n",
       "  </thead>\n",
       "  <tbody>\n",
       "    <tr>\n",
       "      <th>0</th>\n",
       "      <td>2006</td>\n",
       "      <td>35</td>\n",
       "      <td>Alameda</td>\n",
       "      <td>1</td>\n",
       "    </tr>\n",
       "    <tr>\n",
       "      <th>1</th>\n",
       "      <td>2006</td>\n",
       "      <td>33</td>\n",
       "      <td>Butte</td>\n",
       "      <td>4</td>\n",
       "    </tr>\n",
       "    <tr>\n",
       "      <th>2</th>\n",
       "      <td>2006</td>\n",
       "      <td>34</td>\n",
       "      <td>Butte</td>\n",
       "      <td>1</td>\n",
       "    </tr>\n",
       "    <tr>\n",
       "      <th>3</th>\n",
       "      <td>2006</td>\n",
       "      <td>35</td>\n",
       "      <td>Butte</td>\n",
       "      <td>10</td>\n",
       "    </tr>\n",
       "    <tr>\n",
       "      <th>4</th>\n",
       "      <td>2006</td>\n",
       "      <td>36</td>\n",
       "      <td>Butte</td>\n",
       "      <td>2</td>\n",
       "    </tr>\n",
       "  </tbody>\n",
       "</table>\n",
       "</div>"
      ],
      "text/plain": [
       "   Year  Week Reported   County  Positive Cases\n",
       "0  2006             35  Alameda               1\n",
       "1  2006             33    Butte               4\n",
       "2  2006             34    Butte               1\n",
       "3  2006             35    Butte              10\n",
       "4  2006             36    Butte               2"
      ]
     },
     "execution_count": 15,
     "metadata": {},
     "output_type": "execute_result"
    }
   ],
   "source": [
    "#== Gabarito ==#\n",
    "import pandas as pd\n",
    "df = pd.read_csv('https://raw.githubusercontent.com/cliburn/bios-823-2020/master/quiz/wnv_human_cases.csv')\n",
    "df.head(5)"
   ]
  },
  {
   "cell_type": "markdown",
   "metadata": {},
   "source": [
    "2. Troque o nome das colunas para o portugues. Os nomes das colunas devem ser:\n",
    "* ano\n",
    "* semana\n",
    "* distrito\n",
    "* casos\n",
    "\n",
    "Note as letras minúsculas e a ausência de acentos."
   ]
  },
  {
   "cell_type": "code",
   "execution_count": 16,
   "metadata": {},
   "outputs": [
    {
     "data": {
      "text/html": [
       "<div>\n",
       "<style scoped>\n",
       "    .dataframe tbody tr th:only-of-type {\n",
       "        vertical-align: middle;\n",
       "    }\n",
       "\n",
       "    .dataframe tbody tr th {\n",
       "        vertical-align: top;\n",
       "    }\n",
       "\n",
       "    .dataframe thead th {\n",
       "        text-align: right;\n",
       "    }\n",
       "</style>\n",
       "<table border=\"1\" class=\"dataframe\">\n",
       "  <thead>\n",
       "    <tr style=\"text-align: right;\">\n",
       "      <th></th>\n",
       "      <th>ano</th>\n",
       "      <th>semana</th>\n",
       "      <th>distrito</th>\n",
       "      <th>casos</th>\n",
       "    </tr>\n",
       "  </thead>\n",
       "  <tbody>\n",
       "    <tr>\n",
       "      <th>0</th>\n",
       "      <td>2006</td>\n",
       "      <td>35</td>\n",
       "      <td>Alameda</td>\n",
       "      <td>1</td>\n",
       "    </tr>\n",
       "    <tr>\n",
       "      <th>1</th>\n",
       "      <td>2006</td>\n",
       "      <td>33</td>\n",
       "      <td>Butte</td>\n",
       "      <td>4</td>\n",
       "    </tr>\n",
       "    <tr>\n",
       "      <th>2</th>\n",
       "      <td>2006</td>\n",
       "      <td>34</td>\n",
       "      <td>Butte</td>\n",
       "      <td>1</td>\n",
       "    </tr>\n",
       "    <tr>\n",
       "      <th>3</th>\n",
       "      <td>2006</td>\n",
       "      <td>35</td>\n",
       "      <td>Butte</td>\n",
       "      <td>10</td>\n",
       "    </tr>\n",
       "    <tr>\n",
       "      <th>4</th>\n",
       "      <td>2006</td>\n",
       "      <td>36</td>\n",
       "      <td>Butte</td>\n",
       "      <td>2</td>\n",
       "    </tr>\n",
       "  </tbody>\n",
       "</table>\n",
       "</div>"
      ],
      "text/plain": [
       "    ano  semana distrito  casos\n",
       "0  2006      35  Alameda      1\n",
       "1  2006      33    Butte      4\n",
       "2  2006      34    Butte      1\n",
       "3  2006      35    Butte     10\n",
       "4  2006      36    Butte      2"
      ]
     },
     "execution_count": 16,
     "metadata": {},
     "output_type": "execute_result"
    }
   ],
   "source": [
    "#== Gabarito ==#\n",
    "df.columns = ['ano','semana','distrito','casos']\n",
    "df.head()"
   ]
  },
  {
   "cell_type": "markdown",
   "metadata": {},
   "source": [
    "3. Crie uma série com o número total de casos por ano no distrito de Butte. Essa série deve se chamar `butte` e deve ter o `ano` como índice."
   ]
  },
  {
   "cell_type": "code",
   "execution_count": 17,
   "metadata": {},
   "outputs": [
    {
     "data": {
      "text/html": [
       "<div>\n",
       "<style scoped>\n",
       "    .dataframe tbody tr th:only-of-type {\n",
       "        vertical-align: middle;\n",
       "    }\n",
       "\n",
       "    .dataframe tbody tr th {\n",
       "        vertical-align: top;\n",
       "    }\n",
       "\n",
       "    .dataframe thead th {\n",
       "        text-align: right;\n",
       "    }\n",
       "</style>\n",
       "<table border=\"1\" class=\"dataframe\">\n",
       "  <thead>\n",
       "    <tr style=\"text-align: right;\">\n",
       "      <th></th>\n",
       "      <th>casos</th>\n",
       "    </tr>\n",
       "    <tr>\n",
       "      <th>ano</th>\n",
       "      <th></th>\n",
       "    </tr>\n",
       "  </thead>\n",
       "  <tbody>\n",
       "    <tr>\n",
       "      <th>2006</th>\n",
       "      <td>31</td>\n",
       "    </tr>\n",
       "    <tr>\n",
       "      <th>2007</th>\n",
       "      <td>16</td>\n",
       "    </tr>\n",
       "    <tr>\n",
       "      <th>2008</th>\n",
       "      <td>6</td>\n",
       "    </tr>\n",
       "    <tr>\n",
       "      <th>2009</th>\n",
       "      <td>2</td>\n",
       "    </tr>\n",
       "    <tr>\n",
       "      <th>2010</th>\n",
       "      <td>1</td>\n",
       "    </tr>\n",
       "    <tr>\n",
       "      <th>2011</th>\n",
       "      <td>3</td>\n",
       "    </tr>\n",
       "    <tr>\n",
       "      <th>2012</th>\n",
       "      <td>10</td>\n",
       "    </tr>\n",
       "    <tr>\n",
       "      <th>2013</th>\n",
       "      <td>24</td>\n",
       "    </tr>\n",
       "    <tr>\n",
       "      <th>2014</th>\n",
       "      <td>24</td>\n",
       "    </tr>\n",
       "    <tr>\n",
       "      <th>2015</th>\n",
       "      <td>53</td>\n",
       "    </tr>\n",
       "    <tr>\n",
       "      <th>2016</th>\n",
       "      <td>21</td>\n",
       "    </tr>\n",
       "    <tr>\n",
       "      <th>2017</th>\n",
       "      <td>4</td>\n",
       "    </tr>\n",
       "    <tr>\n",
       "      <th>2018</th>\n",
       "      <td>12</td>\n",
       "    </tr>\n",
       "    <tr>\n",
       "      <th>2019</th>\n",
       "      <td>4</td>\n",
       "    </tr>\n",
       "  </tbody>\n",
       "</table>\n",
       "</div>"
      ],
      "text/plain": [
       "      casos\n",
       "ano        \n",
       "2006     31\n",
       "2007     16\n",
       "2008      6\n",
       "2009      2\n",
       "2010      1\n",
       "2011      3\n",
       "2012     10\n",
       "2013     24\n",
       "2014     24\n",
       "2015     53\n",
       "2016     21\n",
       "2017      4\n",
       "2018     12\n",
       "2019      4"
      ]
     },
     "execution_count": 17,
     "metadata": {},
     "output_type": "execute_result"
    }
   ],
   "source": [
    "butte = df.loc[df.distrito == 'Butte',['ano','casos']].groupby('ano').sum()\n",
    "butte"
   ]
  },
  {
   "cell_type": "code",
   "execution_count": 18,
   "metadata": {},
   "outputs": [],
   "source": [
    "assert list(butte.index) == list(range(2006,2020))\n",
    "assert butte.iloc[6][0] == 10\n",
    "assert butte.iloc[9][0] == 53"
   ]
  },
  {
   "cell_type": "markdown",
   "metadata": {},
   "source": [
    "## Questão 8: Arrays\n",
    "\n",
    "Rode o código abaixo."
   ]
  },
  {
   "cell_type": "code",
   "execution_count": 36,
   "metadata": {},
   "outputs": [],
   "source": [
    "np.random.seed(0)"
   ]
  },
  {
   "cell_type": "markdown",
   "metadata": {},
   "source": [
    "Para responder as próximas perguntas, crie um array com 1000 linhas e 5 colunas de números aleatórios. Chame o seu array de `A`."
   ]
  },
  {
   "cell_type": "code",
   "execution_count": 37,
   "metadata": {},
   "outputs": [
    {
     "data": {
      "text/plain": [
       "array([[0.5488135 , 0.71518937, 0.60276338, 0.54488318, 0.4236548 ],\n",
       "       [0.64589411, 0.43758721, 0.891773  , 0.96366276, 0.38344152],\n",
       "       [0.79172504, 0.52889492, 0.56804456, 0.92559664, 0.07103606],\n",
       "       ...,\n",
       "       [0.69804658, 0.48635362, 0.9408649 , 0.06837524, 0.1557967 ],\n",
       "       [0.19456826, 0.22100051, 0.23542762, 0.1528502 , 0.69291755],\n",
       "       [0.21815575, 0.23545348, 0.19738826, 0.39868722, 0.9585931 ]])"
      ]
     },
     "execution_count": 37,
     "metadata": {},
     "output_type": "execute_result"
    }
   ],
   "source": [
    "#==Gabarito== #\n",
    "A = np.random.random((1000,5))\n",
    "A"
   ]
  },
  {
   "cell_type": "markdown",
   "metadata": {},
   "source": [
    "1. Calcule a soma dos termos de cada linha desse array. Salve como o array `A1`"
   ]
  },
  {
   "cell_type": "code",
   "execution_count": 38,
   "metadata": {},
   "outputs": [],
   "source": [
    "#==Gabarito ==#\n",
    "A1 = A.sum(axis=1)"
   ]
  },
  {
   "cell_type": "markdown",
   "metadata": {},
   "source": [
    "2. Calcule a média dos termos de cada coluna desse array. Salve como o array `A2`."
   ]
  },
  {
   "cell_type": "code",
   "execution_count": 39,
   "metadata": {},
   "outputs": [],
   "source": [
    "A2 = A.mean(axis=0)"
   ]
  },
  {
   "cell_type": "markdown",
   "metadata": {},
   "source": [
    "3. Pegue a primeira coluna desse array e salve como um array `v`. Em seguida, aplique a função `f` definida a seguir a cada um dos seus elementos. Salve o resultado como o array `A3`."
   ]
  },
  {
   "cell_type": "code",
   "execution_count": 40,
   "metadata": {},
   "outputs": [],
   "source": [
    "def f(x):\n",
    "    return(1/(1+np.exp(-x)))"
   ]
  },
  {
   "cell_type": "code",
   "execution_count": 41,
   "metadata": {},
   "outputs": [],
   "source": [
    "#== Gabarito ==#\n",
    "v = A[:,0]\n",
    "A3 = f(v)"
   ]
  },
  {
   "cell_type": "markdown",
   "metadata": {},
   "source": [
    "4. Construa um dicionário chamado `dicionario` com 3 chaves chamadas `A1`, `A2` e `A3` contendo os arrays `A1`, `A2` e `A3 respectivamente.`"
   ]
  },
  {
   "cell_type": "code",
   "execution_count": 42,
   "metadata": {},
   "outputs": [],
   "source": [
    "#== Gabarito ==#\n",
    "dicionario = {'A1': A1,\n",
    "              'A2': A2,\n",
    "              'A3': A3}"
   ]
  },
  {
   "cell_type": "code",
   "execution_count": 43,
   "metadata": {},
   "outputs": [],
   "source": [
    "assert A1.shape == (1000,)\n",
    "assert np.isclose(A1[100], 2.292488620835086)"
   ]
  },
  {
   "cell_type": "code",
   "execution_count": 44,
   "metadata": {},
   "outputs": [],
   "source": [
    "assert A2.shape == (5,)\n",
    "assert np.isclose(A2.std(), 0.008099197912765557)"
   ]
  },
  {
   "cell_type": "code",
   "execution_count": 45,
   "metadata": {},
   "outputs": [],
   "source": [
    "assert A3.shape == (1000,)\n",
    "assert np.isclose(A3[300], 0.6098765471994557)"
   ]
  },
  {
   "cell_type": "code",
   "execution_count": 46,
   "metadata": {},
   "outputs": [],
   "source": [
    "assert np.prod(dicionario['A1'] == A1)\n",
    "assert np.prod(dicionario['A2'] == A2)\n",
    "assert np.prod(dicionario['A3'] == A3)"
   ]
  },
  {
   "cell_type": "code",
   "execution_count": null,
   "metadata": {},
   "outputs": [],
   "source": []
  }
 ],
 "metadata": {
  "kernelspec": {
   "display_name": "Python 3",
   "language": "python",
   "name": "python3"
  },
  "language_info": {
   "codemirror_mode": {
    "name": "ipython",
    "version": 3
   },
   "file_extension": ".py",
   "mimetype": "text/x-python",
   "name": "python",
   "nbconvert_exporter": "python",
   "pygments_lexer": "ipython3",
   "version": "3.7.1"
  }
 },
 "nbformat": 4,
 "nbformat_minor": 4
}
