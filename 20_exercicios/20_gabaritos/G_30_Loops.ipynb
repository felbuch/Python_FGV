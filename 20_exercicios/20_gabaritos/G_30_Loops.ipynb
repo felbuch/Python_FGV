{
 "cells": [
  {
   "cell_type": "markdown",
   "metadata": {},
   "source": [
    "### For loops fora da função\n",
    "\n",
    "1. Liste o quadrado de todos os números, de 1 a 10, inclusive.  \n",
    "Eu vou dificultar isso um pouquinho: cuidado para não incluir o zero e não parar no 81."
   ]
  },
  {
   "cell_type": "code",
   "execution_count": 51,
   "metadata": {},
   "outputs": [
    {
     "name": "stdout",
     "output_type": "stream",
     "text": [
      "1\n",
      "4\n",
      "9\n",
      "16\n",
      "25\n",
      "36\n",
      "49\n",
      "64\n",
      "81\n",
      "100\n"
     ]
    }
   ],
   "source": [
    "#Resposta\n",
    "for i in range(1,11):\n",
    "    print(i**2)"
   ]
  },
  {
   "cell_type": "markdown",
   "metadata": {},
   "source": [
    "2. Liste o quadrado de todos os números entre 1 a 10, saltando de 3 em 3"
   ]
  },
  {
   "cell_type": "code",
   "execution_count": 82,
   "metadata": {},
   "outputs": [
    {
     "name": "stdout",
     "output_type": "stream",
     "text": [
      "1\n",
      "16\n",
      "49\n",
      "100\n"
     ]
    }
   ],
   "source": [
    "#Resposta\n",
    "for i in range(1, 11, 3):\n",
    "    print(i**2)"
   ]
  },
  {
   "cell_type": "markdown",
   "metadata": {},
   "source": [
    "3. A função a seguir dá o n-ésimo termo da série de Fibonacci. Use ela para listar os 10 primeiros termos da série de Fibonacci."
   ]
  },
  {
   "cell_type": "code",
   "execution_count": 83,
   "metadata": {},
   "outputs": [],
   "source": [
    "def fib(n):\n",
    "    if (n == 0) | (n == 1):\n",
    "        return(1)\n",
    "    else:\n",
    "        return(fib(n-1) + fib(n-2))"
   ]
  },
  {
   "cell_type": "code",
   "execution_count": 84,
   "metadata": {},
   "outputs": [
    {
     "name": "stdout",
     "output_type": "stream",
     "text": [
      "1\n",
      "1\n",
      "2\n",
      "3\n",
      "5\n",
      "8\n",
      "13\n",
      "21\n",
      "34\n",
      "55\n"
     ]
    }
   ],
   "source": [
    "#Resposta\n",
    "for i in range(10):\n",
    "    print(fib(i))"
   ]
  },
  {
   "cell_type": "markdown",
   "metadata": {},
   "source": [
    "### For loops dentro da função\n",
    "\n",
    "1. Faça uma função que some os $n$ primeiros números ímpares. \n",
    "\n",
    "Note que essa função é diferente da que vimos em aula, onde somávamos todos os ímpares até $n$. \n",
    "\n",
    "Aqui, queremos uma função que, ao receber $n = 3$, some 1, 3 e 5, que são os 3 primeiros ímpares, e retorne 1 + 3 + 5 = 9.\n",
    "\n",
    "Dica: o n-ésimo número ímpar (começando a contar do zero) é $2n+1$"
   ]
  },
  {
   "cell_type": "code",
   "execution_count": 55,
   "metadata": {},
   "outputs": [],
   "source": [
    "#Resposta\n",
    "def soma_impares(n):\n",
    "    soma = 0\n",
    "    for i in range(n):\n",
    "        soma += 2*i + 1\n",
    "    return(soma)"
   ]
  },
  {
   "cell_type": "markdown",
   "metadata": {},
   "source": [
    "O código abaixo lista o resultado da função acima para todos os valores de $n$, de 1 a 10, inclusive. Compare com a sua resposta para a primeira pergunta dessa lista, onde você listou o quadrado de todos os números de 1 a 10. Parece familiar?"
   ]
  },
  {
   "cell_type": "code",
   "execution_count": 56,
   "metadata": {},
   "outputs": [
    {
     "name": "stdout",
     "output_type": "stream",
     "text": [
      "1\n",
      "4\n",
      "9\n",
      "16\n",
      "25\n",
      "36\n",
      "49\n",
      "64\n",
      "81\n",
      "100\n"
     ]
    }
   ],
   "source": [
    "for i in range(1,11):\n",
    "    print(soma_impares(i))"
   ]
  },
  {
   "cell_type": "markdown",
   "metadata": {},
   "source": [
    "## Números primos\n",
    "\n",
    "Um número é primo caso ele não seja divisível por nenhum outro número menor que ele, exceto 1. \n",
    "\n",
    "Assim, 2, 3, 5, e 11 são primos.  \n",
    "8, 9 e 21 não são. \n",
    "\n",
    "Faça uma função para verificar se um número $n$ qualquer é primo.\n",
    "Sua função deve se chamar `primo` e retornar um booleano (True ou False)\n",
    "\n",
    "Para te ajudar, você pode usar a função abaixo, que verifica se um número é divisível por outro:"
   ]
  },
  {
   "cell_type": "code",
   "execution_count": 75,
   "metadata": {},
   "outputs": [],
   "source": [
    "def divisivel(a,b):\n",
    "    return(a % b == 0)"
   ]
  },
  {
   "cell_type": "code",
   "execution_count": 76,
   "metadata": {},
   "outputs": [],
   "source": [
    "#Resposta\n",
    "def primo(n):\n",
    "    for i in range(2, n):\n",
    "        if divisivel(n, i):\n",
    "            return(False)\n",
    "    return(True)"
   ]
  },
  {
   "cell_type": "markdown",
   "metadata": {},
   "source": [
    "## Raiz quadrada pelo método babilônico\n",
    "\n",
    "Os babilônicos calculavam a raiz quadrada de um número assim...\n",
    "\n",
    "Digamos que a gente queira calcular a raiz de 50 e não saiba quanto é.\n",
    "A gente chuta: é 10!\n",
    "Bom, 50 dividido por 10 é uns 5.\n",
    "Então a raiz deve estar entre 10 e 5. Vamos na média: 7.5\n",
    "Esse é nosso novo chute, com o qual a gente repete o processo...\n",
    "\n",
    "Em suma, para calcular  raiz de um número $Q$:\n",
    "\n",
    "1. Chuta um valor $x$ (\"x\" de \"chute\")\n",
    "2. Divide $Q$ por $x$. CIhama esse valor de $y$\n",
    "3. Tira a média entre $x$ e $y$. Esse vira o novo valor de $x$.\n",
    "4. Volta ao passo 2 e repete\n",
    "\n",
    "Quando é que a gente pára de repetir?\n",
    "Quando a diferença entre $x$ e $y$ fica pequena o suficiente para ser desprezada. Isso significa ser menor do que um valor pequeno, chamado tolerância.\n",
    "\n",
    "Faça uma função que calcule a raiz quadrada de um número $Q$ usando o método babilônico. Essa função deve receber 3 parâmetros:\n",
    "1. O número $Q$, cuja raiz quadrada queremos calcular\n",
    "2. O chute inicial, $x$. Por default, esse valor deve ser igual a 1.\n",
    "3. A tolerância, `tol`. Por default, esse valor deve ser igual a 0.01.\n",
    "\n",
    "A função deve se chamar `bsqrt`"
   ]
  },
  {
   "cell_type": "code",
   "execution_count": 74,
   "metadata": {},
   "outputs": [],
   "source": [
    "#Resposta\n",
    "def bsqrt(Q, x = 1, tol = 0.01):\n",
    "    \n",
    "    y = Q\n",
    "    \n",
    "    while abs(y - x) > tol:\n",
    "        y = Q/x\n",
    "        x = (x + y)/2\n",
    "    return(x)\n",
    "    "
   ]
  }
 ],
 "metadata": {
  "kernelspec": {
   "display_name": "Python 3",
   "language": "python",
   "name": "python3"
  },
  "language_info": {
   "codemirror_mode": {
    "name": "ipython",
    "version": 3
   },
   "file_extension": ".py",
   "mimetype": "text/x-python",
   "name": "python",
   "nbconvert_exporter": "python",
   "pygments_lexer": "ipython3",
   "version": "3.7.1"
  }
 },
 "nbformat": 4,
 "nbformat_minor": 4
}
