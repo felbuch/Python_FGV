{
 "cells": [
  {
   "cell_type": "markdown",
   "metadata": {},
   "source": [
    "### Lista telefonica\n",
    "\n",
    "1. Construa um dicionario com o telefone de Sam, Alex e Clover:\n",
    "\n",
    "Sam: 91111111 \\\n",
    "Alex: 92222222 \\\n",
    "Clover: 93333333 "
   ]
  },
  {
   "cell_type": "code",
   "execution_count": 12,
   "metadata": {},
   "outputs": [],
   "source": [
    "telefones = {'Sam': 91111111,\n",
    "            'Alex': 92222222,\n",
    "            'Clover': 93333333}"
   ]
  },
  {
   "cell_type": "markdown",
   "metadata": {},
   "source": [
    "2. Busque o telefone da Alex"
   ]
  },
  {
   "cell_type": "code",
   "execution_count": 13,
   "metadata": {},
   "outputs": [
    {
     "data": {
      "text/plain": [
       "92222222"
      ]
     },
     "execution_count": 13,
     "metadata": {},
     "output_type": "execute_result"
    }
   ],
   "source": [
    "telefones['Alex']"
   ]
  },
  {
   "cell_type": "markdown",
   "metadata": {},
   "source": [
    "3. Acrescente a Mandy no dicionario. O numero dela? 94444444"
   ]
  },
  {
   "cell_type": "code",
   "execution_count": 14,
   "metadata": {},
   "outputs": [],
   "source": [
    "telefones['Mandy'] = 94444444"
   ]
  },
  {
   "cell_type": "markdown",
   "metadata": {},
   "source": [
    "4. Usando um `for`, mostre todos os nomes que aparecem no dicionario"
   ]
  },
  {
   "cell_type": "code",
   "execution_count": 15,
   "metadata": {},
   "outputs": [
    {
     "name": "stdout",
     "output_type": "stream",
     "text": [
      "Sam\n",
      "Alex\n",
      "Clover\n",
      "Mandy\n"
     ]
    }
   ],
   "source": [
    "for i in telefones.keys():\n",
    "    print(i)"
   ]
  },
  {
   "cell_type": "markdown",
   "metadata": {},
   "source": [
    "5. Usando um `for`, mostre todos os numeros de telefone que aparecem no dicionario"
   ]
  },
  {
   "cell_type": "code",
   "execution_count": 16,
   "metadata": {},
   "outputs": [
    {
     "name": "stdout",
     "output_type": "stream",
     "text": [
      "91111111\n",
      "92222222\n",
      "93333333\n",
      "94444444\n"
     ]
    }
   ],
   "source": [
    "for i in telefones.values():\n",
    "    print(i)"
   ]
  },
  {
   "cell_type": "markdown",
   "metadata": {},
   "source": [
    "6. Escreva o dicionário por extenso, assim:\n",
    "\n",
    "O telefone dá Sam é 91111111  \n",
    "O telefone dá Alex é 92222222  \n",
    "etc."
   ]
  },
  {
   "cell_type": "code",
   "execution_count": 17,
   "metadata": {},
   "outputs": [
    {
     "name": "stdout",
     "output_type": "stream",
     "text": [
      "O telefone da Sam é 91111111\n",
      "O telefone da Alex é 92222222\n",
      "O telefone da Clover é 93333333\n",
      "O telefone da Mandy é 94444444\n"
     ]
    }
   ],
   "source": [
    "for (nome,telefone) in telefones.items():\n",
    "    print(f'O telefone da {nome} é {telefone}')"
   ]
  },
  {
   "cell_type": "markdown",
   "metadata": {},
   "source": [
    "### Data Science\n",
    "\n",
    "Um banco deseja construir um modelo para prever se um cliente vai ou nao pagar um emprestimo. O banco quer usar esse modelo para decidir se vai ou nao conceder o emprestimo quando um cliente vier pedir. Para tal, o banco constroi 4 modelos e testa os quatro em 3 criterios: acuracia, precisao e recall (voce vai aprender o que sao essas coisas no curso de Data Science). Os resultados dos modelos sao guardados em um dicionario como o que vemos abaixo:"
   ]
  },
  {
   "cell_type": "code",
   "execution_count": 20,
   "metadata": {},
   "outputs": [],
   "source": [
    "resultados = {'modelo_1': {'acuracia': 0.98, 'precisao': 0.96, 'recall': 0.95},\n",
    "              'modelo_2': {'acuracia': 0.85, 'precisao': 0.86, 'recall': 0.82},\n",
    "              'modelo_3': {'acuracia': 0.90, 'precisao': 0.87, 'recall': 0.91},\n",
    "              'modelo_4': {'acuracia': 0.95, 'precisao': 0.97, 'recall': 0.92}\n",
    "             }"
   ]
  },
  {
   "cell_type": "markdown",
   "metadata": {},
   "source": [
    "1. Usando um comando em Python, mostre na tela a precisao do modelo 4."
   ]
  },
  {
   "cell_type": "code",
   "execution_count": 21,
   "metadata": {},
   "outputs": [
    {
     "data": {
      "text/plain": [
       "0.97"
      ]
     },
     "execution_count": 21,
     "metadata": {},
     "output_type": "execute_result"
    }
   ],
   "source": [
    "#Resposta\n",
    "resultados['modelo_4']['precisao']"
   ]
  },
  {
   "cell_type": "markdown",
   "metadata": {},
   "source": [
    "2. Calcule o score F para cada um dos modelos e coloque no dicionario do respectivo modelo. O score F se calcula assim:\n",
    "\n",
    "$$\n",
    "F = 2\\times\\frac{precisao \\times recall}{precisao + recall}\n",
    "$$\n",
    "\n",
    "Agora, mostre o dicionario contendo o score F em cada modelo."
   ]
  },
  {
   "cell_type": "code",
   "execution_count": 22,
   "metadata": {},
   "outputs": [],
   "source": [
    "#Resposta\n",
    "for modelo in resultados.keys():\n",
    "    p = resultados[modelo]['precisao']\n",
    "    r = resultados[modelo]['recall']\n",
    "    F = 2 * p * r / (p + r)\n",
    "    resultados[modelo]['F'] = F "
   ]
  },
  {
   "cell_type": "code",
   "execution_count": 23,
   "metadata": {},
   "outputs": [
    {
     "data": {
      "text/plain": [
       "{'modelo_1': {'acuracia': 0.98,\n",
       "  'precisao': 0.96,\n",
       "  'recall': 0.95,\n",
       "  'F': 0.9549738219895287},\n",
       " 'modelo_2': {'acuracia': 0.85,\n",
       "  'precisao': 0.86,\n",
       "  'recall': 0.82,\n",
       "  'F': 0.8395238095238095},\n",
       " 'modelo_3': {'acuracia': 0.9,\n",
       "  'precisao': 0.87,\n",
       "  'recall': 0.91,\n",
       "  'F': 0.8895505617977528},\n",
       " 'modelo_4': {'acuracia': 0.95,\n",
       "  'precisao': 0.97,\n",
       "  'recall': 0.92,\n",
       "  'F': 0.9443386243386243}}"
      ]
     },
     "execution_count": 23,
     "metadata": {},
     "output_type": "execute_result"
    }
   ],
   "source": [
    "resultados"
   ]
  }
 ],
 "metadata": {
  "kernelspec": {
   "display_name": "Python 3",
   "language": "python",
   "name": "python3"
  },
  "language_info": {
   "codemirror_mode": {
    "name": "ipython",
    "version": 3
   },
   "file_extension": ".py",
   "mimetype": "text/x-python",
   "name": "python",
   "nbconvert_exporter": "python",
   "pygments_lexer": "ipython3",
   "version": "3.7.1"
  }
 },
 "nbformat": 4,
 "nbformat_minor": 4
}
