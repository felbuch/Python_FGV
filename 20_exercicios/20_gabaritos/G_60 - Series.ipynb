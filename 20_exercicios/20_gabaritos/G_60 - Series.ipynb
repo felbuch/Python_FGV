{
 "cells": [
  {
   "cell_type": "markdown",
   "metadata": {},
   "source": [
    "## Bitcoin\n",
    "\n",
    "Antes da gente começar, rode essas células. Elas vão criar as séries que vamos usar nesse exercício:"
   ]
  },
  {
   "cell_type": "code",
   "execution_count": 138,
   "metadata": {},
   "outputs": [
    {
     "name": "stdout",
     "output_type": "stream",
     "text": [
      "Requirement already satisfied: investpy in c:\\programdata\\anaconda3\\lib\\site-packages (1.0)\n",
      "Requirement already satisfied: lxml>=4.4.1 in c:\\programdata\\anaconda3\\lib\\site-packages (from investpy) (4.5.2)\n",
      "Requirement already satisfied: Unidecode>=1.1.1 in c:\\programdata\\anaconda3\\lib\\site-packages (from investpy) (1.1.1)\n",
      "Requirement already satisfied: requests>=2.22.0 in c:\\programdata\\anaconda3\\lib\\site-packages (from investpy) (2.24.0)\n",
      "Requirement already satisfied: setuptools>=41.2.0 in c:\\users\\felipe\\appdata\\roaming\\python\\python37\\site-packages (from investpy) (50.3.2)\n",
      "Requirement already satisfied: pytz>=2019.3 in c:\\programdata\\anaconda3\\lib\\site-packages (from investpy) (2020.1)\n",
      "Requirement already satisfied: pandas>=0.25.1 in c:\\programdata\\anaconda3\\lib\\site-packages (from investpy) (1.1.0)\n",
      "Requirement already satisfied: numpy>=1.17.2 in c:\\programdata\\anaconda3\\lib\\site-packages (from investpy) (1.18.5)\n",
      "Requirement already satisfied: chardet<4,>=3.0.2 in c:\\programdata\\anaconda3\\lib\\site-packages (from requests>=2.22.0->investpy) (3.0.4)\n",
      "Requirement already satisfied: idna<3,>=2.5 in c:\\programdata\\anaconda3\\lib\\site-packages (from requests>=2.22.0->investpy) (2.10)\n",
      "Requirement already satisfied: certifi>=2017.4.17 in c:\\programdata\\anaconda3\\lib\\site-packages (from requests>=2.22.0->investpy) (2020.6.20)\n",
      "Requirement already satisfied: urllib3!=1.25.0,!=1.25.1,<1.26,>=1.21.1 in c:\\programdata\\anaconda3\\lib\\site-packages (from requests>=2.22.0->investpy) (1.25.9)\n",
      "Requirement already satisfied: python-dateutil>=2.7.3 in c:\\programdata\\anaconda3\\lib\\site-packages (from pandas>=0.25.1->investpy) (2.8.1)\n",
      "Requirement already satisfied: six>=1.5 in c:\\programdata\\anaconda3\\lib\\site-packages (from python-dateutil>=2.7.3->pandas>=0.25.1->investpy) (1.15.0)\n"
     ]
    }
   ],
   "source": [
    "!pip install investpy"
   ]
  },
  {
   "cell_type": "code",
   "execution_count": 139,
   "metadata": {},
   "outputs": [],
   "source": [
    "import pandas as pd\n",
    "import investpy"
   ]
  },
  {
   "cell_type": "code",
   "execution_count": 140,
   "metadata": {},
   "outputs": [],
   "source": [
    "bitcoin = investpy.get_crypto_recent_data(crypto='bitcoin') \n",
    "preco = bitcoin['Close']\n",
    "retorno = preco.pct_change()\n",
    "dolar = investpy.get_currency_cross_recent_data('USD/BRL')['Close']"
   ]
  },
  {
   "cell_type": "markdown",
   "metadata": {},
   "source": [
    "As séries `preco`, `volume` e `retorno` trazem o preço, o volume negociado e o retorno diário do Bitcoin ao longo do último mês. A série `dolar` traz a série do valor diário do dólar."
   ]
  },
  {
   "cell_type": "markdown",
   "metadata": {},
   "source": [
    "1. Quantos dias temos na série de retorno? Em quantos desses dias o retorno do Bitcoin foi positivo?"
   ]
  },
  {
   "cell_type": "code",
   "execution_count": 148,
   "metadata": {},
   "outputs": [
    {
     "data": {
      "text/plain": [
       "31"
      ]
     },
     "execution_count": 148,
     "metadata": {},
     "output_type": "execute_result"
    }
   ],
   "source": [
    "len(retorno)"
   ]
  },
  {
   "cell_type": "code",
   "execution_count": 149,
   "metadata": {},
   "outputs": [
    {
     "data": {
      "text/plain": [
       "18"
      ]
     },
     "execution_count": 149,
     "metadata": {},
     "output_type": "execute_result"
    }
   ],
   "source": [
    "len(retorno[retorno > 0])"
   ]
  },
  {
   "cell_type": "markdown",
   "metadata": {},
   "source": [
    "O preço do Bitcoin está em dólar. Queremos convertê-lo para reais usando o valor do dólar em cada dia.  \n",
    "\n",
    "Antes de fazermos isso...\n",
    "\n",
    "2. Qual o valor do dólar mais recente disponível na série `dolar`?"
   ]
  },
  {
   "cell_type": "code",
   "execution_count": 150,
   "metadata": {},
   "outputs": [
    {
     "data": {
      "text/plain": [
       "5.0995"
      ]
     },
     "execution_count": 150,
     "metadata": {},
     "output_type": "execute_result"
    }
   ],
   "source": [
    "dolar.iloc[-1]"
   ]
  },
  {
   "cell_type": "markdown",
   "metadata": {},
   "source": [
    "3. Converta a série `preço` do Bitcoin para o Real. Para isso, você deve _multiplicar_ o preço do Bitcoin em dólar pelo preço do dólar em cada dia. Chame a nova serie de `preco_real`"
   ]
  },
  {
   "cell_type": "code",
   "execution_count": 151,
   "metadata": {},
   "outputs": [],
   "source": [
    "preco_real = preco * dolar"
   ]
  },
  {
   "cell_type": "markdown",
   "metadata": {},
   "source": [
    "Ótimo! Agora eu vou calcular pra você o retorno diário do Bitcoin em reais:"
   ]
  },
  {
   "cell_type": "code",
   "execution_count": 152,
   "metadata": {},
   "outputs": [],
   "source": [
    "retorno_real = preco_real.pct_change()"
   ]
  },
  {
   "cell_type": "markdown",
   "metadata": {},
   "source": [
    "Você vai aprender a medir o risco de uma ação quando estudar Finanças. Por enquanto, vamos usar esta medida daqui:\n",
    "\n",
    "$$\n",
    "\\text{Risco} = \\left(\\frac{\\text{valor máximo do retorno} - \\text{valor mínimo do retorno}}{\\text{valor médio do retorno}} \\right)\\times 100\n",
    "$$\n",
    "\n",
    "4. Calcule esse valor para duas séries:\n",
    "* `retorno`, que mede o retorno diário do Bitcoin em dólar (ou seja, para o investidor americano)\n",
    "* `retorno_real`, que mede o retorno diário do Bitcoin em reais (ou seja, para o investidor brasileiro)\n",
    "\n",
    "Qual é maior?"
   ]
  },
  {
   "cell_type": "code",
   "execution_count": 157,
   "metadata": {},
   "outputs": [
    {
     "data": {
      "text/plain": [
       "21.62231107385923"
      ]
     },
     "execution_count": 157,
     "metadata": {},
     "output_type": "execute_result"
    }
   ],
   "source": [
    "#Para a série em dólar\n",
    "(retorno.max() - retorno.min())/ retorno.mean()"
   ]
  },
  {
   "cell_type": "code",
   "execution_count": 158,
   "metadata": {},
   "outputs": [
    {
     "data": {
      "text/plain": [
       "34.59601539522817"
      ]
     },
     "execution_count": 158,
     "metadata": {},
     "output_type": "execute_result"
    }
   ],
   "source": [
    "#Para a série em reais\n",
    "(retorno_real.max() - retorno_real.min())/retorno_real.mean()"
   ]
  },
  {
   "cell_type": "markdown",
   "metadata": {},
   "source": [
    "Por que o risco em real é maior do que o risco em dólar?\n",
    "\n",
    "Parabéns! Você acaba de aprender o que é **risco cambial** de um investimento! :)"
   ]
  }
 ],
 "metadata": {
  "kernelspec": {
   "display_name": "Python 3",
   "language": "python",
   "name": "python3"
  },
  "language_info": {
   "codemirror_mode": {
    "name": "ipython",
    "version": 3
   },
   "file_extension": ".py",
   "mimetype": "text/x-python",
   "name": "python",
   "nbconvert_exporter": "python",
   "pygments_lexer": "ipython3",
   "version": "3.7.1"
  }
 },
 "nbformat": 4,
 "nbformat_minor": 4
}
