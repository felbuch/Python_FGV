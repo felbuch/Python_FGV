{
 "cells": [
  {
   "cell_type": "markdown",
   "metadata": {},
   "source": [
    "Antes de começar:\n",
    "* [API](https://en.wikipedia.org/wiki/API) - Application Program Interface\n",
    "* Instalação de pacotes usando `!pip install` ou `!conda install`\n",
    "\n",
    "Agora sim:"
   ]
  },
  {
   "cell_type": "code",
   "execution_count": 10,
   "metadata": {},
   "outputs": [],
   "source": [
    "#Instalar o API do Yahoo Finance\n",
    "#!pip install yfinance"
   ]
  },
  {
   "cell_type": "code",
   "execution_count": 2,
   "metadata": {},
   "outputs": [],
   "source": [
    "import yfinance as yf"
   ]
  },
  {
   "cell_type": "markdown",
   "metadata": {},
   "source": [
    "Vamos buscar as informações sobre as ações da Microsoft:"
   ]
  },
  {
   "cell_type": "code",
   "execution_count": 3,
   "metadata": {},
   "outputs": [],
   "source": [
    "stock = yf.Ticker(\"MSFT\")"
   ]
  },
  {
   "cell_type": "code",
   "execution_count": 4,
   "metadata": {},
   "outputs": [
    {
     "data": {
      "text/plain": [
       "{'zip': '98052-6399',\n",
       " 'sector': 'Technology',\n",
       " 'fullTimeEmployees': 163000,\n",
       " 'longBusinessSummary': 'Microsoft Corporation develops, licenses, and supports software, services, devices, and solutions worldwide. Its Productivity and Business Processes segment offers Office, Exchange, SharePoint, Microsoft Teams, Office 365 Security and Compliance, and Skype for Business, as well as related Client Access Licenses (CAL); Skype, Outlook.com, and OneDrive; LinkedIn that includes Talent, Learning, Sales, and Marketing solutions, as well as premium subscriptions; and Dynamics 365, a set of cloud-based and on-premises business solutions for small and medium businesses, large organizations, and divisions of enterprises. Its Intelligent Cloud segment licenses SQL and Windows Servers, Visual Studio, System Center, and related CALs; GitHub that provides a collaboration platform and code hosting service for developers; and Azure, a cloud platform. It also offers support services and Microsoft consulting services to assist customers in developing, deploying, and managing Microsoft server and desktop solutions; and training and certification to developers and IT professionals on various Microsoft products. Its More Personal Computing segment provides Windows original equipment manufacturer (OEM) licensing and other non-volume licensing of the Windows operating system; Windows Commercial, such as volume licensing of the Windows operating system, Windows cloud services, and other Windows commercial offerings; patent licensing; Windows Internet of Things; and MSN advertising. It also offers Surface, PC accessories, PCs, tablets, gaming and entertainment consoles, and other intelligent devices; Gaming, including Xbox hardware, and Xbox content and services; video games and third-party video game royalties; and Search, including Bing and Microsoft advertising. It sells its products through OEMs, distributors, and resellers; and directly through digital marketplaces, online stores, and retail stores. The company was founded in 1975 and is headquartered in Redmond, Washington.',\n",
       " 'city': 'Redmond',\n",
       " 'phone': '425-882-8080',\n",
       " 'state': 'WA',\n",
       " 'country': 'United States',\n",
       " 'companyOfficers': [],\n",
       " 'website': 'http://www.microsoft.com',\n",
       " 'maxAge': 1,\n",
       " 'address1': 'One Microsoft Way',\n",
       " 'industry': 'Software—Infrastructure',\n",
       " 'previousClose': 210.11,\n",
       " 'regularMarketOpen': 209.59,\n",
       " 'twoHundredDayAverage': 205.30511,\n",
       " 'trailingAnnualDividendYield': 0.0099471705,\n",
       " 'payoutRatio': 0.32900003,\n",
       " 'volume24Hr': None,\n",
       " 'regularMarketDayHigh': 214.25,\n",
       " 'navPrice': None,\n",
       " 'averageDailyVolume10Day': 25130916,\n",
       " 'totalAssets': None,\n",
       " 'regularMarketPreviousClose': 210.11,\n",
       " 'fiftyDayAverage': 213.63028,\n",
       " 'trailingAnnualDividendRate': 2.09,\n",
       " 'open': 209.59,\n",
       " 'toCurrency': None,\n",
       " 'averageVolume10days': 25130916,\n",
       " 'expireDate': None,\n",
       " 'yield': None,\n",
       " 'algorithm': None,\n",
       " 'dividendRate': 2.24,\n",
       " 'exDividendDate': 1605657600,\n",
       " 'beta': 0.8680939999999999,\n",
       " 'circulatingSupply': None,\n",
       " 'startDate': None,\n",
       " 'regularMarketDayLow': 208.86,\n",
       " 'priceHint': 2,\n",
       " 'currency': 'USD',\n",
       " 'trailingPE': 34.499115,\n",
       " 'regularMarketVolume': 33979731,\n",
       " 'lastMarket': None,\n",
       " 'maxSupply': None,\n",
       " 'openInterest': None,\n",
       " 'marketCap': 1616888594432,\n",
       " 'volumeAllCurrencies': None,\n",
       " 'strikePrice': None,\n",
       " 'averageVolume': 31868844,\n",
       " 'priceToSalesTrailing12Months': 10.990719,\n",
       " 'dayLow': 208.86,\n",
       " 'ask': 214.79,\n",
       " 'ytdReturn': None,\n",
       " 'askSize': 800,\n",
       " 'volume': 33979731,\n",
       " 'fiftyTwoWeekHigh': 232.86,\n",
       " 'forwardPE': 28.66756,\n",
       " 'fromCurrency': None,\n",
       " 'fiveYearAvgDividendYield': 1.78,\n",
       " 'fiftyTwoWeekLow': 132.52,\n",
       " 'bid': 213.57,\n",
       " 'tradeable': False,\n",
       " 'dividendYield': 0.010700000000000001,\n",
       " 'bidSize': 800,\n",
       " 'dayHigh': 214.25,\n",
       " 'exchange': 'NMS',\n",
       " 'shortName': 'Microsoft Corporation',\n",
       " 'longName': 'Microsoft Corporation',\n",
       " 'exchangeTimezoneName': 'America/New_York',\n",
       " 'exchangeTimezoneShortName': 'EST',\n",
       " 'isEsgPopulated': False,\n",
       " 'gmtOffSetMilliseconds': '-18000000',\n",
       " 'quoteType': 'EQUITY',\n",
       " 'symbol': 'MSFT',\n",
       " 'messageBoardId': 'finmb_21835',\n",
       " 'market': 'us_market',\n",
       " 'annualHoldingsTurnover': None,\n",
       " 'enterpriseToRevenue': 10.426,\n",
       " 'beta3Year': None,\n",
       " 'profitMargins': 0.32285,\n",
       " 'enterpriseToEbitda': 22.515,\n",
       " '52WeekChange': 0.3820299,\n",
       " 'morningStarRiskRating': None,\n",
       " 'forwardEps': 7.46,\n",
       " 'revenueQuarterlyGrowth': None,\n",
       " 'sharesOutstanding': 7560500224,\n",
       " 'fundInceptionDate': None,\n",
       " 'annualReportExpenseRatio': None,\n",
       " 'bookValue': 16.313,\n",
       " 'sharesShort': 36796420,\n",
       " 'sharesPercentSharesOut': 0.0049,\n",
       " 'fundFamily': None,\n",
       " 'lastFiscalYearEnd': 1593475200,\n",
       " 'heldPercentInstitutions': 0.71906,\n",
       " 'netIncomeToCommon': 47495999488,\n",
       " 'trailingEps': 6.199,\n",
       " 'lastDividendValue': 0.56,\n",
       " 'SandP52WeekChange': 0.13917124,\n",
       " 'priceToBook': 13.10979,\n",
       " 'heldPercentInsiders': 0.00059,\n",
       " 'nextFiscalYearEnd': 1656547200,\n",
       " 'mostRecentQuarter': 1601424000,\n",
       " 'shortRatio': 1.27,\n",
       " 'sharesShortPreviousMonthDate': 1601424000,\n",
       " 'floatShares': 7449961518,\n",
       " 'enterpriseValue': 1533802840064,\n",
       " 'threeYearAverageReturn': None,\n",
       " 'lastSplitDate': 1045526400,\n",
       " 'lastSplitFactor': '2:1',\n",
       " 'legalType': None,\n",
       " 'lastDividendDate': 1605657600,\n",
       " 'morningStarOverallRating': None,\n",
       " 'earningsQuarterlyGrowth': 0.301,\n",
       " 'dateShortInterest': 1604016000,\n",
       " 'pegRatio': 2.14,\n",
       " 'lastCapGain': None,\n",
       " 'shortPercentOfFloat': 0.0049,\n",
       " 'sharesShortPriorMonth': 39634230,\n",
       " 'category': None,\n",
       " 'fiveYearAverageReturn': None,\n",
       " 'regularMarketPrice': 209.59,\n",
       " 'logo_url': 'https://logo.clearbit.com/microsoft.com'}"
      ]
     },
     "execution_count": 4,
     "metadata": {},
     "output_type": "execute_result"
    }
   ],
   "source": [
    "# get stock info\n",
    "stock.info"
   ]
  },
  {
   "cell_type": "markdown",
   "metadata": {},
   "source": [
    "Note que `stock.info` é um **dicionário**. Quais informações estão presentes?"
   ]
  },
  {
   "cell_type": "code",
   "execution_count": 5,
   "metadata": {},
   "outputs": [
    {
     "data": {
      "text/plain": [
       "dict_keys(['zip', 'sector', 'fullTimeEmployees', 'longBusinessSummary', 'city', 'phone', 'state', 'country', 'companyOfficers', 'website', 'maxAge', 'address1', 'industry', 'previousClose', 'regularMarketOpen', 'twoHundredDayAverage', 'trailingAnnualDividendYield', 'payoutRatio', 'volume24Hr', 'regularMarketDayHigh', 'navPrice', 'averageDailyVolume10Day', 'totalAssets', 'regularMarketPreviousClose', 'fiftyDayAverage', 'trailingAnnualDividendRate', 'open', 'toCurrency', 'averageVolume10days', 'expireDate', 'yield', 'algorithm', 'dividendRate', 'exDividendDate', 'beta', 'circulatingSupply', 'startDate', 'regularMarketDayLow', 'priceHint', 'currency', 'trailingPE', 'regularMarketVolume', 'lastMarket', 'maxSupply', 'openInterest', 'marketCap', 'volumeAllCurrencies', 'strikePrice', 'averageVolume', 'priceToSalesTrailing12Months', 'dayLow', 'ask', 'ytdReturn', 'askSize', 'volume', 'fiftyTwoWeekHigh', 'forwardPE', 'fromCurrency', 'fiveYearAvgDividendYield', 'fiftyTwoWeekLow', 'bid', 'tradeable', 'dividendYield', 'bidSize', 'dayHigh', 'exchange', 'shortName', 'longName', 'exchangeTimezoneName', 'exchangeTimezoneShortName', 'isEsgPopulated', 'gmtOffSetMilliseconds', 'quoteType', 'symbol', 'messageBoardId', 'market', 'annualHoldingsTurnover', 'enterpriseToRevenue', 'beta3Year', 'profitMargins', 'enterpriseToEbitda', '52WeekChange', 'morningStarRiskRating', 'forwardEps', 'revenueQuarterlyGrowth', 'sharesOutstanding', 'fundInceptionDate', 'annualReportExpenseRatio', 'bookValue', 'sharesShort', 'sharesPercentSharesOut', 'fundFamily', 'lastFiscalYearEnd', 'heldPercentInstitutions', 'netIncomeToCommon', 'trailingEps', 'lastDividendValue', 'SandP52WeekChange', 'priceToBook', 'heldPercentInsiders', 'nextFiscalYearEnd', 'mostRecentQuarter', 'shortRatio', 'sharesShortPreviousMonthDate', 'floatShares', 'enterpriseValue', 'threeYearAverageReturn', 'lastSplitDate', 'lastSplitFactor', 'legalType', 'lastDividendDate', 'morningStarOverallRating', 'earningsQuarterlyGrowth', 'dateShortInterest', 'pegRatio', 'lastCapGain', 'shortPercentOfFloat', 'sharesShortPriorMonth', 'category', 'fiveYearAverageReturn', 'regularMarketPrice', 'logo_url'])"
      ]
     },
     "execution_count": 5,
     "metadata": {},
     "output_type": "execute_result"
    }
   ],
   "source": [
    "stock.info.keys()"
   ]
  },
  {
   "cell_type": "markdown",
   "metadata": {},
   "source": [
    "Fica mais fácil ver em ordem alfabética:"
   ]
  },
  {
   "cell_type": "code",
   "execution_count": 6,
   "metadata": {},
   "outputs": [
    {
     "data": {
      "text/plain": [
       "['52WeekChange',\n",
       " 'SandP52WeekChange',\n",
       " 'address1',\n",
       " 'algorithm',\n",
       " 'annualHoldingsTurnover',\n",
       " 'annualReportExpenseRatio',\n",
       " 'ask',\n",
       " 'askSize',\n",
       " 'averageDailyVolume10Day',\n",
       " 'averageVolume',\n",
       " 'averageVolume10days',\n",
       " 'beta',\n",
       " 'beta3Year',\n",
       " 'bid',\n",
       " 'bidSize',\n",
       " 'bookValue',\n",
       " 'category',\n",
       " 'circulatingSupply',\n",
       " 'city',\n",
       " 'companyOfficers',\n",
       " 'country',\n",
       " 'currency',\n",
       " 'dateShortInterest',\n",
       " 'dayHigh',\n",
       " 'dayLow',\n",
       " 'dividendRate',\n",
       " 'dividendYield',\n",
       " 'earningsQuarterlyGrowth',\n",
       " 'enterpriseToEbitda',\n",
       " 'enterpriseToRevenue',\n",
       " 'enterpriseValue',\n",
       " 'exDividendDate',\n",
       " 'exchange',\n",
       " 'exchangeTimezoneName',\n",
       " 'exchangeTimezoneShortName',\n",
       " 'expireDate',\n",
       " 'fiftyDayAverage',\n",
       " 'fiftyTwoWeekHigh',\n",
       " 'fiftyTwoWeekLow',\n",
       " 'fiveYearAverageReturn',\n",
       " 'fiveYearAvgDividendYield',\n",
       " 'floatShares',\n",
       " 'forwardEps',\n",
       " 'forwardPE',\n",
       " 'fromCurrency',\n",
       " 'fullTimeEmployees',\n",
       " 'fundFamily',\n",
       " 'fundInceptionDate',\n",
       " 'gmtOffSetMilliseconds',\n",
       " 'heldPercentInsiders',\n",
       " 'heldPercentInstitutions',\n",
       " 'industry',\n",
       " 'isEsgPopulated',\n",
       " 'lastCapGain',\n",
       " 'lastDividendDate',\n",
       " 'lastDividendValue',\n",
       " 'lastFiscalYearEnd',\n",
       " 'lastMarket',\n",
       " 'lastSplitDate',\n",
       " 'lastSplitFactor',\n",
       " 'legalType',\n",
       " 'logo_url',\n",
       " 'longBusinessSummary',\n",
       " 'longName',\n",
       " 'market',\n",
       " 'marketCap',\n",
       " 'maxAge',\n",
       " 'maxSupply',\n",
       " 'messageBoardId',\n",
       " 'morningStarOverallRating',\n",
       " 'morningStarRiskRating',\n",
       " 'mostRecentQuarter',\n",
       " 'navPrice',\n",
       " 'netIncomeToCommon',\n",
       " 'nextFiscalYearEnd',\n",
       " 'open',\n",
       " 'openInterest',\n",
       " 'payoutRatio',\n",
       " 'pegRatio',\n",
       " 'phone',\n",
       " 'previousClose',\n",
       " 'priceHint',\n",
       " 'priceToBook',\n",
       " 'priceToSalesTrailing12Months',\n",
       " 'profitMargins',\n",
       " 'quoteType',\n",
       " 'regularMarketDayHigh',\n",
       " 'regularMarketDayLow',\n",
       " 'regularMarketOpen',\n",
       " 'regularMarketPreviousClose',\n",
       " 'regularMarketPrice',\n",
       " 'regularMarketVolume',\n",
       " 'revenueQuarterlyGrowth',\n",
       " 'sector',\n",
       " 'sharesOutstanding',\n",
       " 'sharesPercentSharesOut',\n",
       " 'sharesShort',\n",
       " 'sharesShortPreviousMonthDate',\n",
       " 'sharesShortPriorMonth',\n",
       " 'shortName',\n",
       " 'shortPercentOfFloat',\n",
       " 'shortRatio',\n",
       " 'startDate',\n",
       " 'state',\n",
       " 'strikePrice',\n",
       " 'symbol',\n",
       " 'threeYearAverageReturn',\n",
       " 'toCurrency',\n",
       " 'totalAssets',\n",
       " 'tradeable',\n",
       " 'trailingAnnualDividendRate',\n",
       " 'trailingAnnualDividendYield',\n",
       " 'trailingEps',\n",
       " 'trailingPE',\n",
       " 'twoHundredDayAverage',\n",
       " 'volume',\n",
       " 'volume24Hr',\n",
       " 'volumeAllCurrencies',\n",
       " 'website',\n",
       " 'yield',\n",
       " 'ytdReturn',\n",
       " 'zip']"
      ]
     },
     "execution_count": 6,
     "metadata": {},
     "output_type": "execute_result"
    }
   ],
   "source": [
    "sorted(stock.info.keys())"
   ]
  },
  {
   "cell_type": "markdown",
   "metadata": {},
   "source": [
    "Podemos acessar cada informação separadamente. \n",
    "Por exemplo:"
   ]
  },
  {
   "cell_type": "code",
   "execution_count": 14,
   "metadata": {},
   "outputs": [
    {
     "data": {
      "text/plain": [
       "'United States'"
      ]
     },
     "execution_count": 14,
     "metadata": {},
     "output_type": "execute_result"
    }
   ],
   "source": [
    "#País\n",
    "stock.info['country']"
   ]
  },
  {
   "cell_type": "code",
   "execution_count": 15,
   "metadata": {},
   "outputs": [
    {
     "data": {
      "text/plain": [
       "1533802840064"
      ]
     },
     "execution_count": 15,
     "metadata": {},
     "output_type": "execute_result"
    }
   ],
   "source": [
    "#Valor da empresa\n",
    "stock.info['enterpriseValue']"
   ]
  },
  {
   "cell_type": "code",
   "execution_count": 16,
   "metadata": {},
   "outputs": [
    {
     "data": {
      "text/plain": [
       "0.301"
      ]
     },
     "execution_count": 16,
     "metadata": {},
     "output_type": "execute_result"
    }
   ],
   "source": [
    "#Crescimento da empresa no último trimestre\n",
    "stock.info['earningsQuarterlyGrowth']"
   ]
  },
  {
   "cell_type": "code",
   "execution_count": 9,
   "metadata": {},
   "outputs": [
    {
     "data": {
      "text/plain": [
       "0.32900003"
      ]
     },
     "execution_count": 9,
     "metadata": {},
     "output_type": "execute_result"
    }
   ],
   "source": [
    "#Payout Ratio\n",
    "stock.info['payoutRatio']"
   ]
  },
  {
   "cell_type": "markdown",
   "metadata": {},
   "source": [
    "Muitas vezes, estamos interessados na série histórica dos preços de uma ação:"
   ]
  },
  {
   "cell_type": "code",
   "execution_count": 24,
   "metadata": {},
   "outputs": [
    {
     "data": {
      "text/html": [
       "<div>\n",
       "<style scoped>\n",
       "    .dataframe tbody tr th:only-of-type {\n",
       "        vertical-align: middle;\n",
       "    }\n",
       "\n",
       "    .dataframe tbody tr th {\n",
       "        vertical-align: top;\n",
       "    }\n",
       "\n",
       "    .dataframe thead th {\n",
       "        text-align: right;\n",
       "    }\n",
       "</style>\n",
       "<table border=\"1\" class=\"dataframe\">\n",
       "  <thead>\n",
       "    <tr style=\"text-align: right;\">\n",
       "      <th></th>\n",
       "      <th>Open</th>\n",
       "      <th>High</th>\n",
       "      <th>Low</th>\n",
       "      <th>Close</th>\n",
       "      <th>Volume</th>\n",
       "      <th>Dividends</th>\n",
       "      <th>Stock Splits</th>\n",
       "    </tr>\n",
       "    <tr>\n",
       "      <th>Date</th>\n",
       "      <th></th>\n",
       "      <th></th>\n",
       "      <th></th>\n",
       "      <th></th>\n",
       "      <th></th>\n",
       "      <th></th>\n",
       "      <th></th>\n",
       "    </tr>\n",
       "  </thead>\n",
       "  <tbody>\n",
       "    <tr>\n",
       "      <th>1986-03-13</th>\n",
       "      <td>0.056367</td>\n",
       "      <td>0.064656</td>\n",
       "      <td>0.056367</td>\n",
       "      <td>0.061893</td>\n",
       "      <td>1031788800</td>\n",
       "      <td>0.00</td>\n",
       "      <td>0.0</td>\n",
       "    </tr>\n",
       "    <tr>\n",
       "      <th>1986-03-14</th>\n",
       "      <td>0.061893</td>\n",
       "      <td>0.065209</td>\n",
       "      <td>0.061893</td>\n",
       "      <td>0.064103</td>\n",
       "      <td>308160000</td>\n",
       "      <td>0.00</td>\n",
       "      <td>0.0</td>\n",
       "    </tr>\n",
       "    <tr>\n",
       "      <th>1986-03-17</th>\n",
       "      <td>0.064103</td>\n",
       "      <td>0.065761</td>\n",
       "      <td>0.064103</td>\n",
       "      <td>0.065209</td>\n",
       "      <td>133171200</td>\n",
       "      <td>0.00</td>\n",
       "      <td>0.0</td>\n",
       "    </tr>\n",
       "    <tr>\n",
       "      <th>1986-03-18</th>\n",
       "      <td>0.065209</td>\n",
       "      <td>0.065761</td>\n",
       "      <td>0.062998</td>\n",
       "      <td>0.063551</td>\n",
       "      <td>67766400</td>\n",
       "      <td>0.00</td>\n",
       "      <td>0.0</td>\n",
       "    </tr>\n",
       "    <tr>\n",
       "      <th>1986-03-19</th>\n",
       "      <td>0.063551</td>\n",
       "      <td>0.064103</td>\n",
       "      <td>0.061893</td>\n",
       "      <td>0.062446</td>\n",
       "      <td>47894400</td>\n",
       "      <td>0.00</td>\n",
       "      <td>0.0</td>\n",
       "    </tr>\n",
       "    <tr>\n",
       "      <th>...</th>\n",
       "      <td>...</td>\n",
       "      <td>...</td>\n",
       "      <td>...</td>\n",
       "      <td>...</td>\n",
       "      <td>...</td>\n",
       "      <td>...</td>\n",
       "      <td>...</td>\n",
       "    </tr>\n",
       "    <tr>\n",
       "      <th>2020-11-18</th>\n",
       "      <td>213.649994</td>\n",
       "      <td>215.169998</td>\n",
       "      <td>210.929993</td>\n",
       "      <td>211.080002</td>\n",
       "      <td>28372800</td>\n",
       "      <td>0.56</td>\n",
       "      <td>0.0</td>\n",
       "    </tr>\n",
       "    <tr>\n",
       "      <th>2020-11-19</th>\n",
       "      <td>211.380005</td>\n",
       "      <td>213.029999</td>\n",
       "      <td>209.929993</td>\n",
       "      <td>212.419998</td>\n",
       "      <td>24792700</td>\n",
       "      <td>0.00</td>\n",
       "      <td>0.0</td>\n",
       "    </tr>\n",
       "    <tr>\n",
       "      <th>2020-11-20</th>\n",
       "      <td>212.199997</td>\n",
       "      <td>213.289993</td>\n",
       "      <td>210.000000</td>\n",
       "      <td>210.389999</td>\n",
       "      <td>22829100</td>\n",
       "      <td>0.00</td>\n",
       "      <td>0.0</td>\n",
       "    </tr>\n",
       "    <tr>\n",
       "      <th>2020-11-23</th>\n",
       "      <td>210.949997</td>\n",
       "      <td>212.289993</td>\n",
       "      <td>208.160004</td>\n",
       "      <td>210.110001</td>\n",
       "      <td>25632500</td>\n",
       "      <td>0.00</td>\n",
       "      <td>0.0</td>\n",
       "    </tr>\n",
       "    <tr>\n",
       "      <th>2020-11-24</th>\n",
       "      <td>209.589996</td>\n",
       "      <td>214.250000</td>\n",
       "      <td>208.860001</td>\n",
       "      <td>213.860001</td>\n",
       "      <td>33014599</td>\n",
       "      <td>0.00</td>\n",
       "      <td>0.0</td>\n",
       "    </tr>\n",
       "  </tbody>\n",
       "</table>\n",
       "<p>8749 rows × 7 columns</p>\n",
       "</div>"
      ],
      "text/plain": [
       "                  Open        High         Low       Close      Volume  \\\n",
       "Date                                                                     \n",
       "1986-03-13    0.056367    0.064656    0.056367    0.061893  1031788800   \n",
       "1986-03-14    0.061893    0.065209    0.061893    0.064103   308160000   \n",
       "1986-03-17    0.064103    0.065761    0.064103    0.065209   133171200   \n",
       "1986-03-18    0.065209    0.065761    0.062998    0.063551    67766400   \n",
       "1986-03-19    0.063551    0.064103    0.061893    0.062446    47894400   \n",
       "...                ...         ...         ...         ...         ...   \n",
       "2020-11-18  213.649994  215.169998  210.929993  211.080002    28372800   \n",
       "2020-11-19  211.380005  213.029999  209.929993  212.419998    24792700   \n",
       "2020-11-20  212.199997  213.289993  210.000000  210.389999    22829100   \n",
       "2020-11-23  210.949997  212.289993  208.160004  210.110001    25632500   \n",
       "2020-11-24  209.589996  214.250000  208.860001  213.860001    33014599   \n",
       "\n",
       "            Dividends  Stock Splits  \n",
       "Date                                 \n",
       "1986-03-13       0.00           0.0  \n",
       "1986-03-14       0.00           0.0  \n",
       "1986-03-17       0.00           0.0  \n",
       "1986-03-18       0.00           0.0  \n",
       "1986-03-19       0.00           0.0  \n",
       "...               ...           ...  \n",
       "2020-11-18       0.56           0.0  \n",
       "2020-11-19       0.00           0.0  \n",
       "2020-11-20       0.00           0.0  \n",
       "2020-11-23       0.00           0.0  \n",
       "2020-11-24       0.00           0.0  \n",
       "\n",
       "[8749 rows x 7 columns]"
      ]
     },
     "execution_count": 24,
     "metadata": {},
     "output_type": "execute_result"
    }
   ],
   "source": [
    "# get historical market data\n",
    "hist = stock.history(period=\"max\")\n",
    "hist"
   ]
  },
  {
   "cell_type": "markdown",
   "metadata": {},
   "source": [
    "Note que a informação de preços históricos nos é dada na forma de um **dataframe** do pandas.\n",
    "\n",
    "É comum trabalharmos apenas com o preço de fechamento:"
   ]
  },
  {
   "cell_type": "code",
   "execution_count": 25,
   "metadata": {},
   "outputs": [
    {
     "data": {
      "text/plain": [
       "Date\n",
       "1986-03-13      0.061893\n",
       "1986-03-14      0.064103\n",
       "1986-03-17      0.065209\n",
       "1986-03-18      0.063551\n",
       "1986-03-19      0.062446\n",
       "                 ...    \n",
       "2020-11-18    211.080002\n",
       "2020-11-19    212.419998\n",
       "2020-11-20    210.389999\n",
       "2020-11-23    210.110001\n",
       "2020-11-24    213.860001\n",
       "Name: Close, Length: 8749, dtype: float64"
      ]
     },
     "execution_count": 25,
     "metadata": {},
     "output_type": "execute_result"
    }
   ],
   "source": [
    "fechamento = hist['Close']\n",
    "fechamento"
   ]
  },
  {
   "cell_type": "markdown",
   "metadata": {},
   "source": [
    "Quando falamos na evolução do preço da ação ao longo do último ano, por exemplo, estamos normalmente falando do preço de fechamento da ação. No nosso caso, a evolução ao longo do último ano é:"
   ]
  },
  {
   "cell_type": "code",
   "execution_count": 33,
   "metadata": {},
   "outputs": [
    {
     "data": {
      "image/png": "[encoded data removed]",
      "text/plain": [
       "<Figure size 432x288 with 1 Axes>"
      ]
     },
     "metadata": {
      "needs_background": "light"
     },
     "output_type": "display_data"
    }
   ],
   "source": [
    "fechamento[-252:].plot();"
   ]
  },
  {
   "cell_type": "markdown",
   "metadata": {},
   "source": [
    "Também é muito comum observarmos o preço da ação desde o início do ano (YTD : _year to date_):"
   ]
  },
  {
   "cell_type": "code",
   "execution_count": 34,
   "metadata": {},
   "outputs": [
    {
     "data": {
      "image/png": "[encoded data removed]",
      "text/plain": [
       "<Figure size 432x288 with 1 Axes>"
      ]
     },
     "metadata": {
      "needs_background": "light"
     },
     "output_type": "display_data"
    }
   ],
   "source": [
    "fechamento.loc['2020-01-01':].plot();"
   ]
  },
  {
   "cell_type": "markdown",
   "metadata": {},
   "source": [
    "Muitas vezes, estamos interessados em saber os dividendos pagos pela ação:"
   ]
  },
  {
   "cell_type": "code",
   "execution_count": 35,
   "metadata": {},
   "outputs": [
    {
     "data": {
      "text/plain": [
       "Date\n",
       "1986-03-13    0.00\n",
       "1986-03-14    0.00\n",
       "1986-03-17    0.00\n",
       "1986-03-18    0.00\n",
       "1986-03-19    0.00\n",
       "              ... \n",
       "2020-11-18    0.56\n",
       "2020-11-19    0.00\n",
       "2020-11-20    0.00\n",
       "2020-11-23    0.00\n",
       "2020-11-24    0.00\n",
       "Name: Dividends, Length: 8749, dtype: float64"
      ]
     },
     "execution_count": 35,
     "metadata": {},
     "output_type": "execute_result"
    }
   ],
   "source": [
    "dividendos = hist['Dividends']\n",
    "dividendos"
   ]
  },
  {
   "cell_type": "markdown",
   "metadata": {},
   "source": [
    "Dividendos costumam ser pagos periodicamente:"
   ]
  },
  {
   "cell_type": "code",
   "execution_count": 37,
   "metadata": {},
   "outputs": [
    {
     "data": {
      "image/png": "[encoded data removed]",
      "text/plain": [
       "<Figure size 432x288 with 1 Axes>"
      ]
     },
     "metadata": {
      "needs_background": "light"
     },
     "output_type": "display_data"
    }
   ],
   "source": [
    "dividendos.loc['2020-01-01':].plot();"
   ]
  },
  {
   "cell_type": "markdown",
   "metadata": {},
   "source": [
    "Podemos ver quem são os maiores acionistas da companhia:"
   ]
  },
  {
   "cell_type": "code",
   "execution_count": 50,
   "metadata": {},
   "outputs": [
    {
     "data": {
      "text/html": [
       "<div>\n",
       "<style scoped>\n",
       "    .dataframe tbody tr th:only-of-type {\n",
       "        vertical-align: middle;\n",
       "    }\n",
       "\n",
       "    .dataframe tbody tr th {\n",
       "        vertical-align: top;\n",
       "    }\n",
       "\n",
       "    .dataframe thead th {\n",
       "        text-align: right;\n",
       "    }\n",
       "</style>\n",
       "<table border=\"1\" class=\"dataframe\">\n",
       "  <thead>\n",
       "    <tr style=\"text-align: right;\">\n",
       "      <th></th>\n",
       "      <th>0</th>\n",
       "      <th>1</th>\n",
       "    </tr>\n",
       "  </thead>\n",
       "  <tbody>\n",
       "    <tr>\n",
       "      <th>0</th>\n",
       "      <td>0.06%</td>\n",
       "      <td>% of Shares Held by All Insider</td>\n",
       "    </tr>\n",
       "    <tr>\n",
       "      <th>1</th>\n",
       "      <td>71.91%</td>\n",
       "      <td>% of Shares Held by Institutions</td>\n",
       "    </tr>\n",
       "    <tr>\n",
       "      <th>2</th>\n",
       "      <td>71.95%</td>\n",
       "      <td>% of Float Held by Institutions</td>\n",
       "    </tr>\n",
       "    <tr>\n",
       "      <th>3</th>\n",
       "      <td>4875</td>\n",
       "      <td>Number of Institutions Holding Shares</td>\n",
       "    </tr>\n",
       "  </tbody>\n",
       "</table>\n",
       "</div>"
      ],
      "text/plain": [
       "        0                                      1\n",
       "0   0.06%        % of Shares Held by All Insider\n",
       "1  71.91%       % of Shares Held by Institutions\n",
       "2  71.95%        % of Float Held by Institutions\n",
       "3    4875  Number of Institutions Holding Shares"
      ]
     },
     "execution_count": 50,
     "metadata": {},
     "output_type": "execute_result"
    }
   ],
   "source": [
    "# maiores acionistas\n",
    "stock.major_holders"
   ]
  },
  {
   "cell_type": "code",
   "execution_count": 51,
   "metadata": {},
   "outputs": [
    {
     "data": {
      "text/html": [
       "<div>\n",
       "<style scoped>\n",
       "    .dataframe tbody tr th:only-of-type {\n",
       "        vertical-align: middle;\n",
       "    }\n",
       "\n",
       "    .dataframe tbody tr th {\n",
       "        vertical-align: top;\n",
       "    }\n",
       "\n",
       "    .dataframe thead th {\n",
       "        text-align: right;\n",
       "    }\n",
       "</style>\n",
       "<table border=\"1\" class=\"dataframe\">\n",
       "  <thead>\n",
       "    <tr style=\"text-align: right;\">\n",
       "      <th></th>\n",
       "      <th>Holder</th>\n",
       "      <th>Shares</th>\n",
       "      <th>Date Reported</th>\n",
       "      <th>% Out</th>\n",
       "      <th>Value</th>\n",
       "    </tr>\n",
       "  </thead>\n",
       "  <tbody>\n",
       "    <tr>\n",
       "      <th>0</th>\n",
       "      <td>Vanguard Group, Inc. (The)</td>\n",
       "      <td>622689597</td>\n",
       "      <td>2020-09-29</td>\n",
       "      <td>0.0824</td>\n",
       "      <td>130970302937</td>\n",
       "    </tr>\n",
       "    <tr>\n",
       "      <th>1</th>\n",
       "      <td>Blackrock Inc.</td>\n",
       "      <td>516065148</td>\n",
       "      <td>2020-09-29</td>\n",
       "      <td>0.0683</td>\n",
       "      <td>108543982578</td>\n",
       "    </tr>\n",
       "    <tr>\n",
       "      <th>2</th>\n",
       "      <td>State Street Corporation</td>\n",
       "      <td>309004107</td>\n",
       "      <td>2020-09-29</td>\n",
       "      <td>0.0409</td>\n",
       "      <td>64992833825</td>\n",
       "    </tr>\n",
       "    <tr>\n",
       "      <th>3</th>\n",
       "      <td>FMR, LLC</td>\n",
       "      <td>236747226</td>\n",
       "      <td>2020-09-29</td>\n",
       "      <td>0.0313</td>\n",
       "      <td>49795044044</td>\n",
       "    </tr>\n",
       "    <tr>\n",
       "      <th>4</th>\n",
       "      <td>Price (T.Rowe) Associates Inc</td>\n",
       "      <td>180419808</td>\n",
       "      <td>2020-09-29</td>\n",
       "      <td>0.0239</td>\n",
       "      <td>37947698216</td>\n",
       "    </tr>\n",
       "    <tr>\n",
       "      <th>5</th>\n",
       "      <td>Geode Capital Management, LLC</td>\n",
       "      <td>116538073</td>\n",
       "      <td>2020-09-29</td>\n",
       "      <td>0.0154</td>\n",
       "      <td>24511452894</td>\n",
       "    </tr>\n",
       "    <tr>\n",
       "      <th>6</th>\n",
       "      <td>Capital World Investors</td>\n",
       "      <td>111872823</td>\n",
       "      <td>2020-09-29</td>\n",
       "      <td>0.0148</td>\n",
       "      <td>23530210861</td>\n",
       "    </tr>\n",
       "    <tr>\n",
       "      <th>7</th>\n",
       "      <td>Capital International Investors</td>\n",
       "      <td>94601027</td>\n",
       "      <td>2020-09-29</td>\n",
       "      <td>0.0125</td>\n",
       "      <td>19897434008</td>\n",
       "    </tr>\n",
       "    <tr>\n",
       "      <th>8</th>\n",
       "      <td>Capital Research Global Investors</td>\n",
       "      <td>94009486</td>\n",
       "      <td>2020-09-29</td>\n",
       "      <td>0.0124</td>\n",
       "      <td>19773015190</td>\n",
       "    </tr>\n",
       "    <tr>\n",
       "      <th>9</th>\n",
       "      <td>Northern Trust Corporation</td>\n",
       "      <td>93421404</td>\n",
       "      <td>2020-09-29</td>\n",
       "      <td>0.0124</td>\n",
       "      <td>19649323903</td>\n",
       "    </tr>\n",
       "  </tbody>\n",
       "</table>\n",
       "</div>"
      ],
      "text/plain": [
       "                              Holder     Shares Date Reported   % Out  \\\n",
       "0         Vanguard Group, Inc. (The)  622689597    2020-09-29  0.0824   \n",
       "1                     Blackrock Inc.  516065148    2020-09-29  0.0683   \n",
       "2           State Street Corporation  309004107    2020-09-29  0.0409   \n",
       "3                           FMR, LLC  236747226    2020-09-29  0.0313   \n",
       "4      Price (T.Rowe) Associates Inc  180419808    2020-09-29  0.0239   \n",
       "5      Geode Capital Management, LLC  116538073    2020-09-29  0.0154   \n",
       "6            Capital World Investors  111872823    2020-09-29  0.0148   \n",
       "7    Capital International Investors   94601027    2020-09-29  0.0125   \n",
       "8  Capital Research Global Investors   94009486    2020-09-29  0.0124   \n",
       "9         Northern Trust Corporation   93421404    2020-09-29  0.0124   \n",
       "\n",
       "          Value  \n",
       "0  130970302937  \n",
       "1  108543982578  \n",
       "2   64992833825  \n",
       "3   49795044044  \n",
       "4   37947698216  \n",
       "5   24511452894  \n",
       "6   23530210861  \n",
       "7   19897434008  \n",
       "8   19773015190  \n",
       "9   19649323903  "
      ]
     },
     "execution_count": 51,
     "metadata": {},
     "output_type": "execute_result"
    }
   ],
   "source": [
    "# maiores acionistas institucionais\n",
    "stock.institutional_holders"
   ]
  },
  {
   "cell_type": "markdown",
   "metadata": {},
   "source": [
    "Podemos também ver as recomendações dos especialistas sobre se devemos comprar ou vender esta ação:"
   ]
  },
  {
   "cell_type": "code",
   "execution_count": 54,
   "metadata": {},
   "outputs": [
    {
     "data": {
      "text/html": [
       "<div>\n",
       "<style scoped>\n",
       "    .dataframe tbody tr th:only-of-type {\n",
       "        vertical-align: middle;\n",
       "    }\n",
       "\n",
       "    .dataframe tbody tr th {\n",
       "        vertical-align: top;\n",
       "    }\n",
       "\n",
       "    .dataframe thead th {\n",
       "        text-align: right;\n",
       "    }\n",
       "</style>\n",
       "<table border=\"1\" class=\"dataframe\">\n",
       "  <thead>\n",
       "    <tr style=\"text-align: right;\">\n",
       "      <th></th>\n",
       "      <th>Firm</th>\n",
       "      <th>To Grade</th>\n",
       "      <th>From Grade</th>\n",
       "      <th>Action</th>\n",
       "    </tr>\n",
       "    <tr>\n",
       "      <th>Date</th>\n",
       "      <th></th>\n",
       "      <th></th>\n",
       "      <th></th>\n",
       "      <th></th>\n",
       "    </tr>\n",
       "  </thead>\n",
       "  <tbody>\n",
       "    <tr>\n",
       "      <th>2012-03-16 08:19:00</th>\n",
       "      <td>Argus Research</td>\n",
       "      <td>Buy</td>\n",
       "      <td></td>\n",
       "      <td>up</td>\n",
       "    </tr>\n",
       "    <tr>\n",
       "      <th>2012-03-19 14:00:00</th>\n",
       "      <td>Hilliard Lyons</td>\n",
       "      <td>Long-Term Buy</td>\n",
       "      <td></td>\n",
       "      <td>main</td>\n",
       "    </tr>\n",
       "    <tr>\n",
       "      <th>2012-03-22 07:03:00</th>\n",
       "      <td>Morgan Stanley</td>\n",
       "      <td>Overweight</td>\n",
       "      <td></td>\n",
       "      <td>main</td>\n",
       "    </tr>\n",
       "    <tr>\n",
       "      <th>2012-04-03 11:53:00</th>\n",
       "      <td>UBS</td>\n",
       "      <td>Buy</td>\n",
       "      <td></td>\n",
       "      <td>main</td>\n",
       "    </tr>\n",
       "    <tr>\n",
       "      <th>2012-04-20 06:18:00</th>\n",
       "      <td>Deutsche Bank</td>\n",
       "      <td>Buy</td>\n",
       "      <td></td>\n",
       "      <td>main</td>\n",
       "    </tr>\n",
       "    <tr>\n",
       "      <th>...</th>\n",
       "      <td>...</td>\n",
       "      <td>...</td>\n",
       "      <td>...</td>\n",
       "      <td>...</td>\n",
       "    </tr>\n",
       "    <tr>\n",
       "      <th>2020-10-28 12:00:17</th>\n",
       "      <td>Morgan Stanley</td>\n",
       "      <td>Overweight</td>\n",
       "      <td></td>\n",
       "      <td>main</td>\n",
       "    </tr>\n",
       "    <tr>\n",
       "      <th>2020-10-28 13:22:56</th>\n",
       "      <td>Credit Suisse</td>\n",
       "      <td>Outperform</td>\n",
       "      <td></td>\n",
       "      <td>main</td>\n",
       "    </tr>\n",
       "    <tr>\n",
       "      <th>2020-10-29 16:00:20</th>\n",
       "      <td>Deutsche Bank</td>\n",
       "      <td>Buy</td>\n",
       "      <td></td>\n",
       "      <td>main</td>\n",
       "    </tr>\n",
       "    <tr>\n",
       "      <th>2020-11-05 10:48:37</th>\n",
       "      <td>Oppenheimer</td>\n",
       "      <td>Outperform</td>\n",
       "      <td>Perform</td>\n",
       "      <td>up</td>\n",
       "    </tr>\n",
       "    <tr>\n",
       "      <th>2020-11-24 11:17:51</th>\n",
       "      <td>KeyBanc</td>\n",
       "      <td>Overweight</td>\n",
       "      <td></td>\n",
       "      <td>init</td>\n",
       "    </tr>\n",
       "  </tbody>\n",
       "</table>\n",
       "<p>299 rows × 4 columns</p>\n",
       "</div>"
      ],
      "text/plain": [
       "                               Firm       To Grade From Grade Action\n",
       "Date                                                                \n",
       "2012-03-16 08:19:00  Argus Research            Buy                up\n",
       "2012-03-19 14:00:00  Hilliard Lyons  Long-Term Buy              main\n",
       "2012-03-22 07:03:00  Morgan Stanley     Overweight              main\n",
       "2012-04-03 11:53:00             UBS            Buy              main\n",
       "2012-04-20 06:18:00   Deutsche Bank            Buy              main\n",
       "...                             ...            ...        ...    ...\n",
       "2020-10-28 12:00:17  Morgan Stanley     Overweight              main\n",
       "2020-10-28 13:22:56   Credit Suisse     Outperform              main\n",
       "2020-10-29 16:00:20   Deutsche Bank            Buy              main\n",
       "2020-11-05 10:48:37     Oppenheimer     Outperform    Perform     up\n",
       "2020-11-24 11:17:51         KeyBanc     Overweight              init\n",
       "\n",
       "[299 rows x 4 columns]"
      ]
     },
     "execution_count": 54,
     "metadata": {},
     "output_type": "execute_result"
    }
   ],
   "source": [
    "stock.recommendations"
   ]
  },
  {
   "cell_type": "markdown",
   "metadata": {},
   "source": [
    "Eu só quero as 3 recomendações mais recentes:"
   ]
  },
  {
   "cell_type": "code",
   "execution_count": 95,
   "metadata": {},
   "outputs": [
    {
     "data": {
      "text/html": [
       "<div>\n",
       "<style scoped>\n",
       "    .dataframe tbody tr th:only-of-type {\n",
       "        vertical-align: middle;\n",
       "    }\n",
       "\n",
       "    .dataframe tbody tr th {\n",
       "        vertical-align: top;\n",
       "    }\n",
       "\n",
       "    .dataframe thead th {\n",
       "        text-align: right;\n",
       "    }\n",
       "</style>\n",
       "<table border=\"1\" class=\"dataframe\">\n",
       "  <thead>\n",
       "    <tr style=\"text-align: right;\">\n",
       "      <th></th>\n",
       "      <th>Firm</th>\n",
       "      <th>To Grade</th>\n",
       "      <th>From Grade</th>\n",
       "      <th>Action</th>\n",
       "    </tr>\n",
       "    <tr>\n",
       "      <th>Date</th>\n",
       "      <th></th>\n",
       "      <th></th>\n",
       "      <th></th>\n",
       "      <th></th>\n",
       "    </tr>\n",
       "  </thead>\n",
       "  <tbody>\n",
       "    <tr>\n",
       "      <th>2020-10-29 16:00:20</th>\n",
       "      <td>Deutsche Bank</td>\n",
       "      <td>Buy</td>\n",
       "      <td></td>\n",
       "      <td>main</td>\n",
       "    </tr>\n",
       "    <tr>\n",
       "      <th>2020-11-05 10:48:37</th>\n",
       "      <td>Oppenheimer</td>\n",
       "      <td>Outperform</td>\n",
       "      <td>Perform</td>\n",
       "      <td>up</td>\n",
       "    </tr>\n",
       "    <tr>\n",
       "      <th>2020-11-24 11:17:51</th>\n",
       "      <td>KeyBanc</td>\n",
       "      <td>Overweight</td>\n",
       "      <td></td>\n",
       "      <td>init</td>\n",
       "    </tr>\n",
       "  </tbody>\n",
       "</table>\n",
       "</div>"
      ],
      "text/plain": [
       "                              Firm    To Grade From Grade Action\n",
       "Date                                                            \n",
       "2020-10-29 16:00:20  Deutsche Bank         Buy              main\n",
       "2020-11-05 10:48:37    Oppenheimer  Outperform    Perform     up\n",
       "2020-11-24 11:17:51        KeyBanc  Overweight              init"
      ]
     },
     "execution_count": 95,
     "metadata": {},
     "output_type": "execute_result"
    }
   ],
   "source": [
    "stock.recommendations.tail(3)"
   ]
  },
  {
   "cell_type": "markdown",
   "metadata": {},
   "source": [
    "O Yahoo Finance tem muito mais informações que nós não exploramos. Para ver quantas informações o objeto `stock` traz dentro de si, basta rodar:"
   ]
  },
  {
   "cell_type": "code",
   "execution_count": 96,
   "metadata": {},
   "outputs": [
    {
     "data": {
      "text/plain": [
       "['__class__',\n",
       " '__delattr__',\n",
       " '__dict__',\n",
       " '__dir__',\n",
       " '__doc__',\n",
       " '__eq__',\n",
       " '__format__',\n",
       " '__ge__',\n",
       " '__getattribute__',\n",
       " '__gt__',\n",
       " '__hash__',\n",
       " '__init__',\n",
       " '__init_subclass__',\n",
       " '__le__',\n",
       " '__lt__',\n",
       " '__module__',\n",
       " '__ne__',\n",
       " '__new__',\n",
       " '__reduce__',\n",
       " '__reduce_ex__',\n",
       " '__repr__',\n",
       " '__setattr__',\n",
       " '__sizeof__',\n",
       " '__str__',\n",
       " '__subclasshook__',\n",
       " '__weakref__',\n",
       " '_balancesheet',\n",
       " '_base_url',\n",
       " '_calendar',\n",
       " '_cashflow',\n",
       " '_download_options',\n",
       " '_earnings',\n",
       " '_expirations',\n",
       " '_financials',\n",
       " '_fundamentals',\n",
       " '_get_fundamentals',\n",
       " '_history',\n",
       " '_info',\n",
       " '_institutional_holders',\n",
       " '_isin',\n",
       " '_major_holders',\n",
       " '_mutualfund_holders',\n",
       " '_options2df',\n",
       " '_recommendations',\n",
       " '_scrape_url',\n",
       " '_sustainability',\n",
       " 'actions',\n",
       " 'balance_sheet',\n",
       " 'balancesheet',\n",
       " 'calendar',\n",
       " 'cashflow',\n",
       " 'dividends',\n",
       " 'earnings',\n",
       " 'financials',\n",
       " 'get_actions',\n",
       " 'get_balance_sheet',\n",
       " 'get_balancesheet',\n",
       " 'get_calendar',\n",
       " 'get_cashflow',\n",
       " 'get_dividends',\n",
       " 'get_earnings',\n",
       " 'get_financials',\n",
       " 'get_info',\n",
       " 'get_institutional_holders',\n",
       " 'get_isin',\n",
       " 'get_major_holders',\n",
       " 'get_mutualfund_holders',\n",
       " 'get_recommendations',\n",
       " 'get_splits',\n",
       " 'get_sustainability',\n",
       " 'history',\n",
       " 'info',\n",
       " 'institutional_holders',\n",
       " 'isin',\n",
       " 'major_holders',\n",
       " 'mutualfund_holders',\n",
       " 'option_chain',\n",
       " 'options',\n",
       " 'quarterly_balance_sheet',\n",
       " 'quarterly_balancesheet',\n",
       " 'quarterly_cashflow',\n",
       " 'quarterly_earnings',\n",
       " 'quarterly_financials',\n",
       " 'recommendations',\n",
       " 'splits',\n",
       " 'sustainability',\n",
       " 'ticker']"
      ]
     },
     "execution_count": 96,
     "metadata": {},
     "output_type": "execute_result"
    }
   ],
   "source": [
    "dir(stock)"
   ]
  },
  {
   "cell_type": "markdown",
   "metadata": {},
   "source": [
    "Para saber mais sobre o API do Yahoo Finance, busque [aqui](https://pypi.org/project/yfinance/).  \n",
    "Este material foi inspirado nesta documentação."
   ]
  },
  {
   "cell_type": "code",
   "execution_count": null,
   "metadata": {},
   "outputs": [],
   "source": []
  }
 ],
 "metadata": {
  "kernelspec": {
   "display_name": "Python 3",
   "language": "python",
   "name": "python3"
  },
  "language_info": {
   "codemirror_mode": {
    "name": "ipython",
    "version": 3
   },
   "file_extension": ".py",
   "mimetype": "text/x-python",
   "name": "python",
   "nbconvert_exporter": "python",
   "pygments_lexer": "ipython3",
   "version": "3.7.1"
  }
 },
 "nbformat": 4,
 "nbformat_minor": 4
}
