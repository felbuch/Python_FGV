{
 "cells": [
  {
   "cell_type": "markdown",
   "metadata": {},
   "source": [
    "## Análise de investimento com incerteza (Simulação de Monte Carlo)\n",
    "\n",
    "Valor futuro de um investimento:\n",
    "\n",
    "$$\n",
    "VF = VP \\cdot (1 + i)^n\n",
    "$$\n",
    "\n",
    "O retorno ($i$) é incerto, mas acredita-se que estará entre $-5\\%$ e $10\\%$ ao ano.  \n",
    "Consideremos um investimento de $10.000$.  \n",
    "Quanto ele estará valendo depois de 5 anos?"
   ]
  },
  {
   "cell_type": "code",
   "execution_count": 1,
   "metadata": {},
   "outputs": [],
   "source": [
    "#Parametros\n",
    "VP = 10000\n",
    "n = 5"
   ]
  },
  {
   "cell_type": "code",
   "execution_count": 2,
   "metadata": {},
   "outputs": [],
   "source": [
    "def VF(i, VP = VP, n = n):\n",
    "    return(VP * (1 + i)**n)"
   ]
  },
  {
   "cell_type": "code",
   "execution_count": 3,
   "metadata": {},
   "outputs": [],
   "source": [
    "#Numero de simulacoes\n",
    "NSim = 10**6"
   ]
  },
  {
   "cell_type": "code",
   "execution_count": 4,
   "metadata": {},
   "outputs": [],
   "source": [
    "import numpy as np\n",
    "import numpy.random as npr\n",
    "\n",
    "npr.seed(0)\n",
    "i = npr.uniform(low=-0.05, high=0.10, size = NSim)"
   ]
  },
  {
   "cell_type": "code",
   "execution_count": 5,
   "metadata": {},
   "outputs": [],
   "source": [
    "#Simular NSim cenários\n",
    "VF_simulados = VF(i)"
   ]
  },
  {
   "cell_type": "code",
   "execution_count": 6,
   "metadata": {},
   "outputs": [
    {
     "data": {
      "text/plain": [
       "11519.580827121608"
      ]
     },
     "execution_count": 6,
     "metadata": {},
     "output_type": "execute_result"
    }
   ],
   "source": [
    "#Valor esperado do investimento\n",
    "np.mean(VF_simulados)"
   ]
  },
  {
   "cell_type": "code",
   "execution_count": 7,
   "metadata": {},
   "outputs": [
    {
     "data": {
      "text/plain": [
       "11320.773008578744"
      ]
     },
     "execution_count": 7,
     "metadata": {},
     "output_type": "execute_result"
    }
   ],
   "source": [
    "#Valor mediano do investimento\n",
    "np.median(VF_simulados)"
   ]
  },
  {
   "cell_type": "code",
   "execution_count": 8,
   "metadata": {},
   "outputs": [
    {
     "data": {
      "text/plain": [
       "0.332802"
      ]
     },
     "execution_count": 8,
     "metadata": {},
     "output_type": "execute_result"
    }
   ],
   "source": [
    "#Probabilidade de perder dinheiro\n",
    "sum(VF_simulados < VP)/len(VF_simulados)"
   ]
  },
  {
   "cell_type": "code",
   "execution_count": 9,
   "metadata": {},
   "outputs": [
    {
     "data": {
      "text/plain": [
       "8050.673707347896"
      ]
     },
     "execution_count": 9,
     "metadata": {},
     "output_type": "execute_result"
    }
   ],
   "source": [
    "#Var 5%\n",
    "np.quantile(VF_simulados, q = 0.05)"
   ]
  },
  {
   "cell_type": "markdown",
   "metadata": {},
   "source": [
    "# Avaliação de ações com base no Método de Monte Carlo\n",
    "\n",
    "Imagine uma ação. Por simplicidade, pense que ela vale 1 real.  \n",
    "Acredita-se que, ao longo do próximo ano, a ação terá rendimentos diários entre -10% e +10%.\n",
    "\n",
    "Qual é a probabilidade de ganharmos dinheiro com essa ação?\n",
    "Pare e pense antes de avançar. A ação tem a mesma chance de subir e de cair.  \n",
    "Se subir, sobe até 10%. Se cair, cai até 10%.  \n",
    "Qual é a probabilidade de você ganhar dinheiro com essa ação, ao final de 1 ano?\n",
    "\n",
    "Guarde sua resposta.  \n",
    "Voltaremos a ela depois.\n",
    "\n",
    "Uma forma de abordar essa questão é simular um número muito grande de evoluções possíveis para essa ação. Vamos simular 10 mil cenários por um período de 1 ano (252 dias)"
   ]
  },
  {
   "cell_type": "code",
   "execution_count": 10,
   "metadata": {},
   "outputs": [],
   "source": [
    "NSim = int(1e4)\n",
    "T = 252\n",
    "npr.seed(0)"
   ]
  },
  {
   "cell_type": "markdown",
   "metadata": {},
   "source": [
    "Construir um cenário é construir 10 mil possíveis séries de retornos diários ao longo de 252 dias. Vamos fazer isso:"
   ]
  },
  {
   "cell_type": "code",
   "execution_count": 11,
   "metadata": {},
   "outputs": [],
   "source": [
    "retornos = npr.uniform(low=-0.10, high=0.10, size = NSim * T).reshape(NSim, T)"
   ]
  },
  {
   "cell_type": "code",
   "execution_count": 12,
   "metadata": {},
   "outputs": [
    {
     "data": {
      "text/plain": [
       "(10000, 252)"
      ]
     },
     "execution_count": 12,
     "metadata": {},
     "output_type": "execute_result"
    }
   ],
   "source": [
    "retornos.shape"
   ]
  },
  {
   "cell_type": "markdown",
   "metadata": {},
   "source": [
    "Com um pouco de matemática de ensino médio, você consegue ver que a cada dia, o preço da ação é multiplicado por (1 + o retorno da ação naquele dia). Assim, o preço de uma ação após $n$ dias será\n",
    "\n",
    "$$\n",
    "\\prod_{i=1}^{n} (1 + r_i)\n",
    "$$\n",
    "\n",
    "Podemos calcular o preço da ação no tempo $t$ usando o método `.cumprod`, que significa \"produto cumulativo\":"
   ]
  },
  {
   "cell_type": "code",
   "execution_count": 13,
   "metadata": {},
   "outputs": [],
   "source": [
    "preco_t = (1 + retornos).cumprod(axis = 1)"
   ]
  },
  {
   "cell_type": "markdown",
   "metadata": {},
   "source": [
    "Vamos ver como a nossa ação se comporta em algumas das nossas simulações:"
   ]
  },
  {
   "cell_type": "code",
   "execution_count": 15,
   "metadata": {},
   "outputs": [
    {
     "data": {
      "image/png": "[encoded data removed]",
      "text/plain": [
       "<Figure size 432x288 with 1 Axes>"
      ]
     },
     "metadata": {
      "needs_background": "light"
     },
     "output_type": "display_data"
    }
   ],
   "source": [
    "import matplotlib.pyplot as plt\n",
    "\n",
    "plt.plot(preco_t[0]);"
   ]
  },
  {
   "cell_type": "code",
   "execution_count": 18,
   "metadata": {},
   "outputs": [
    {
     "data": {
      "image/png": "[encoded data removed]",
      "text/plain": [
       "<Figure size 432x288 with 1 Axes>"
      ]
     },
     "metadata": {
      "needs_background": "light"
     },
     "output_type": "display_data"
    }
   ],
   "source": [
    "plt.plot(preco_t[10]);"
   ]
  },
  {
   "cell_type": "markdown",
   "metadata": {},
   "source": [
    "Parece com o preço de uma ação de verdade?\n",
    "\n",
    "![acao](http://blogs.cfainstitute.org/investor/files/2012/12/BID-stock-prices.png)"
   ]
  },
  {
   "cell_type": "markdown",
   "metadata": {},
   "source": [
    "Nós estamos interessados no que acontece ao final de um ano. Vamos observar o preço final da ação em cada simulação:"
   ]
  },
  {
   "cell_type": "code",
   "execution_count": 22,
   "metadata": {},
   "outputs": [],
   "source": [
    "preco_final = preco_t[:,-1]"
   ]
  },
  {
   "cell_type": "markdown",
   "metadata": {},
   "source": [
    "Se você tem dúvidas de que o comando acima realmente nos dá o preço final, note que temos, de fato, 10000 preços, um para cada simulação:"
   ]
  },
  {
   "cell_type": "code",
   "execution_count": 23,
   "metadata": {},
   "outputs": [
    {
     "data": {
      "text/plain": [
       "(10000,)"
      ]
     },
     "execution_count": 23,
     "metadata": {},
     "output_type": "execute_result"
    }
   ],
   "source": [
    "preco_final.shape"
   ]
  },
  {
   "cell_type": "markdown",
   "metadata": {},
   "source": [
    "Agora podemos fazer as perguntas que importam.  \n",
    "\n",
    "Comecemos pela nossa pergunta principal:\n",
    "\n",
    "Qual é a probabilidade de ganharmos dinheiro com essa ação?"
   ]
  },
  {
   "cell_type": "code",
   "execution_count": 24,
   "metadata": {},
   "outputs": [
    {
     "data": {
      "text/plain": [
       "0.3213"
      ]
     },
     "execution_count": 24,
     "metadata": {},
     "output_type": "execute_result"
    }
   ],
   "source": [
    "sum(preco_final > 1) / len(preco_final)"
   ]
  },
  {
   "cell_type": "markdown",
   "metadata": {},
   "source": [
    "Não, não é 50%! É apenas 32%!  \n",
    "Se você está surpreso, pense assim:  \n",
    "Se uma ação cai 10%, você precisa de um aumento de mais do que 10% para recuperar a perda.  \n",
    "Ao longo de 252 dias, você vai ter dias ruins, e recuperar esses dias ruins se torna cada vez mais difícil.  \n",
    "Esse é o motivo pelo qual [Warren Buffet](https://en.wikipedia.org/wiki/Warren_Buffett) enunciou uma de suas regras mais famosas: [_Never lose money](https://www.investopedia.com/financial-edge/0210/rules-that-warren-buffett-lives-by.aspx#:~:text=Berkshire%20Hathaway%20CEO%20Warren%20Buffett%20is%20continuously%20ranked,sayings%20is%20%22Rule%20No.%201%3A%20Never%20lose%20money.)_.\n",
    "Nunca perca dinheiro, porque se você perder 10%, vai precisar de um ganho maior ainda para recuperar o patrimônio perdido.  \n",
    "\n",
    "Vamos abordar outras questões:\n",
    "\n",
    "Qual é o preço esperado dessa ação após 1 ano?"
   ]
  },
  {
   "cell_type": "code",
   "execution_count": 25,
   "metadata": {},
   "outputs": [
    {
     "data": {
      "text/plain": [
       "0.9931054227154898"
      ]
     },
     "execution_count": 25,
     "metadata": {},
     "output_type": "execute_result"
    }
   ],
   "source": [
    "preco_final.mean()"
   ]
  },
  {
   "cell_type": "markdown",
   "metadata": {},
   "source": [
    "Cerca de 1% abaixo do preço original!\n",
    "\n",
    "Outra pergunta muito importante em análise de investimentos é esta:\n",
    "\n",
    "Em 95% dos casos, qual é o menor valor que essa ação estará valendo após 1 ano?\n",
    "\n",
    "Isso se chama o _valor em risco_ (_value at risk_), ou simplemente [VAR](https://en.wikipedia.org/wiki/Value_at_risk), de uma ação."
   ]
  },
  {
   "cell_type": "code",
   "execution_count": 26,
   "metadata": {},
   "outputs": [
    {
     "data": {
      "text/plain": [
       "0.14405462623530843"
      ]
     },
     "execution_count": 26,
     "metadata": {},
     "output_type": "execute_result"
    }
   ],
   "source": [
    "np.quantile(preco_final, q=0.05)"
   ]
  },
  {
   "cell_type": "markdown",
   "metadata": {},
   "source": [
    "Ou seja, em 95% dos casos a ação que compramos por 1 real estará valendo pelo menos 14 centavos ao final do ano. Muito arriscada essa ação, você não acha?  \n",
    "\n",
    "Considerar o risco de uma ação é fundamental em qualquer gestão de portfólio. O conceito de VAR surge exatamente como resposta a um dos casos mais emblemáticos de falha na gestão de risco e de auditoria: [a falência do banco Barrings](https://en.wikipedia.org/wiki/Barings_Bank), um dos maiores bancos da Inglaterra e do mundo, que por causa de um único funcionário, acabou falindo e sendo vendido por apenas uma libra.\n",
    "\n",
    "Você toparia comprar um dos maiores bancos do mundo por uma libra?"
   ]
  },
  {
   "cell_type": "markdown",
   "metadata": {},
   "source": [
    "### Cálculo de $\\pi$ pelo método de Monte Carlo\n",
    "\n",
    "![pi](https://upload.wikimedia.org/wikipedia/commons/thumb/8/84/Pi_30K.gif/330px-Pi_30K.gif)\n",
    "\n",
    "Jogamos pontos aleatoriamente no quadrado de lado $1$.\n",
    "\n",
    "O número de pontos dentro do círculo é proporcional à área do círculo.  \n",
    "O número de pontos dentro do quadrad é proporcional à área do quadrad.\n",
    "\n",
    "A área do quadrado é 1.  \n",
    "A área do círculo é $\\frac{1}{4}\\pi$\n",
    "\n",
    "Assim, \n",
    "\n",
    "$$\n",
    "\\frac{N_c}{N_q} = \\frac{\\pi}{4}\n",
    "$$\n",
    "\n",
    "e portanto\n",
    "\n",
    "$$\n",
    "\\pi = 4 \\cdot \\frac{N_c}{N_q}\n",
    "$$\n",
    "\n",
    "Vamos jogar pontos no quadrado:"
   ]
  },
  {
   "cell_type": "code",
   "execution_count": 89,
   "metadata": {},
   "outputs": [],
   "source": [
    "Nq = 10**6\n",
    "x = npr.random(Nq)\n",
    "y = npr.random(Nq)"
   ]
  },
  {
   "cell_type": "markdown",
   "metadata": {},
   "source": [
    "Quantos pontos cairam dentro do círculo?"
   ]
  },
  {
   "cell_type": "code",
   "execution_count": 93,
   "metadata": {},
   "outputs": [
    {
     "data": {
      "text/plain": [
       "785153"
      ]
     },
     "execution_count": 93,
     "metadata": {},
     "output_type": "execute_result"
    }
   ],
   "source": [
    "Nc = np.sum(x**2 + y**2 < 1) #Usamos np.sum porque é mais rápido do que o sum nativo do Python\n",
    "Nc"
   ]
  },
  {
   "cell_type": "markdown",
   "metadata": {},
   "source": [
    "Isso nos dá um valor de $\\pi$ igual a..."
   ]
  },
  {
   "cell_type": "code",
   "execution_count": 94,
   "metadata": {},
   "outputs": [
    {
     "data": {
      "text/plain": [
       "3.140612"
      ]
     },
     "execution_count": 94,
     "metadata": {},
     "output_type": "execute_result"
    }
   ],
   "source": [
    "4 * Nc / Nq"
   ]
  },
  {
   "cell_type": "code",
   "execution_count": 95,
   "metadata": {},
   "outputs": [],
   "source": [
    "def estima_pi(N):\n",
    "    x = npr.random(N)\n",
    "    y = npr.random(N)\n",
    "    Nc = np.sum(x**2 + y**2 < 1)\n",
    "    pi = 4 * Nc / N\n",
    "    return(pi)"
   ]
  },
  {
   "cell_type": "code",
   "execution_count": 96,
   "metadata": {},
   "outputs": [
    {
     "name": "stdout",
     "output_type": "stream",
     "text": [
      "Wall time: 44.9 ms\n"
     ]
    },
    {
     "data": {
      "text/plain": [
       "3.143508"
      ]
     },
     "execution_count": 96,
     "metadata": {},
     "output_type": "execute_result"
    }
   ],
   "source": [
    "estima_pi(Nq)"
   ]
  },
  {
   "cell_type": "markdown",
   "metadata": {},
   "source": [
    "Se tentarmos jogar 10 mil pontos"
   ]
  },
  {
   "cell_type": "code",
   "execution_count": 145,
   "metadata": {},
   "outputs": [
    {
     "name": "stdout",
     "output_type": "stream",
     "text": [
      "Wall time: 18.8 s\n"
     ]
    },
    {
     "data": {
      "text/plain": [
       "3.141571188"
      ]
     },
     "execution_count": 145,
     "metadata": {},
     "output_type": "execute_result"
    }
   ],
   "source": [
    "%%time\n",
    "#Isso demora uns 20 segundos\n",
    "NSim = 10**5\n",
    "N = 10**4 # Nós reduzimos o número de pontos\n",
    "estimativas = []\n",
    "for i in range(NSim):\n",
    "    estimativas.append(estima_pi(N))\n",
    "    \n",
    "np.mean(estimativas)"
   ]
  },
  {
   "cell_type": "code",
   "execution_count": 146,
   "metadata": {},
   "outputs": [
    {
     "data": {
      "image/png": "[encoded data removed]",
      "text/plain": [
       "<Figure size 720x288 with 1 Axes>"
      ]
     },
     "metadata": {
      "needs_background": "light"
     },
     "output_type": "display_data"
    }
   ],
   "source": [
    "plt.figure(figsize=(10,4))\n",
    "plt.hist(estimativas,bins=50)\n",
    "plt.axvline(x = pi, c='red',linestyle='dashed')\n",
    "plt.show()"
   ]
  },
  {
   "cell_type": "code",
   "execution_count": null,
   "metadata": {},
   "outputs": [],
   "source": []
  }
 ],
 "metadata": {
  "kernelspec": {
   "display_name": "Python 3",
   "language": "python",
   "name": "python3"
  },
  "language_info": {
   "codemirror_mode": {
    "name": "ipython",
    "version": 3
   },
   "file_extension": ".py",
   "mimetype": "text/x-python",
   "name": "python",
   "nbconvert_exporter": "python",
   "pygments_lexer": "ipython3",
   "version": "3.7.1"
  }
 },
 "nbformat": 4,
 "nbformat_minor": 4
}
