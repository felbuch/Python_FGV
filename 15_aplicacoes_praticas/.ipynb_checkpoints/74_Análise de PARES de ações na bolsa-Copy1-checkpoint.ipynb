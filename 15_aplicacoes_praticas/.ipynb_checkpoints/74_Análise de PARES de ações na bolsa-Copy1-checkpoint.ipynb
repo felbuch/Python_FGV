{
 "cells": [
  {
   "cell_type": "code",
   "execution_count": null,
   "metadata": {},
   "outputs": [],
   "source": [
    "!pip install investpy\n",
    "!pip install tqdm"
   ]
  },
  {
   "cell_type": "code",
   "execution_count": 1,
   "metadata": {},
   "outputs": [],
   "source": [
    "import pandas as pd\n",
    "import investpy\n",
    "from datetime import datetime\n",
    "import numpy as np\n",
    "import matplotlib.pyplot as plt\n",
    "from tqdm import tqdm"
   ]
  },
  {
   "cell_type": "code",
   "execution_count": 2,
   "metadata": {},
   "outputs": [
    {
     "data": {
      "text/plain": [
       "'08/12/2020'"
      ]
     },
     "execution_count": 2,
     "metadata": {},
     "output_type": "execute_result"
    }
   ],
   "source": [
    "hoje = datetime.today().strftime('%d/%m/%Y')\n",
    "hoje"
   ]
  },
  {
   "cell_type": "code",
   "execution_count": 3,
   "metadata": {},
   "outputs": [],
   "source": [
    "ticker_1 = 'PETR4' #óleo e gas\n",
    "ticker_2 = 'MGLU3' #varejo"
   ]
  },
  {
   "cell_type": "code",
   "execution_count": 4,
   "metadata": {},
   "outputs": [],
   "source": [
    "p1 = investpy.get_stock_historical_data(ticker_1, country='brazil',from_date='1/1/2019',to_date=hoje)['Close']\n",
    "p2 = investpy.get_stock_historical_data(ticker_2, country='brazil',from_date='1/1/2019',to_date=hoje)['Close']"
   ]
  },
  {
   "cell_type": "code",
   "execution_count": 5,
   "metadata": {},
   "outputs": [],
   "source": [
    "r = [] #lista contendo os retornos dos portfolios\n",
    "σ = [] #lista contendo os riscos dos portfolios\n",
    "for f in np.arange(0,1,0.01):\n",
    "    portfolio = f * p1 + (1-f) * p2\n",
    "    retorno_diario = portfolio.pct_change()\n",
    "    r.append(100 * retorno_diario.mean())\n",
    "    σ.append(100 * retorno_diario.std())"
   ]
  },
  {
   "cell_type": "code",
   "execution_count": 6,
   "metadata": {},
   "outputs": [
    {
     "data": {
      "image/png": "[encoded data removed]",
      "text/plain": [
       "<Figure size 432x288 with 1 Axes>"
      ]
     },
     "metadata": {
      "needs_background": "light"
     },
     "output_type": "display_data"
    }
   ],
   "source": [
    "plt.scatter(σ, r)\n",
    "plt.xlabel('risco (%)')\n",
    "plt.ylabel('retorno esperado (%)')\n",
    "plt.grid('on')\n",
    "plt.show()"
   ]
  },
  {
   "cell_type": "markdown",
   "metadata": {},
   "source": [
    "Cada ponto corresponde a uma carteira com frações diferentes de cada ação.  \n",
    "Repare que existem duas carteiras com risco $3.2\\%$.  \n",
    "Tanto faz uma ou a outra?... ou nao?\n",
    "\n",
    "E se tivermos mais do que duas ações? Tipo... 100?\n",
    "\n",
    "### 3 ações"
   ]
  },
  {
   "cell_type": "markdown",
   "metadata": {},
   "source": [
    "Antes de considerarmos 100 ações, vamos desenvolver nossa intuição olhando o que acontece com 3 ações."
   ]
  },
  {
   "cell_type": "code",
   "execution_count": 7,
   "metadata": {},
   "outputs": [],
   "source": [
    "ticker_3 = 'CYRE3' #construção"
   ]
  },
  {
   "cell_type": "code",
   "execution_count": 8,
   "metadata": {},
   "outputs": [],
   "source": [
    "p3 = investpy.get_stock_historical_data(ticker_3, country='brazil',from_date='1/1/2019',to_date=hoje)['Close']"
   ]
  },
  {
   "cell_type": "code",
   "execution_count": 9,
   "metadata": {},
   "outputs": [],
   "source": [
    "r12 = []\n",
    "σ12 = []\n",
    "\n",
    "r13 = []\n",
    "σ13 = []\n",
    "\n",
    "r23 = []\n",
    "σ23 = []\n",
    "\n",
    "for f in np.arange(0,1,0.01):\n",
    "    \n",
    "    #Portfolio 1-2\n",
    "    \n",
    "    portfolio = f * p1 + (1-f) * p2\n",
    "    retorno_diario = portfolio.pct_change()\n",
    "    r12.append(100 * retorno_diario.mean())\n",
    "    σ12.append(100 * retorno_diario.std())\n",
    "    \n",
    "    #Portfolio 1-3\n",
    "    \n",
    "    portfolio = f * p1 + (1-f) * p3\n",
    "    retorno_diario = portfolio.pct_change()\n",
    "    r13.append(100 * retorno_diario.mean())\n",
    "    σ13.append(100 * retorno_diario.std())\n",
    "    \n",
    "    #Portfolio 2-3\n",
    "    \n",
    "    portfolio = f * p2 + (1-f) * p3\n",
    "    retorno_diario = portfolio.pct_change()\n",
    "    r23.append(100 * retorno_diario.mean())\n",
    "    σ23.append(100 * retorno_diario.std())\n"
   ]
  },
  {
   "cell_type": "code",
   "execution_count": 10,
   "metadata": {},
   "outputs": [
    {
     "data": {
      "image/png": "[encoded data removed]",
      "text/plain": [
       "<Figure size 432x288 with 1 Axes>"
      ]
     },
     "metadata": {
      "needs_background": "light"
     },
     "output_type": "display_data"
    }
   ],
   "source": [
    "plt.scatter(σ12, r12, c = 'red')\n",
    "plt.scatter(σ13, r13, c = 'navy')\n",
    "plt.scatter(σ23, r23, c = 'green')\n",
    "plt.xlabel('risco (%)')\n",
    "plt.ylabel('retorno esperado (%)')\n",
    "plt.grid('on')\n",
    "plt.show()"
   ]
  },
  {
   "cell_type": "markdown",
   "metadata": {},
   "source": [
    "Cada parábola corresponde a um par de ações.  \n",
    "Cada ponto de uma parábola corresponde a diferentes proporções dessas ações.\n",
    "Temos 3 ações, logo 3 pares possíveis, logo 3 parábolas.  \n",
    "\n",
    "Repare que uma das parábolas _envolve_ as demais.  \n",
    "Todas as parábolas _cabem dentro_ de uma parábola maior.  \n",
    "\n",
    "Faz sentido comprar as ações das parábolas pequenininhas?\n",
    "\n",
    "### Muitas ações\n",
    "\n",
    "Vamos ver o que acontece se tivermos várias ações. 100.  \n",
    "\n",
    "Esta função busca no _Investing.com_ 100 tickers de ações na bolsa de valores do Brasil."
   ]
  },
  {
   "cell_type": "code",
   "execution_count": 11,
   "metadata": {},
   "outputs": [],
   "source": [
    "tickers = investpy.get_stocks_overview(country='brazil', n_results=100).symbol"
   ]
  },
  {
   "cell_type": "code",
   "execution_count": 12,
   "metadata": {},
   "outputs": [
    {
     "data": {
      "text/plain": [
       "100"
      ]
     },
     "execution_count": 12,
     "metadata": {},
     "output_type": "execute_result"
    }
   ],
   "source": [
    "len(tickers)"
   ]
  },
  {
   "cell_type": "markdown",
   "metadata": {},
   "source": [
    "Vamos buscar o preço dessas ações.  \n",
    "Vamos considerar apenas ações com mais de 360 dias de negociação:"
   ]
  },
  {
   "cell_type": "code",
   "execution_count": 13,
   "metadata": {},
   "outputs": [
    {
     "name": "stderr",
     "output_type": "stream",
     "text": [
      "100%|██████████| 100/100 [00:56<00:00,  1.77it/s]\n"
     ]
    }
   ],
   "source": [
    "preco = {}\n",
    "for t in tqdm(tickers):\n",
    "    preco_da_acao = investpy.get_stock_historical_data(t, country='brazil',from_date='1/1/2019',to_date=hoje)['Close']\n",
    "    if len(preco_da_acao) > 360: #Vamos considerar apenas ações negociadas a mais de 1 ano\n",
    "        preco[t] = preco_da_acao"
   ]
  },
  {
   "cell_type": "markdown",
   "metadata": {},
   "source": [
    "Agora, vamos construir portfólios!  \n",
    "Não conseguiremos construir todos os portfólios, porque são muitos: $\\binom{100}{2} = 4950$ pares possiveis, cada par podendo ser formado com diferentes quantidades de uma ação ou outra.  \n",
    "\n",
    "Então, vamos _gerar 10.000 portfólios aleatórios_:\n",
    "* Sorteamos um par de ações\n",
    "* Sorteamos quanto de cada ação terá no portfólio\n",
    "* Calculamos o retorno esperado e o risco desse portfólio\n"
   ]
  },
  {
   "cell_type": "code",
   "execution_count": 14,
   "metadata": {},
   "outputs": [
    {
     "data": {
      "text/plain": [
       "91"
      ]
     },
     "execution_count": 14,
     "metadata": {},
     "output_type": "execute_result"
    }
   ],
   "source": [
    "len(preco)"
   ]
  },
  {
   "cell_type": "code",
   "execution_count": 15,
   "metadata": {},
   "outputs": [],
   "source": [
    "tickers = list(preco.keys()) #atualizamos a lista com os tickers que de fato temos"
   ]
  },
  {
   "cell_type": "code",
   "execution_count": 16,
   "metadata": {},
   "outputs": [
    {
     "name": "stderr",
     "output_type": "stream",
     "text": [
      "100%|██████████| 10000/10000 [00:10<00:00, 932.31it/s]\n"
     ]
    }
   ],
   "source": [
    "numero_de_simulacoes = 10**4\n",
    "\n",
    "output = {'acao_1':[],\n",
    "          'acao_2':[],\n",
    "          'fracao':[],\n",
    "          'r':[],\n",
    "          'σ':[]\n",
    "         }\n",
    "\n",
    "for simulacao in tqdm(range(numero_de_simulacoes)):\n",
    "    #Escolha a ação\n",
    "    acoes = np.random.choice(tickers, size=2, replace=False)\n",
    "    acao_1 = acoes[0] #primeira ação\n",
    "    acao_2 = acoes[1] #segunda ação\n",
    "    \n",
    "    #precos (series historicas)\n",
    "    p1 = preco[acao_1] #preço da primeira ação\n",
    "    p2 = preco[acao_2] #preço da segunda ação\n",
    "\n",
    "    #Fação da primeira ação no portfólio\n",
    "    f = np.random.random()\n",
    "    \n",
    "    output['acao_1'].append(acao_1)\n",
    "    output['acao_2'].append(acao_2)\n",
    "    output['fracao'].append(f)\n",
    "        \n",
    "    #Valor do portfolio (serie historica)\n",
    "    portfolio = f * p1 + (1-f) * p2\n",
    "        \n",
    "    #Risco e retorno\n",
    "    retorno_diario = portfolio.pct_change()\n",
    "    output['r'].append(100 * retorno_diario.mean())    \n",
    "    output['σ'].append(100 * retorno_diario.std())"
   ]
  },
  {
   "cell_type": "code",
   "execution_count": 18,
   "metadata": {},
   "outputs": [
    {
     "data": {
      "image/png": "[encoded data removed]",
      "text/plain": [
       "<Figure size 720x432 with 1 Axes>"
      ]
     },
     "metadata": {
      "needs_background": "light"
     },
     "output_type": "display_data"
    }
   ],
   "source": [
    "plt.figure(figsize=(10,6))\n",
    "plt.scatter(output['σ'], output['r'])\n",
    "plt.xlabel('risco (%)')\n",
    "plt.ylabel('retorno esperado (%)')\n",
    "plt.grid('on')\n",
    "plt.show()"
   ]
  },
  {
   "cell_type": "markdown",
   "metadata": {},
   "source": [
    "Você consegue enxergar a grande parábola onde cabem dentro todos os pontos?  "
   ]
  },
  {
   "cell_type": "markdown",
   "metadata": {},
   "source": [
    "Escolha qualquer ponto fora dessa parábola. \n",
    "Investir nesse portfólio não vale a pena, porque você sempre consegue um outro portfólio com:\n",
    "* Mais retorno e o mesmo nível de risco;\n",
    "* Menos risco e o mesmo nível de retorno\n",
    "\n",
    "Parabéns! Você acaba de descobrir a **Fronteira Eficiente de Markowitz**."
   ]
  },
  {
   "cell_type": "markdown",
   "metadata": {},
   "source": [
    "Por que isso é importante?\n",
    "\n",
    "Digamos que eu aceite um nível de risco de até 5%. Que ações eu devo comprar para ter o maior retorno possível?"
   ]
  },
  {
   "cell_type": "code",
   "execution_count": null,
   "metadata": {},
   "outputs": [],
   "source": [
    "import pandas as pd\n",
    "df = pd.DataFrame(output)\n",
    "df.head()"
   ]
  },
  {
   "cell_type": "code",
   "execution_count": null,
   "metadata": {},
   "outputs": [],
   "source": [
    "df.loc[(df.σ < 5)].sort_values('r', ascending=False).head(1)"
   ]
  },
  {
   "cell_type": "markdown",
   "metadata": {},
   "source": [
    "![markowitz-frontier](https://uk.scalable.capital/images/3x3i7a9xgm11/2s6len2dpSIM46oGkEQQ4A/5cb73a8b6812dc4b5a0621b57c6c3788/makowitz_efficient_frontier_hd-2.png)"
   ]
  }
 ],
 "metadata": {
  "kernelspec": {
   "display_name": "Python 3",
   "language": "python",
   "name": "python3"
  },
  "language_info": {
   "codemirror_mode": {
    "name": "ipython",
    "version": 3
   },
   "file_extension": ".py",
   "mimetype": "text/x-python",
   "name": "python",
   "nbconvert_exporter": "python",
   "pygments_lexer": "ipython3",
   "version": "3.7.1"
  }
 },
 "nbformat": 4,
 "nbformat_minor": 4
}
