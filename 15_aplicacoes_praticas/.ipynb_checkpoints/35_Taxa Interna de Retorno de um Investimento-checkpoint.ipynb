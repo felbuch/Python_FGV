{
 "cells": [
  {
   "cell_type": "markdown",
   "metadata": {},
   "source": [
    "### Aplicação: Taxa Interna de Retorno de um investimento e o Método de Newton\n",
    "\n",
    "Um empreendedor vai fazer um investimento que consiste em investir 100 milhões agora e obter 40 milhões nos 4 anos seguintes. Ele vai financiar esse investimento junto a um banco, que vai lhe cobrar uma taxa de juros. Qual é a maior taxa de juros que o empreendedor está disposto a pagar para, ainda assim, ter lucro com esse investimento?\n",
    "\n",
    "Quando você estudar Matemática Financeira, você vai aprender que a resposta para essa pergunta é a raiz desta função:\n",
    "\n",
    "$$\n",
    "f(x) = -100 + \\frac{40}{1+x} + \\frac{40}{(1+x)^2} + \\frac{40}{(1+x)^3} + \\frac{40}{(1+x)^4}\n",
    "$$\n",
    "\n",
    "Como podemos encontrar a raiz dessa função?\n",
    "\n",
    "Vocë vai aprender em Cálculo que a resposta se chama **Método de Newton**. A lógica é simples:\n",
    "\n",
    "![metodo-newton](http://www.cs.utsa.edu/~wagner/CS3343/newton/newton.gif)\n",
    "\n",
    "1. Chuta um valor qualquer para $x$.\n",
    "2. Descubra a reta tangente à função naquele ponto e encontre a raiz dessa reta. Essa raiz é uma aproximação para a raiz da função e será o seu novo \"chute\".\n",
    "3. Fique repetindo o passo 2 até que o valor que você está calculando mude muito pouquinho. Esse valor será, aproximadamente, o valor da raiz que você está buscando.\n",
    "\n",
    "Você vai aprender em Cálculo que a raiz da reta tangente a uma função $f(x)$ em um ponto $x_0$ é\n",
    "\n",
    "$$\n",
    "x_1 = x_0 - \\frac{f(x)}{f'(x)}\n",
    "$$\n",
    "\n",
    "onde \n",
    "\n",
    "$$\n",
    "f'(x) = \\frac{dy}{dx} = \\lim_{\\Delta x \\to 0} \\frac{f(x + \\Delta x) - f(x)}{\\Delta x}\n",
    "$$\n",
    "\n",
    "é chamada **derivada de f(x) no ponto x**.\n",
    "\n",
    "Calma. Você vai entender isso melhor quando estudar Cálculo.  \n",
    "O objetivo aqui é mostrar como é fácil programar isso em Python.   \n",
    "\n",
    "Vamos começar programando uma função que dá a derivada de uma outra função. Como a derivada implica um $dx$ pequenininho, vamos tomar um $dx$ de 0.0001."
   ]
  },
  {
   "cell_type": "code",
   "execution_count": 8,
   "metadata": {},
   "outputs": [],
   "source": [
    "def derivada(f, x, dx = 0.0001):\n",
    "    dy = f(x + dx) - f(x)\n",
    "    return(dy/dx)"
   ]
  },
  {
   "cell_type": "markdown",
   "metadata": {},
   "source": [
    "Agora, vamos criar uma função que, dada uma função $f(x)$ e um ponto $x$, calcula a raiz da reta tangente à função nesse ponto. Essa função meramente aplica a fórmula\n",
    "\n",
    "$$\n",
    "x_1 = x_0 - \\frac{f(x)}{f'(x)}\n",
    "$$\n"
   ]
  },
  {
   "cell_type": "code",
   "execution_count": 9,
   "metadata": {},
   "outputs": [],
   "source": [
    "def raiz_reta_tangente(f, x):\n",
    "    return(x - f(x)/derivada(f, x))"
   ]
  },
  {
   "cell_type": "markdown",
   "metadata": {},
   "source": [
    "O método de Newton consiste em aplicar a função acima várias vezes, enquanto o valor de $x_1$ e $x_0$ não mudarem mais. Podemos fazer isso usando o tema da aula de hoje: um _while loop_."
   ]
  },
  {
   "cell_type": "code",
   "execution_count": 10,
   "metadata": {},
   "outputs": [],
   "source": [
    "def raiz(f, x0, tol = 0.0001):\n",
    "    \n",
    "    x1 = raiz_reta_tangente(f, x0)\n",
    "    \n",
    "    while abs(x1 - x0) > tol:\n",
    "        x0 = x1\n",
    "        x1 = raiz_reta_tangente(f, x0)\n",
    "    \n",
    "    return(x1)"
   ]
  },
  {
   "cell_type": "markdown",
   "metadata": {},
   "source": [
    "Vamos testar se nossa função funciona na função $f(x) = x^2 - 25$. Sabemos que a raiz é 5. Logo, se nossas funções estiverem funcionando, o resultado deverá ser 5.\n",
    "\n",
    "Primeiro, montamos a função $f(x) = x^2 - 25$"
   ]
  },
  {
   "cell_type": "code",
   "execution_count": 11,
   "metadata": {},
   "outputs": [],
   "source": [
    "def f(x):\n",
    "    return(x**2 - 25)"
   ]
  },
  {
   "cell_type": "markdown",
   "metadata": {},
   "source": [
    "Agora, verificamos que nossa função funciona. Precisamos de um chute inicial. Vou colocar o dia do meu aniversário: 1301, um número bem, bem longe da raiz correta."
   ]
  },
  {
   "cell_type": "code",
   "execution_count": 12,
   "metadata": {},
   "outputs": [
    {
     "data": {
      "text/plain": [
       "5.000000000015194"
      ]
     },
     "execution_count": 12,
     "metadata": {},
     "output_type": "execute_result"
    }
   ],
   "source": [
    "raiz(f, 1301)"
   ]
  },
  {
   "cell_type": "markdown",
   "metadata": {},
   "source": [
    "Na mosca!!!! Vamos agora voltar ao problema do empreendedor. Qual é a maior taxa de juros que ele estaria disposo a pagar ao banco para, ainda assim, ter lucro no seu investimento?"
   ]
  },
  {
   "cell_type": "code",
   "execution_count": 13,
   "metadata": {},
   "outputs": [],
   "source": [
    "def f(x):\n",
    "    return(-100 + 40/(1+x) + 40/(1+x)**2 + 40/(1+x)**3 + 40/(1+x)**4)"
   ]
  },
  {
   "cell_type": "code",
   "execution_count": 14,
   "metadata": {},
   "outputs": [
    {
     "data": {
      "text/plain": [
       "0.21862269876723997"
      ]
     },
     "execution_count": 14,
     "metadata": {},
     "output_type": "execute_result"
    }
   ],
   "source": [
    "raiz(f, 0)"
   ]
  },
  {
   "cell_type": "markdown",
   "metadata": {},
   "source": [
    "Temos a resposta: 21.86% é o maior valor que um empreendedor estaria disposto a pagar para financiar esse empreendimento. Esse valor se chama **Taxa Interna de Retorno** do empreendimento, e é um dos valores mais importantes para avaliar se um investimento vale a pena.\n",
    "\n",
    "Para verificar que 21.86% realmente é a raiz da função do enunciado, vamos marcar esse ponto no gráfico dessa função:"
   ]
  },
  {
   "cell_type": "code",
   "execution_count": 15,
   "metadata": {},
   "outputs": [
    {
     "data": {
      "image/png": "[encoded data removed]",
      "text/plain": [
       "<Figure size 720x432 with 1 Axes>"
      ]
     },
     "metadata": {
      "needs_background": "light"
     },
     "output_type": "display_data"
    }
   ],
   "source": [
    "import matplotlib.pyplot as plt\n",
    "import numpy as np\n",
    "x = np.linspace(0,1)\n",
    "y = f(x)\n",
    "plt.figure(figsize=(10,6))\n",
    "plt.box(False)\n",
    "plt.axhline(y=0, c = 'black')\n",
    "plt.axvline(x=0, c = 'black')\n",
    "plt.plot(x,y)\n",
    "plt.plot(raiz(f,0), 0, 'ro') #Raiz calculada\n",
    "plt.grid('on')\n",
    "plt.ylim(-80,80)\n",
    "plt.xlabel('custo do financiamento')\n",
    "plt.ylabel('valor presente líquido do investimento')\n",
    "plt.show()"
   ]
  },
  {
   "cell_type": "code",
   "execution_count": null,
   "metadata": {},
   "outputs": [],
   "source": []
  }
 ],
 "metadata": {
  "kernelspec": {
   "display_name": "Python 3",
   "language": "python",
   "name": "python3"
  },
  "language_info": {
   "codemirror_mode": {
    "name": "ipython",
    "version": 3
   },
   "file_extension": ".py",
   "mimetype": "text/x-python",
   "name": "python",
   "nbconvert_exporter": "python",
   "pygments_lexer": "ipython3",
   "version": "3.7.1"
  }
 },
 "nbformat": 4,
 "nbformat_minor": 4
}
