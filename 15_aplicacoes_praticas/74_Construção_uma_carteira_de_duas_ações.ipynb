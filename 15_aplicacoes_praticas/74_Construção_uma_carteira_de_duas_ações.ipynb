{
 "cells": [
  {
   "cell_type": "code",
   "execution_count": 1,
   "metadata": {},
   "outputs": [
    {
     "name": "stdout",
     "output_type": "stream",
     "text": [
      "Requirement already satisfied: investpy in c:\\programdata\\anaconda3\\lib\\site-packages (1.0)\n",
      "Requirement already satisfied: Unidecode>=1.1.1 in c:\\programdata\\anaconda3\\lib\\site-packages (from investpy) (1.1.1)\n",
      "Requirement already satisfied: pytz>=2019.3 in c:\\programdata\\anaconda3\\lib\\site-packages (from investpy) (2020.1)\n",
      "Requirement already satisfied: numpy>=1.17.2 in c:\\programdata\\anaconda3\\lib\\site-packages (from investpy) (1.18.5)\n",
      "Requirement already satisfied: pandas>=0.25.1 in c:\\programdata\\anaconda3\\lib\\site-packages (from investpy) (1.1.0)\n",
      "Requirement already satisfied: requests>=2.22.0 in c:\\programdata\\anaconda3\\lib\\site-packages (from investpy) (2.24.0)\n",
      "Requirement already satisfied: setuptools>=41.2.0 in c:\\users\\felipe\\appdata\\roaming\\python\\python37\\site-packages (from investpy) (50.3.2)\n",
      "Requirement already satisfied: lxml>=4.4.1 in c:\\programdata\\anaconda3\\lib\\site-packages (from investpy) (4.5.2)\n",
      "Requirement already satisfied: python-dateutil>=2.7.3 in c:\\programdata\\anaconda3\\lib\\site-packages (from pandas>=0.25.1->investpy) (2.8.1)\n",
      "Requirement already satisfied: idna<3,>=2.5 in c:\\programdata\\anaconda3\\lib\\site-packages (from requests>=2.22.0->investpy) (2.10)\n",
      "Requirement already satisfied: certifi>=2017.4.17 in c:\\programdata\\anaconda3\\lib\\site-packages (from requests>=2.22.0->investpy) (2020.6.20)\n",
      "Requirement already satisfied: chardet<4,>=3.0.2 in c:\\programdata\\anaconda3\\lib\\site-packages (from requests>=2.22.0->investpy) (3.0.4)\n",
      "Requirement already satisfied: urllib3!=1.25.0,!=1.25.1,<1.26,>=1.21.1 in c:\\programdata\\anaconda3\\lib\\site-packages (from requests>=2.22.0->investpy) (1.25.9)\n",
      "Requirement already satisfied: six>=1.5 in c:\\programdata\\anaconda3\\lib\\site-packages (from python-dateutil>=2.7.3->pandas>=0.25.1->investpy) (1.15.0)\n",
      "Requirement already satisfied: tqdm in c:\\programdata\\anaconda3\\lib\\site-packages (4.48.2)\n"
     ]
    }
   ],
   "source": [
    "!pip install investpy\n",
    "!pip install tqdm"
   ]
  },
  {
   "cell_type": "code",
   "execution_count": 2,
   "metadata": {},
   "outputs": [],
   "source": [
    "import pandas as pd\n",
    "import investpy\n",
    "from datetime import datetime\n",
    "import numpy as np\n",
    "import matplotlib.pyplot as plt\n",
    "from tqdm import tqdm"
   ]
  },
  {
   "cell_type": "code",
   "execution_count": 3,
   "metadata": {},
   "outputs": [
    {
     "data": {
      "text/plain": [
       "'10/12/2020'"
      ]
     },
     "execution_count": 3,
     "metadata": {},
     "output_type": "execute_result"
    }
   ],
   "source": [
    "hoje = datetime.today().strftime('%d/%m/%Y')\n",
    "hoje"
   ]
  },
  {
   "cell_type": "code",
   "execution_count": 4,
   "metadata": {},
   "outputs": [],
   "source": [
    "ticker_1 = 'PETR4' #óleo e gas\n",
    "ticker_2 = 'MGLU3' #varejo"
   ]
  },
  {
   "cell_type": "code",
   "execution_count": 5,
   "metadata": {},
   "outputs": [],
   "source": [
    "p1 = investpy.get_stock_historical_data(ticker_1, country='brazil',from_date='1/1/2019',to_date=hoje)['Close']\n",
    "p2 = investpy.get_stock_historical_data(ticker_2, country='brazil',from_date='1/1/2019',to_date=hoje)['Close']"
   ]
  },
  {
   "cell_type": "code",
   "execution_count": 6,
   "metadata": {},
   "outputs": [],
   "source": [
    "r = [] #lista contendo os retornos dos portfolios\n",
    "σ = [] #lista contendo os riscos dos portfolios\n",
    "for f in np.arange(0,1,0.01):\n",
    "    portfolio = f * p1 + (1-f) * p2\n",
    "    retorno_diario = portfolio.pct_change()\n",
    "    r.append(100 * retorno_diario.mean())\n",
    "    σ.append(100 * retorno_diario.std())"
   ]
  },
  {
   "cell_type": "code",
   "execution_count": 7,
   "metadata": {},
   "outputs": [
    {
     "data": {
      "image/png": "[encoded data removed]",
      "text/plain": [
       "<Figure size 432x288 with 1 Axes>"
      ]
     },
     "metadata": {
      "needs_background": "light"
     },
     "output_type": "display_data"
    }
   ],
   "source": [
    "plt.scatter(σ, r)\n",
    "plt.xlabel('risco (%)')\n",
    "plt.ylabel('retorno esperado (%)')\n",
    "plt.grid('on')\n",
    "plt.show()"
   ]
  },
  {
   "cell_type": "markdown",
   "metadata": {},
   "source": [
    "Cada ponto corresponde a uma carteira com frações diferentes de cada ação.  \n",
    "Repare que existem duas carteiras com risco $3.2\\%$.  \n",
    "Tanto faz uma ou a outra?... ou nao?"
   ]
  },
  {
   "cell_type": "markdown",
   "metadata": {},
   "source": [
    "E se tivermos mais do que duas ações? Tipo... 100?\n",
    "\n",
    "### 3 ações"
   ]
  },
  {
   "cell_type": "markdown",
   "metadata": {},
   "source": [
    "Antes de considerarmos 100 ações, vamos desenvolver nossa intuição olhando o que acontece com 3 ações."
   ]
  },
  {
   "cell_type": "code",
   "execution_count": 8,
   "metadata": {},
   "outputs": [],
   "source": [
    "ticker_3 = 'CYRE3' #construção"
   ]
  },
  {
   "cell_type": "code",
   "execution_count": 9,
   "metadata": {},
   "outputs": [],
   "source": [
    "p3 = investpy.get_stock_historical_data(ticker_3, country='brazil',from_date='1/1/2019',to_date=hoje)['Close']"
   ]
  },
  {
   "cell_type": "code",
   "execution_count": 10,
   "metadata": {},
   "outputs": [],
   "source": [
    "r12 = []\n",
    "σ12 = []\n",
    "\n",
    "r13 = []\n",
    "σ13 = []\n",
    "\n",
    "r23 = []\n",
    "σ23 = []\n",
    "\n",
    "for f in np.arange(0,1,0.01):\n",
    "    \n",
    "    #Portfolio 1-2\n",
    "    \n",
    "    portfolio = f * p1 + (1-f) * p2\n",
    "    retorno_diario = portfolio.pct_change()\n",
    "    r12.append(100 * retorno_diario.mean())\n",
    "    σ12.append(100 * retorno_diario.std())\n",
    "    \n",
    "    #Portfolio 1-3\n",
    "    \n",
    "    portfolio = f * p1 + (1-f) * p3\n",
    "    retorno_diario = portfolio.pct_change()\n",
    "    r13.append(100 * retorno_diario.mean())\n",
    "    σ13.append(100 * retorno_diario.std())\n",
    "    \n",
    "    #Portfolio 2-3\n",
    "    \n",
    "    portfolio = f * p2 + (1-f) * p3\n",
    "    retorno_diario = portfolio.pct_change()\n",
    "    r23.append(100 * retorno_diario.mean())\n",
    "    σ23.append(100 * retorno_diario.std())\n"
   ]
  },
  {
   "cell_type": "code",
   "execution_count": 11,
   "metadata": {},
   "outputs": [
    {
     "data": {
      "image/png": "[encoded data removed]",
      "text/plain": [
       "<Figure size 432x288 with 1 Axes>"
      ]
     },
     "metadata": {
      "needs_background": "light"
     },
     "output_type": "display_data"
    }
   ],
   "source": [
    "plt.scatter(σ12, r12, c = 'red')\n",
    "plt.scatter(σ13, r13, c = 'navy')\n",
    "plt.scatter(σ23, r23, c = 'green')\n",
    "plt.xlabel('risco (%)')\n",
    "plt.ylabel('retorno esperado (%)')\n",
    "plt.grid('on')\n",
    "plt.show()"
   ]
  },
  {
   "cell_type": "markdown",
   "metadata": {},
   "source": [
    "Cada parábola corresponde a um par de ações.  \n",
    "Cada ponto de uma parábola corresponde a diferentes proporções dessas ações.\n",
    "Temos 3 ações, logo 3 pares possíveis, logo 3 parábolas.  \n",
    "\n",
    "Repare que uma das parábolas _envolve_ as demais.  \n",
    "Todas as parábolas _cabem dentro_ de uma parábola maior.  \n",
    "\n",
    "Faz sentido comprar as ações das parábolas pequenininhas?\n",
    "\n",
    "### Muitas ações\n",
    "\n",
    "Vamos ver o que acontece se tivermos várias ações. 100.  \n",
    "\n",
    "Esta função busca no _Investing.com_ 100 tickers de ações na bolsa de valores do Brasil."
   ]
  },
  {
   "cell_type": "code",
   "execution_count": 12,
   "metadata": {},
   "outputs": [],
   "source": [
    "tickers = investpy.get_stocks_overview(country='brazil', n_results=100).symbol"
   ]
  },
  {
   "cell_type": "code",
   "execution_count": 13,
   "metadata": {},
   "outputs": [
    {
     "data": {
      "text/plain": [
       "100"
      ]
     },
     "execution_count": 13,
     "metadata": {},
     "output_type": "execute_result"
    }
   ],
   "source": [
    "len(tickers)"
   ]
  },
  {
   "cell_type": "markdown",
   "metadata": {},
   "source": [
    "Vamos buscar o preço dessas ações.  \n",
    "Vamos considerar apenas ações com mais de 360 dias de negociação:"
   ]
  },
  {
   "cell_type": "code",
   "execution_count": 14,
   "metadata": {},
   "outputs": [
    {
     "name": "stderr",
     "output_type": "stream",
     "text": [
      "100%|██████████| 100/100 [00:59<00:00,  1.68it/s]\n"
     ]
    }
   ],
   "source": [
    "preco = {}\n",
    "for t in tqdm(tickers):\n",
    "    preco_da_acao = investpy.get_stock_historical_data(t, country='brazil',from_date='1/1/2019',to_date=hoje)['Close']\n",
    "    if len(preco_da_acao) > 360: #Vamos considerar apenas ações negociadas a mais de 1 ano\n",
    "        preco[t] = preco_da_acao"
   ]
  },
  {
   "cell_type": "markdown",
   "metadata": {},
   "source": [
    "Agora, vamos construir portfólios!  \n",
    "Não conseguiremos construir todos os portfólios, porque são muitos: $\\binom{100}{2} = 4950$ pares possiveis, cada par podendo ser formado com diferentes quantidades de uma ação ou outra.  \n",
    "\n",
    "Então, vamos _gerar 100.000 portfólios aleatórios_:\n",
    "* Sorteamos um par de ações\n",
    "* Sorteamos quanto de cada ação terá no portfólio\n",
    "* Calculamos o retorno esperado e o risco desse portfólio\n"
   ]
  },
  {
   "cell_type": "code",
   "execution_count": 15,
   "metadata": {},
   "outputs": [
    {
     "data": {
      "text/plain": [
       "91"
      ]
     },
     "execution_count": 15,
     "metadata": {},
     "output_type": "execute_result"
    }
   ],
   "source": [
    "len(preco)"
   ]
  },
  {
   "cell_type": "code",
   "execution_count": 16,
   "metadata": {},
   "outputs": [],
   "source": [
    "tickers = list(preco.keys()) #atualizamos a lista com os tickers que de fato temos"
   ]
  },
  {
   "cell_type": "code",
   "execution_count": 17,
   "metadata": {},
   "outputs": [
    {
     "name": "stderr",
     "output_type": "stream",
     "text": [
      "100%|██████████| 100000/100000 [01:48<00:00, 920.48it/s]\n"
     ]
    }
   ],
   "source": [
    "numero_de_simulacoes = 10**5\n",
    "\n",
    "output = {'acao_1':[],\n",
    "          'acao_2':[],\n",
    "          'fracao':[],\n",
    "          'r':[],\n",
    "          'σ':[]\n",
    "         }\n",
    "\n",
    "for simulacao in tqdm(range(numero_de_simulacoes)):\n",
    "    #Escolha a ação\n",
    "    acoes = np.random.choice(tickers, size=2, replace=False)\n",
    "    acao_1 = acoes[0] #primeira ação\n",
    "    acao_2 = acoes[1] #segunda ação\n",
    "    \n",
    "    #precos (series historicas)\n",
    "    p1 = preco[acao_1] #preço da primeira ação\n",
    "    p2 = preco[acao_2] #preço da segunda ação\n",
    "\n",
    "    #Fação da primeira ação no portfólio\n",
    "    f = np.random.random()\n",
    "    \n",
    "    output['acao_1'].append(acao_1)\n",
    "    output['acao_2'].append(acao_2)\n",
    "    output['fracao'].append(f)\n",
    "        \n",
    "    #Valor do portfolio (serie historica)\n",
    "    portfolio = f * p1 + (1-f) * p2\n",
    "        \n",
    "    #Risco e retorno\n",
    "    retorno_diario = portfolio.pct_change()\n",
    "    output['r'].append(100 * retorno_diario.mean())    \n",
    "    output['σ'].append(100 * retorno_diario.std())"
   ]
  },
  {
   "cell_type": "code",
   "execution_count": 18,
   "metadata": {},
   "outputs": [
    {
     "data": {
      "image/png": "[encoded data removed]",
      "text/plain": [
       "<Figure size 720x432 with 1 Axes>"
      ]
     },
     "metadata": {
      "needs_background": "light"
     },
     "output_type": "display_data"
    }
   ],
   "source": [
    "plt.figure(figsize=(10,6))\n",
    "plt.scatter(output['σ'], output['r'], s = 3)\n",
    "plt.xlabel('risco (%)')\n",
    "plt.ylabel('retorno esperado (%)')\n",
    "plt.grid('on')\n",
    "plt.show()"
   ]
  },
  {
   "cell_type": "markdown",
   "metadata": {},
   "source": [
    "Você consegue enxergar a grande parábola onde cabem dentro todos os pontos?  "
   ]
  },
  {
   "cell_type": "markdown",
   "metadata": {},
   "source": [
    "Escolha qualquer ponto fora dessa parábola. \n",
    "Investir nesse portfólio não vale a pena, porque você sempre consegue um outro portfólio com:\n",
    "* Mais retorno e o mesmo nível de risco;\n",
    "* Menos risco e o mesmo nível de retorno\n",
    "\n",
    "Parabéns! Você acaba de descobrir a **Fronteira Eficiente de Markowitz**."
   ]
  },
  {
   "cell_type": "markdown",
   "metadata": {},
   "source": [
    "Por que isso é importante?\n",
    "\n",
    "Digamos que eu aceite um nível de risco de até 5%. Que ações eu devo comprar para ter o maior retorno possível?"
   ]
  },
  {
   "cell_type": "code",
   "execution_count": 19,
   "metadata": {},
   "outputs": [
    {
     "data": {
      "text/html": [
       "<div>\n",
       "<style scoped>\n",
       "    .dataframe tbody tr th:only-of-type {\n",
       "        vertical-align: middle;\n",
       "    }\n",
       "\n",
       "    .dataframe tbody tr th {\n",
       "        vertical-align: top;\n",
       "    }\n",
       "\n",
       "    .dataframe thead th {\n",
       "        text-align: right;\n",
       "    }\n",
       "</style>\n",
       "<table border=\"1\" class=\"dataframe\">\n",
       "  <thead>\n",
       "    <tr style=\"text-align: right;\">\n",
       "      <th></th>\n",
       "      <th>acao_1</th>\n",
       "      <th>acao_2</th>\n",
       "      <th>fracao</th>\n",
       "      <th>r</th>\n",
       "      <th>σ</th>\n",
       "    </tr>\n",
       "  </thead>\n",
       "  <tbody>\n",
       "    <tr>\n",
       "      <th>0</th>\n",
       "      <td>B3SA3</td>\n",
       "      <td>BBRK3</td>\n",
       "      <td>0.066134</td>\n",
       "      <td>0.000484</td>\n",
       "      <td>3.449045</td>\n",
       "    </tr>\n",
       "    <tr>\n",
       "      <th>1</th>\n",
       "      <td>GGBR4</td>\n",
       "      <td>BBDC4</td>\n",
       "      <td>0.090568</td>\n",
       "      <td>0.030115</td>\n",
       "      <td>2.772623</td>\n",
       "    </tr>\n",
       "    <tr>\n",
       "      <th>2</th>\n",
       "      <td>CSAN3</td>\n",
       "      <td>CMIG3</td>\n",
       "      <td>0.595892</td>\n",
       "      <td>0.159440</td>\n",
       "      <td>2.715449</td>\n",
       "    </tr>\n",
       "    <tr>\n",
       "      <th>3</th>\n",
       "      <td>FESA4</td>\n",
       "      <td>CESP6</td>\n",
       "      <td>0.461483</td>\n",
       "      <td>0.039015</td>\n",
       "      <td>1.948544</td>\n",
       "    </tr>\n",
       "    <tr>\n",
       "      <th>4</th>\n",
       "      <td>ABCB4</td>\n",
       "      <td>CPLE3</td>\n",
       "      <td>0.839493</td>\n",
       "      <td>0.074058</td>\n",
       "      <td>2.268291</td>\n",
       "    </tr>\n",
       "  </tbody>\n",
       "</table>\n",
       "</div>"
      ],
      "text/plain": [
       "  acao_1 acao_2    fracao         r         σ\n",
       "0  B3SA3  BBRK3  0.066134  0.000484  3.449045\n",
       "1  GGBR4  BBDC4  0.090568  0.030115  2.772623\n",
       "2  CSAN3  CMIG3  0.595892  0.159440  2.715449\n",
       "3  FESA4  CESP6  0.461483  0.039015  1.948544\n",
       "4  ABCB4  CPLE3  0.839493  0.074058  2.268291"
      ]
     },
     "execution_count": 19,
     "metadata": {},
     "output_type": "execute_result"
    }
   ],
   "source": [
    "import pandas as pd\n",
    "df = pd.DataFrame(output)\n",
    "df.head()"
   ]
  },
  {
   "cell_type": "code",
   "execution_count": 20,
   "metadata": {},
   "outputs": [
    {
     "data": {
      "text/html": [
       "<div>\n",
       "<style scoped>\n",
       "    .dataframe tbody tr th:only-of-type {\n",
       "        vertical-align: middle;\n",
       "    }\n",
       "\n",
       "    .dataframe tbody tr th {\n",
       "        vertical-align: top;\n",
       "    }\n",
       "\n",
       "    .dataframe thead th {\n",
       "        text-align: right;\n",
       "    }\n",
       "</style>\n",
       "<table border=\"1\" class=\"dataframe\">\n",
       "  <thead>\n",
       "    <tr style=\"text-align: right;\">\n",
       "      <th></th>\n",
       "      <th>acao_1</th>\n",
       "      <th>acao_2</th>\n",
       "      <th>fracao</th>\n",
       "      <th>r</th>\n",
       "      <th>σ</th>\n",
       "    </tr>\n",
       "  </thead>\n",
       "  <tbody>\n",
       "    <tr>\n",
       "      <th>79044</th>\n",
       "      <td>ETER3</td>\n",
       "      <td>PRIO3</td>\n",
       "      <td>0.411747</td>\n",
       "      <td>0.482243</td>\n",
       "      <td>4.976503</td>\n",
       "    </tr>\n",
       "  </tbody>\n",
       "</table>\n",
       "</div>"
      ],
      "text/plain": [
       "      acao_1 acao_2    fracao         r         σ\n",
       "79044  ETER3  PRIO3  0.411747  0.482243  4.976503"
      ]
     },
     "execution_count": 20,
     "metadata": {},
     "output_type": "execute_result"
    }
   ],
   "source": [
    "df.loc[(df.σ < 5)].sort_values('r', ascending=False).head(1)"
   ]
  },
  {
   "cell_type": "markdown",
   "metadata": {},
   "source": [
    "![markowitz-frontier](https://uk.scalable.capital/images/3x3i7a9xgm11/2s6len2dpSIM46oGkEQQ4A/5cb73a8b6812dc4b5a0621b57c6c3788/makowitz_efficient_frontier_hd-2.png)"
   ]
  },
  {
   "cell_type": "code",
   "execution_count": null,
   "metadata": {},
   "outputs": [],
   "source": []
  }
 ],
 "metadata": {
  "kernelspec": {
   "display_name": "Python 3",
   "language": "python",
   "name": "python3"
  },
  "language_info": {
   "codemirror_mode": {
    "name": "ipython",
    "version": 3
   },
   "file_extension": ".py",
   "mimetype": "text/x-python",
   "name": "python",
   "nbconvert_exporter": "python",
   "pygments_lexer": "ipython3",
   "version": "3.7.1"
  }
 },
 "nbformat": 4,
 "nbformat_minor": 4
}
